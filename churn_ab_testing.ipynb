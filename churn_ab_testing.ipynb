{
 "cells": [
  {
   "cell_type": "markdown",
   "id": "10fc4c26-292e-409b-a47a-0d6a250c7b53",
   "metadata": {},
   "source": [
    "<a href=\"https://colab.research.google.com/github/datascience-uniandes/classification_tutorial/blob/master/churn/churn.ipynb\" target=\"_parent\"><img src=\"https://colab.research.google.com/assets/colab-badge.svg\" alt=\"Open In Colab\"/></a>"
   ]
  },
  {
   "cell_type": "markdown",
   "id": "2773d4b5-281e-42f7-84a9-adfb5514cb97",
   "metadata": {},
   "source": [
    "# A/B Testing: Detección de cancelación de clientes\n",
    "\n",
    "MINE-4101: Applied Data Science  \n",
    "Univerisdad de los Andes  \n",
    "  \n",
    "Last update: Noviembre 2024"
   ]
  },
  {
   "cell_type": "code",
   "id": "ed170271",
   "metadata": {
    "ExecuteTime": {
     "end_time": "2024-11-19T19:12:43.465974Z",
     "start_time": "2024-11-19T19:12:43.419973Z"
    }
   },
   "source": [
    "%pip install scikit-learn"
   ],
   "outputs": [
    {
     "name": "stdout",
     "output_type": "stream",
     "text": [
      "Note: you may need to restart the kernel to use updated packages.\n"
     ]
    },
    {
     "name": "stderr",
     "output_type": "stream",
     "text": [
      "The filename, directory name, or volume label syntax is incorrect.\n"
     ]
    }
   ],
   "execution_count": 1
  },
  {
   "cell_type": "code",
   "id": "99519fb7",
   "metadata": {
    "ExecuteTime": {
     "end_time": "2024-11-19T19:12:43.512973Z",
     "start_time": "2024-11-19T19:12:43.467974Z"
    }
   },
   "source": [
    "%pip install seaborn"
   ],
   "outputs": [
    {
     "name": "stdout",
     "output_type": "stream",
     "text": [
      "Note: you may need to restart the kernel to use updated packages.\n"
     ]
    },
    {
     "name": "stderr",
     "output_type": "stream",
     "text": [
      "The filename, directory name, or volume label syntax is incorrect.\n"
     ]
    }
   ],
   "execution_count": 2
  },
  {
   "cell_type": "code",
   "id": "100fd401",
   "metadata": {
    "ExecuteTime": {
     "end_time": "2024-11-19T19:12:43.559974Z",
     "start_time": "2024-11-19T19:12:43.514974Z"
    }
   },
   "source": [
    "%pip install --upgrade scikit-learn imbalanced-learn\n"
   ],
   "outputs": [
    {
     "name": "stdout",
     "output_type": "stream",
     "text": [
      "Note: you may need to restart the kernel to use updated packages.\n"
     ]
    },
    {
     "name": "stderr",
     "output_type": "stream",
     "text": [
      "The filename, directory name, or volume label syntax is incorrect.\n"
     ]
    }
   ],
   "execution_count": 3
  },
  {
   "cell_type": "code",
   "id": "1ccd76e4-a4ea-4a75-8f0c-258220a0f201",
   "metadata": {
    "ExecuteTime": {
     "end_time": "2024-11-19T21:36:52.630215Z",
     "start_time": "2024-11-19T21:36:52.321133Z"
    }
   },
   "source": [
    "from joblib import dump\n",
    "\n",
    "import numpy as np\n",
    "import pandas as pd\n",
    "\n",
    "import matplotlib.pyplot as plt\n",
    "import seaborn as sns\n",
    "\n",
    "from scipy.stats import ks_2samp\n",
    "from sklearn.feature_selection import chi2\n",
    "\n",
    "from sklearn.pipeline import Pipeline\n",
    "from sklearn.compose import ColumnTransformer\n",
    "from sklearn.preprocessing import StandardScaler, MinMaxScaler\n",
    "from sklearn.preprocessing import OrdinalEncoder, OneHotEncoder\n",
    "from sklearn.preprocessing import PolynomialFeatures\n",
    "from sklearn.ensemble import RandomForestClassifier\n",
    "from sklearn.tree import DecisionTreeClassifier\n",
    "from sklearn.model_selection import GridSearchCV\n",
    "from sklearn.metrics import confusion_matrix, ConfusionMatrixDisplay, RocCurveDisplay\n",
    "from sklearn.metrics import accuracy_score, precision_score, recall_score, f1_score, roc_curve, roc_auc_score, auc\n"
   ],
   "outputs": [],
   "execution_count": 1
  },
  {
   "cell_type": "code",
   "id": "1daa79d0",
   "metadata": {
    "ExecuteTime": {
     "end_time": "2024-11-19T21:36:53.922614Z",
     "start_time": "2024-11-19T21:36:53.815025Z"
    }
   },
   "source": [
    "import sklearn\n",
    "import imblearn\n",
    "\n",
    "print(\"scikit-learn version:\", sklearn.__version__)\n",
    "print(\"imblearn version:\", imblearn.__version__)\n"
   ],
   "outputs": [
    {
     "name": "stdout",
     "output_type": "stream",
     "text": [
      "scikit-learn version: 1.5.2\n",
      "imblearn version: 0.12.4\n"
     ]
    }
   ],
   "execution_count": 2
  },
  {
   "cell_type": "code",
   "id": "34a2f9f3-8835-4209-97f0-7d3819c38d73",
   "metadata": {
    "ExecuteTime": {
     "end_time": "2024-11-19T21:36:57.250125Z",
     "start_time": "2024-11-19T21:36:57.240126Z"
    }
   },
   "source": [
    "pd.set_option(\"display.max_columns\", None)\n",
    "pd.set_option(\"display.max_rows\", 100)"
   ],
   "outputs": [],
   "execution_count": 3
  },
  {
   "cell_type": "markdown",
   "id": "221aa317-8fa4-47a2-a46f-400f76b71756",
   "metadata": {
    "tags": []
   },
   "source": [
    "### Carga y entendimiento de datos\n",
    "\n",
    "Vamos a cargar y caracterizar rápidamente los datos. Para ver este proceso en mayor detalle, puede revisar la práctica de clasificación original."
   ]
  },
  {
   "cell_type": "code",
   "id": "fc891ffd-9dfc-4c36-a36f-d8202f4943bd",
   "metadata": {
    "ExecuteTime": {
     "end_time": "2024-11-19T21:37:00.379124Z",
     "start_time": "2024-11-19T21:37:00.349123Z"
    }
   },
   "source": [
    "churn_df = pd.read_csv(\"./data/churn_train_val.csv\")\n",
    "test_df = pd.read_csv(\"./data/churn_test_labeled.csv\")"
   ],
   "outputs": [],
   "execution_count": 4
  },
  {
   "cell_type": "code",
   "id": "3ef1ea3f-08cc-4af9-8d34-d4ab65093270",
   "metadata": {
    "ExecuteTime": {
     "end_time": "2024-11-19T19:12:45.073972Z",
     "start_time": "2024-11-19T19:12:45.058973Z"
    }
   },
   "source": [
    "churn_df.shape"
   ],
   "outputs": [
    {
     "data": {
      "text/plain": [
       "(9000, 11)"
      ]
     },
     "execution_count": 8,
     "metadata": {},
     "output_type": "execute_result"
    }
   ],
   "execution_count": 8
  },
  {
   "cell_type": "code",
   "id": "de2883ec-65db-4b84-af41-c73ce04be788",
   "metadata": {
    "ExecuteTime": {
     "end_time": "2024-11-19T19:12:45.089973Z",
     "start_time": "2024-11-19T19:12:45.074974Z"
    }
   },
   "source": [
    "test_df.shape"
   ],
   "outputs": [
    {
     "data": {
      "text/plain": [
       "(1000, 11)"
      ]
     },
     "execution_count": 9,
     "metadata": {},
     "output_type": "execute_result"
    }
   ],
   "execution_count": 9
  },
  {
   "cell_type": "code",
   "id": "aac9cc40-b46a-4a9c-a7ca-a57b7057d04d",
   "metadata": {
    "ExecuteTime": {
     "end_time": "2024-11-19T19:12:45.105972Z",
     "start_time": "2024-11-19T19:12:45.090974Z"
    }
   },
   "source": [
    "churn_df.dtypes"
   ],
   "outputs": [
    {
     "data": {
      "text/plain": [
       "credit_score          int64\n",
       "country              object\n",
       "gender               object\n",
       "age                   int64\n",
       "tenure                int64\n",
       "balance             float64\n",
       "products_number       int64\n",
       "credit_card           int64\n",
       "active_member         int64\n",
       "estimated_salary    float64\n",
       "churn                 int64\n",
       "dtype: object"
      ]
     },
     "execution_count": 10,
     "metadata": {},
     "output_type": "execute_result"
    }
   ],
   "execution_count": 10
  },
  {
   "cell_type": "code",
   "id": "642dfdf9-3a43-44f1-816f-c42819e3b9cd",
   "metadata": {
    "ExecuteTime": {
     "end_time": "2024-11-19T19:12:45.121972Z",
     "start_time": "2024-11-19T19:12:45.106974Z"
    }
   },
   "source": [
    "churn_df.head()"
   ],
   "outputs": [
    {
     "data": {
      "text/plain": [
       "   credit_score  country  gender  age  tenure    balance  products_number  \\\n",
       "0           781    Spain    Male   35       1       0.00                2   \n",
       "1           701    Spain  Female   21       9       0.00                2   \n",
       "2           685    Spain  Female   25      10  128509.63                1   \n",
       "3           680   France    Male   34       3  143292.95                1   \n",
       "4           756  Germany  Female   34       2  148200.72                1   \n",
       "\n",
       "   credit_card  active_member  estimated_salary  churn  \n",
       "0            0              0          42117.90      0  \n",
       "1            1              1          26327.42      0  \n",
       "2            1              0         121562.33      0  \n",
       "3            1              0          66526.01      0  \n",
       "4            0              0         194584.48      0  "
      ],
      "text/html": [
       "<div>\n",
       "<style scoped>\n",
       "    .dataframe tbody tr th:only-of-type {\n",
       "        vertical-align: middle;\n",
       "    }\n",
       "\n",
       "    .dataframe tbody tr th {\n",
       "        vertical-align: top;\n",
       "    }\n",
       "\n",
       "    .dataframe thead th {\n",
       "        text-align: right;\n",
       "    }\n",
       "</style>\n",
       "<table border=\"1\" class=\"dataframe\">\n",
       "  <thead>\n",
       "    <tr style=\"text-align: right;\">\n",
       "      <th></th>\n",
       "      <th>credit_score</th>\n",
       "      <th>country</th>\n",
       "      <th>gender</th>\n",
       "      <th>age</th>\n",
       "      <th>tenure</th>\n",
       "      <th>balance</th>\n",
       "      <th>products_number</th>\n",
       "      <th>credit_card</th>\n",
       "      <th>active_member</th>\n",
       "      <th>estimated_salary</th>\n",
       "      <th>churn</th>\n",
       "    </tr>\n",
       "  </thead>\n",
       "  <tbody>\n",
       "    <tr>\n",
       "      <th>0</th>\n",
       "      <td>781</td>\n",
       "      <td>Spain</td>\n",
       "      <td>Male</td>\n",
       "      <td>35</td>\n",
       "      <td>1</td>\n",
       "      <td>0.00</td>\n",
       "      <td>2</td>\n",
       "      <td>0</td>\n",
       "      <td>0</td>\n",
       "      <td>42117.90</td>\n",
       "      <td>0</td>\n",
       "    </tr>\n",
       "    <tr>\n",
       "      <th>1</th>\n",
       "      <td>701</td>\n",
       "      <td>Spain</td>\n",
       "      <td>Female</td>\n",
       "      <td>21</td>\n",
       "      <td>9</td>\n",
       "      <td>0.00</td>\n",
       "      <td>2</td>\n",
       "      <td>1</td>\n",
       "      <td>1</td>\n",
       "      <td>26327.42</td>\n",
       "      <td>0</td>\n",
       "    </tr>\n",
       "    <tr>\n",
       "      <th>2</th>\n",
       "      <td>685</td>\n",
       "      <td>Spain</td>\n",
       "      <td>Female</td>\n",
       "      <td>25</td>\n",
       "      <td>10</td>\n",
       "      <td>128509.63</td>\n",
       "      <td>1</td>\n",
       "      <td>1</td>\n",
       "      <td>0</td>\n",
       "      <td>121562.33</td>\n",
       "      <td>0</td>\n",
       "    </tr>\n",
       "    <tr>\n",
       "      <th>3</th>\n",
       "      <td>680</td>\n",
       "      <td>France</td>\n",
       "      <td>Male</td>\n",
       "      <td>34</td>\n",
       "      <td>3</td>\n",
       "      <td>143292.95</td>\n",
       "      <td>1</td>\n",
       "      <td>1</td>\n",
       "      <td>0</td>\n",
       "      <td>66526.01</td>\n",
       "      <td>0</td>\n",
       "    </tr>\n",
       "    <tr>\n",
       "      <th>4</th>\n",
       "      <td>756</td>\n",
       "      <td>Germany</td>\n",
       "      <td>Female</td>\n",
       "      <td>34</td>\n",
       "      <td>2</td>\n",
       "      <td>148200.72</td>\n",
       "      <td>1</td>\n",
       "      <td>0</td>\n",
       "      <td>0</td>\n",
       "      <td>194584.48</td>\n",
       "      <td>0</td>\n",
       "    </tr>\n",
       "  </tbody>\n",
       "</table>\n",
       "</div>"
      ]
     },
     "execution_count": 11,
     "metadata": {},
     "output_type": "execute_result"
    }
   ],
   "execution_count": 11
  },
  {
   "cell_type": "code",
   "id": "478c722c-2569-4189-b97c-fad5e04db123",
   "metadata": {
    "ExecuteTime": {
     "end_time": "2024-11-19T19:12:45.137973Z",
     "start_time": "2024-11-19T19:12:45.122976Z"
    }
   },
   "source": [
    "test_df.head()"
   ],
   "outputs": [
    {
     "data": {
      "text/plain": [
       "   credit_score  country  gender  age  tenure    balance  products_number  \\\n",
       "0           713    Spain  Female   48       1  163760.82                1   \n",
       "1           502   France    Male   30       4       0.00                2   \n",
       "2           817  Germany    Male   45       9  101207.75                1   \n",
       "3           730   France    Male   39       1  116537.60                1   \n",
       "4           576    Spain    Male   52       2  100549.43                2   \n",
       "\n",
       "   credit_card  active_member  estimated_salary  churn  \n",
       "0            0              0         157381.14      1  \n",
       "1            1              1          66263.87      0  \n",
       "2            0              0          88211.12      1  \n",
       "3            0              0         145679.60      0  \n",
       "4            1              1          16644.16      0  "
      ],
      "text/html": [
       "<div>\n",
       "<style scoped>\n",
       "    .dataframe tbody tr th:only-of-type {\n",
       "        vertical-align: middle;\n",
       "    }\n",
       "\n",
       "    .dataframe tbody tr th {\n",
       "        vertical-align: top;\n",
       "    }\n",
       "\n",
       "    .dataframe thead th {\n",
       "        text-align: right;\n",
       "    }\n",
       "</style>\n",
       "<table border=\"1\" class=\"dataframe\">\n",
       "  <thead>\n",
       "    <tr style=\"text-align: right;\">\n",
       "      <th></th>\n",
       "      <th>credit_score</th>\n",
       "      <th>country</th>\n",
       "      <th>gender</th>\n",
       "      <th>age</th>\n",
       "      <th>tenure</th>\n",
       "      <th>balance</th>\n",
       "      <th>products_number</th>\n",
       "      <th>credit_card</th>\n",
       "      <th>active_member</th>\n",
       "      <th>estimated_salary</th>\n",
       "      <th>churn</th>\n",
       "    </tr>\n",
       "  </thead>\n",
       "  <tbody>\n",
       "    <tr>\n",
       "      <th>0</th>\n",
       "      <td>713</td>\n",
       "      <td>Spain</td>\n",
       "      <td>Female</td>\n",
       "      <td>48</td>\n",
       "      <td>1</td>\n",
       "      <td>163760.82</td>\n",
       "      <td>1</td>\n",
       "      <td>0</td>\n",
       "      <td>0</td>\n",
       "      <td>157381.14</td>\n",
       "      <td>1</td>\n",
       "    </tr>\n",
       "    <tr>\n",
       "      <th>1</th>\n",
       "      <td>502</td>\n",
       "      <td>France</td>\n",
       "      <td>Male</td>\n",
       "      <td>30</td>\n",
       "      <td>4</td>\n",
       "      <td>0.00</td>\n",
       "      <td>2</td>\n",
       "      <td>1</td>\n",
       "      <td>1</td>\n",
       "      <td>66263.87</td>\n",
       "      <td>0</td>\n",
       "    </tr>\n",
       "    <tr>\n",
       "      <th>2</th>\n",
       "      <td>817</td>\n",
       "      <td>Germany</td>\n",
       "      <td>Male</td>\n",
       "      <td>45</td>\n",
       "      <td>9</td>\n",
       "      <td>101207.75</td>\n",
       "      <td>1</td>\n",
       "      <td>0</td>\n",
       "      <td>0</td>\n",
       "      <td>88211.12</td>\n",
       "      <td>1</td>\n",
       "    </tr>\n",
       "    <tr>\n",
       "      <th>3</th>\n",
       "      <td>730</td>\n",
       "      <td>France</td>\n",
       "      <td>Male</td>\n",
       "      <td>39</td>\n",
       "      <td>1</td>\n",
       "      <td>116537.60</td>\n",
       "      <td>1</td>\n",
       "      <td>0</td>\n",
       "      <td>0</td>\n",
       "      <td>145679.60</td>\n",
       "      <td>0</td>\n",
       "    </tr>\n",
       "    <tr>\n",
       "      <th>4</th>\n",
       "      <td>576</td>\n",
       "      <td>Spain</td>\n",
       "      <td>Male</td>\n",
       "      <td>52</td>\n",
       "      <td>2</td>\n",
       "      <td>100549.43</td>\n",
       "      <td>2</td>\n",
       "      <td>1</td>\n",
       "      <td>1</td>\n",
       "      <td>16644.16</td>\n",
       "      <td>0</td>\n",
       "    </tr>\n",
       "  </tbody>\n",
       "</table>\n",
       "</div>"
      ]
     },
     "execution_count": 12,
     "metadata": {},
     "output_type": "execute_result"
    }
   ],
   "execution_count": 12
  },
  {
   "cell_type": "markdown",
   "id": "9b433378-fadd-4714-944f-931dc50c749e",
   "metadata": {},
   "source": [
    "### Entrenando con un primer modelo\n",
    "\n",
    "Vamos a usar un Árbol de Decisión como nuestro primer clasificador usando sólo algunos de los atributos."
   ]
  },
  {
   "cell_type": "code",
   "id": "e3672283-e015-475f-9e79-05d24ceca86f",
   "metadata": {
    "ExecuteTime": {
     "end_time": "2024-11-19T21:37:13.454837Z",
     "start_time": "2024-11-19T21:37:13.443836Z"
    }
   },
   "source": [
    "features = [\"age\", \"balance\", \"country\", \"products_number\", \"active_member\"]"
   ],
   "outputs": [],
   "execution_count": 5
  },
  {
   "cell_type": "markdown",
   "id": "7f63eb8f",
   "metadata": {},
   "source": [
    "Generaremos un pipeline, con el propósito de codificar en OneHot la única columna categórica (\"Country\")."
   ]
  },
  {
   "cell_type": "code",
   "id": "c317a62e",
   "metadata": {
    "ExecuteTime": {
     "end_time": "2024-11-19T21:37:29.220978Z",
     "start_time": "2024-11-19T21:37:29.205976Z"
    }
   },
   "source": [
    "pipeline_dt = Pipeline([\n",
    "    (\"transformer\", ColumnTransformer([\n",
    "        (\"categorical\", OneHotEncoder(), [\"country\"])\n",
    "    ], remainder=\"passthrough\")),\n",
    "    (\"classifier\",  DecisionTreeClassifier())\n",
    "]) "
   ],
   "outputs": [],
   "execution_count": 6
  },
  {
   "cell_type": "markdown",
   "id": "4780923a",
   "metadata": {},
   "source": [
    "Vamos a usar GridSearch para buscar los mejores valores de 3 hiperparámetros de los árboles de decisión."
   ]
  },
  {
   "cell_type": "code",
   "id": "e229a40a",
   "metadata": {
    "ExecuteTime": {
     "end_time": "2024-11-19T21:37:33.573594Z",
     "start_time": "2024-11-19T21:37:33.560593Z"
    }
   },
   "source": [
    "param_grid_dt = {\n",
    "    \"classifier__max_depth\": [3,4,5,6,7],\n",
    "    \"classifier__min_samples_leaf\" : [5, 10, 15],\n",
    "    \"classifier__criterion\": [\"gini\", \"entropy\", \"log_loss\"]\n",
    "}"
   ],
   "outputs": [],
   "execution_count": 7
  },
  {
   "cell_type": "code",
   "id": "9767f32d",
   "metadata": {
    "ExecuteTime": {
     "end_time": "2024-11-19T21:37:35.079679Z",
     "start_time": "2024-11-19T21:37:35.065677Z"
    }
   },
   "source": [
    "grid_dt = GridSearchCV(estimator=pipeline_dt, param_grid=param_grid_dt, scoring=[\"precision\", \"recall\", \"f1\", \"roc_auc\"], refit=\"f1\", cv=5, return_train_score=True)"
   ],
   "outputs": [],
   "execution_count": 8
  },
  {
   "cell_type": "code",
   "id": "fb78509e-1819-487e-bdda-9f1dafcbbf81",
   "metadata": {
    "tags": [],
    "ExecuteTime": {
     "end_time": "2024-11-19T21:37:44.699098Z",
     "start_time": "2024-11-19T21:37:37.373086Z"
    }
   },
   "source": [
    "grid_dt.fit(churn_df[features], churn_df[\"churn\"])"
   ],
   "outputs": [
    {
     "name": "stderr",
     "output_type": "stream",
     "text": [
      "c:\\users\\esteban\\appdata\\local\\programs\\python\\python39\\lib\\site-packages\\sklearn\\compose\\_column_transformer.py:1623: FutureWarning: \n",
      "The format of the columns of the 'remainder' transformer in ColumnTransformer.transformers_ will change in version 1.7 to match the format of the other transformers.\n",
      "At the moment the remainder columns are stored as indices (of type int). With the same ColumnTransformer configuration, in the future they will be stored as column names (of type str).\n",
      "To use the new behavior now and suppress this warning, use ColumnTransformer(force_int_remainder_cols=False).\n",
      "\n",
      "  warnings.warn(\n"
     ]
    },
    {
     "data": {
      "text/plain": [
       "GridSearchCV(cv=5,\n",
       "             estimator=Pipeline(steps=[('transformer',\n",
       "                                        ColumnTransformer(remainder='passthrough',\n",
       "                                                          transformers=[('categorical',\n",
       "                                                                         OneHotEncoder(),\n",
       "                                                                         ['country'])])),\n",
       "                                       ('classifier',\n",
       "                                        DecisionTreeClassifier())]),\n",
       "             param_grid={'classifier__criterion': ['gini', 'entropy',\n",
       "                                                   'log_loss'],\n",
       "                         'classifier__max_depth': [3, 4, 5, 6, 7],\n",
       "                         'classifier__min_samples_leaf': [5, 10, 15]},\n",
       "             refit='f1', return_train_score=True,\n",
       "             scoring=['precision', 'recall', 'f1', 'roc_auc'])"
      ],
      "text/html": [
       "<style>#sk-container-id-1 {\n",
       "  /* Definition of color scheme common for light and dark mode */\n",
       "  --sklearn-color-text: black;\n",
       "  --sklearn-color-line: gray;\n",
       "  /* Definition of color scheme for unfitted estimators */\n",
       "  --sklearn-color-unfitted-level-0: #fff5e6;\n",
       "  --sklearn-color-unfitted-level-1: #f6e4d2;\n",
       "  --sklearn-color-unfitted-level-2: #ffe0b3;\n",
       "  --sklearn-color-unfitted-level-3: chocolate;\n",
       "  /* Definition of color scheme for fitted estimators */\n",
       "  --sklearn-color-fitted-level-0: #f0f8ff;\n",
       "  --sklearn-color-fitted-level-1: #d4ebff;\n",
       "  --sklearn-color-fitted-level-2: #b3dbfd;\n",
       "  --sklearn-color-fitted-level-3: cornflowerblue;\n",
       "\n",
       "  /* Specific color for light theme */\n",
       "  --sklearn-color-text-on-default-background: var(--sg-text-color, var(--theme-code-foreground, var(--jp-content-font-color1, black)));\n",
       "  --sklearn-color-background: var(--sg-background-color, var(--theme-background, var(--jp-layout-color0, white)));\n",
       "  --sklearn-color-border-box: var(--sg-text-color, var(--theme-code-foreground, var(--jp-content-font-color1, black)));\n",
       "  --sklearn-color-icon: #696969;\n",
       "\n",
       "  @media (prefers-color-scheme: dark) {\n",
       "    /* Redefinition of color scheme for dark theme */\n",
       "    --sklearn-color-text-on-default-background: var(--sg-text-color, var(--theme-code-foreground, var(--jp-content-font-color1, white)));\n",
       "    --sklearn-color-background: var(--sg-background-color, var(--theme-background, var(--jp-layout-color0, #111)));\n",
       "    --sklearn-color-border-box: var(--sg-text-color, var(--theme-code-foreground, var(--jp-content-font-color1, white)));\n",
       "    --sklearn-color-icon: #878787;\n",
       "  }\n",
       "}\n",
       "\n",
       "#sk-container-id-1 {\n",
       "  color: var(--sklearn-color-text);\n",
       "}\n",
       "\n",
       "#sk-container-id-1 pre {\n",
       "  padding: 0;\n",
       "}\n",
       "\n",
       "#sk-container-id-1 input.sk-hidden--visually {\n",
       "  border: 0;\n",
       "  clip: rect(1px 1px 1px 1px);\n",
       "  clip: rect(1px, 1px, 1px, 1px);\n",
       "  height: 1px;\n",
       "  margin: -1px;\n",
       "  overflow: hidden;\n",
       "  padding: 0;\n",
       "  position: absolute;\n",
       "  width: 1px;\n",
       "}\n",
       "\n",
       "#sk-container-id-1 div.sk-dashed-wrapped {\n",
       "  border: 1px dashed var(--sklearn-color-line);\n",
       "  margin: 0 0.4em 0.5em 0.4em;\n",
       "  box-sizing: border-box;\n",
       "  padding-bottom: 0.4em;\n",
       "  background-color: var(--sklearn-color-background);\n",
       "}\n",
       "\n",
       "#sk-container-id-1 div.sk-container {\n",
       "  /* jupyter's `normalize.less` sets `[hidden] { display: none; }`\n",
       "     but bootstrap.min.css set `[hidden] { display: none !important; }`\n",
       "     so we also need the `!important` here to be able to override the\n",
       "     default hidden behavior on the sphinx rendered scikit-learn.org.\n",
       "     See: https://github.com/scikit-learn/scikit-learn/issues/21755 */\n",
       "  display: inline-block !important;\n",
       "  position: relative;\n",
       "}\n",
       "\n",
       "#sk-container-id-1 div.sk-text-repr-fallback {\n",
       "  display: none;\n",
       "}\n",
       "\n",
       "div.sk-parallel-item,\n",
       "div.sk-serial,\n",
       "div.sk-item {\n",
       "  /* draw centered vertical line to link estimators */\n",
       "  background-image: linear-gradient(var(--sklearn-color-text-on-default-background), var(--sklearn-color-text-on-default-background));\n",
       "  background-size: 2px 100%;\n",
       "  background-repeat: no-repeat;\n",
       "  background-position: center center;\n",
       "}\n",
       "\n",
       "/* Parallel-specific style estimator block */\n",
       "\n",
       "#sk-container-id-1 div.sk-parallel-item::after {\n",
       "  content: \"\";\n",
       "  width: 100%;\n",
       "  border-bottom: 2px solid var(--sklearn-color-text-on-default-background);\n",
       "  flex-grow: 1;\n",
       "}\n",
       "\n",
       "#sk-container-id-1 div.sk-parallel {\n",
       "  display: flex;\n",
       "  align-items: stretch;\n",
       "  justify-content: center;\n",
       "  background-color: var(--sklearn-color-background);\n",
       "  position: relative;\n",
       "}\n",
       "\n",
       "#sk-container-id-1 div.sk-parallel-item {\n",
       "  display: flex;\n",
       "  flex-direction: column;\n",
       "}\n",
       "\n",
       "#sk-container-id-1 div.sk-parallel-item:first-child::after {\n",
       "  align-self: flex-end;\n",
       "  width: 50%;\n",
       "}\n",
       "\n",
       "#sk-container-id-1 div.sk-parallel-item:last-child::after {\n",
       "  align-self: flex-start;\n",
       "  width: 50%;\n",
       "}\n",
       "\n",
       "#sk-container-id-1 div.sk-parallel-item:only-child::after {\n",
       "  width: 0;\n",
       "}\n",
       "\n",
       "/* Serial-specific style estimator block */\n",
       "\n",
       "#sk-container-id-1 div.sk-serial {\n",
       "  display: flex;\n",
       "  flex-direction: column;\n",
       "  align-items: center;\n",
       "  background-color: var(--sklearn-color-background);\n",
       "  padding-right: 1em;\n",
       "  padding-left: 1em;\n",
       "}\n",
       "\n",
       "\n",
       "/* Toggleable style: style used for estimator/Pipeline/ColumnTransformer box that is\n",
       "clickable and can be expanded/collapsed.\n",
       "- Pipeline and ColumnTransformer use this feature and define the default style\n",
       "- Estimators will overwrite some part of the style using the `sk-estimator` class\n",
       "*/\n",
       "\n",
       "/* Pipeline and ColumnTransformer style (default) */\n",
       "\n",
       "#sk-container-id-1 div.sk-toggleable {\n",
       "  /* Default theme specific background. It is overwritten whether we have a\n",
       "  specific estimator or a Pipeline/ColumnTransformer */\n",
       "  background-color: var(--sklearn-color-background);\n",
       "}\n",
       "\n",
       "/* Toggleable label */\n",
       "#sk-container-id-1 label.sk-toggleable__label {\n",
       "  cursor: pointer;\n",
       "  display: block;\n",
       "  width: 100%;\n",
       "  margin-bottom: 0;\n",
       "  padding: 0.5em;\n",
       "  box-sizing: border-box;\n",
       "  text-align: center;\n",
       "}\n",
       "\n",
       "#sk-container-id-1 label.sk-toggleable__label-arrow:before {\n",
       "  /* Arrow on the left of the label */\n",
       "  content: \"▸\";\n",
       "  float: left;\n",
       "  margin-right: 0.25em;\n",
       "  color: var(--sklearn-color-icon);\n",
       "}\n",
       "\n",
       "#sk-container-id-1 label.sk-toggleable__label-arrow:hover:before {\n",
       "  color: var(--sklearn-color-text);\n",
       "}\n",
       "\n",
       "/* Toggleable content - dropdown */\n",
       "\n",
       "#sk-container-id-1 div.sk-toggleable__content {\n",
       "  max-height: 0;\n",
       "  max-width: 0;\n",
       "  overflow: hidden;\n",
       "  text-align: left;\n",
       "  /* unfitted */\n",
       "  background-color: var(--sklearn-color-unfitted-level-0);\n",
       "}\n",
       "\n",
       "#sk-container-id-1 div.sk-toggleable__content.fitted {\n",
       "  /* fitted */\n",
       "  background-color: var(--sklearn-color-fitted-level-0);\n",
       "}\n",
       "\n",
       "#sk-container-id-1 div.sk-toggleable__content pre {\n",
       "  margin: 0.2em;\n",
       "  border-radius: 0.25em;\n",
       "  color: var(--sklearn-color-text);\n",
       "  /* unfitted */\n",
       "  background-color: var(--sklearn-color-unfitted-level-0);\n",
       "}\n",
       "\n",
       "#sk-container-id-1 div.sk-toggleable__content.fitted pre {\n",
       "  /* unfitted */\n",
       "  background-color: var(--sklearn-color-fitted-level-0);\n",
       "}\n",
       "\n",
       "#sk-container-id-1 input.sk-toggleable__control:checked~div.sk-toggleable__content {\n",
       "  /* Expand drop-down */\n",
       "  max-height: 200px;\n",
       "  max-width: 100%;\n",
       "  overflow: auto;\n",
       "}\n",
       "\n",
       "#sk-container-id-1 input.sk-toggleable__control:checked~label.sk-toggleable__label-arrow:before {\n",
       "  content: \"▾\";\n",
       "}\n",
       "\n",
       "/* Pipeline/ColumnTransformer-specific style */\n",
       "\n",
       "#sk-container-id-1 div.sk-label input.sk-toggleable__control:checked~label.sk-toggleable__label {\n",
       "  color: var(--sklearn-color-text);\n",
       "  background-color: var(--sklearn-color-unfitted-level-2);\n",
       "}\n",
       "\n",
       "#sk-container-id-1 div.sk-label.fitted input.sk-toggleable__control:checked~label.sk-toggleable__label {\n",
       "  background-color: var(--sklearn-color-fitted-level-2);\n",
       "}\n",
       "\n",
       "/* Estimator-specific style */\n",
       "\n",
       "/* Colorize estimator box */\n",
       "#sk-container-id-1 div.sk-estimator input.sk-toggleable__control:checked~label.sk-toggleable__label {\n",
       "  /* unfitted */\n",
       "  background-color: var(--sklearn-color-unfitted-level-2);\n",
       "}\n",
       "\n",
       "#sk-container-id-1 div.sk-estimator.fitted input.sk-toggleable__control:checked~label.sk-toggleable__label {\n",
       "  /* fitted */\n",
       "  background-color: var(--sklearn-color-fitted-level-2);\n",
       "}\n",
       "\n",
       "#sk-container-id-1 div.sk-label label.sk-toggleable__label,\n",
       "#sk-container-id-1 div.sk-label label {\n",
       "  /* The background is the default theme color */\n",
       "  color: var(--sklearn-color-text-on-default-background);\n",
       "}\n",
       "\n",
       "/* On hover, darken the color of the background */\n",
       "#sk-container-id-1 div.sk-label:hover label.sk-toggleable__label {\n",
       "  color: var(--sklearn-color-text);\n",
       "  background-color: var(--sklearn-color-unfitted-level-2);\n",
       "}\n",
       "\n",
       "/* Label box, darken color on hover, fitted */\n",
       "#sk-container-id-1 div.sk-label.fitted:hover label.sk-toggleable__label.fitted {\n",
       "  color: var(--sklearn-color-text);\n",
       "  background-color: var(--sklearn-color-fitted-level-2);\n",
       "}\n",
       "\n",
       "/* Estimator label */\n",
       "\n",
       "#sk-container-id-1 div.sk-label label {\n",
       "  font-family: monospace;\n",
       "  font-weight: bold;\n",
       "  display: inline-block;\n",
       "  line-height: 1.2em;\n",
       "}\n",
       "\n",
       "#sk-container-id-1 div.sk-label-container {\n",
       "  text-align: center;\n",
       "}\n",
       "\n",
       "/* Estimator-specific */\n",
       "#sk-container-id-1 div.sk-estimator {\n",
       "  font-family: monospace;\n",
       "  border: 1px dotted var(--sklearn-color-border-box);\n",
       "  border-radius: 0.25em;\n",
       "  box-sizing: border-box;\n",
       "  margin-bottom: 0.5em;\n",
       "  /* unfitted */\n",
       "  background-color: var(--sklearn-color-unfitted-level-0);\n",
       "}\n",
       "\n",
       "#sk-container-id-1 div.sk-estimator.fitted {\n",
       "  /* fitted */\n",
       "  background-color: var(--sklearn-color-fitted-level-0);\n",
       "}\n",
       "\n",
       "/* on hover */\n",
       "#sk-container-id-1 div.sk-estimator:hover {\n",
       "  /* unfitted */\n",
       "  background-color: var(--sklearn-color-unfitted-level-2);\n",
       "}\n",
       "\n",
       "#sk-container-id-1 div.sk-estimator.fitted:hover {\n",
       "  /* fitted */\n",
       "  background-color: var(--sklearn-color-fitted-level-2);\n",
       "}\n",
       "\n",
       "/* Specification for estimator info (e.g. \"i\" and \"?\") */\n",
       "\n",
       "/* Common style for \"i\" and \"?\" */\n",
       "\n",
       ".sk-estimator-doc-link,\n",
       "a:link.sk-estimator-doc-link,\n",
       "a:visited.sk-estimator-doc-link {\n",
       "  float: right;\n",
       "  font-size: smaller;\n",
       "  line-height: 1em;\n",
       "  font-family: monospace;\n",
       "  background-color: var(--sklearn-color-background);\n",
       "  border-radius: 1em;\n",
       "  height: 1em;\n",
       "  width: 1em;\n",
       "  text-decoration: none !important;\n",
       "  margin-left: 1ex;\n",
       "  /* unfitted */\n",
       "  border: var(--sklearn-color-unfitted-level-1) 1pt solid;\n",
       "  color: var(--sklearn-color-unfitted-level-1);\n",
       "}\n",
       "\n",
       ".sk-estimator-doc-link.fitted,\n",
       "a:link.sk-estimator-doc-link.fitted,\n",
       "a:visited.sk-estimator-doc-link.fitted {\n",
       "  /* fitted */\n",
       "  border: var(--sklearn-color-fitted-level-1) 1pt solid;\n",
       "  color: var(--sklearn-color-fitted-level-1);\n",
       "}\n",
       "\n",
       "/* On hover */\n",
       "div.sk-estimator:hover .sk-estimator-doc-link:hover,\n",
       ".sk-estimator-doc-link:hover,\n",
       "div.sk-label-container:hover .sk-estimator-doc-link:hover,\n",
       ".sk-estimator-doc-link:hover {\n",
       "  /* unfitted */\n",
       "  background-color: var(--sklearn-color-unfitted-level-3);\n",
       "  color: var(--sklearn-color-background);\n",
       "  text-decoration: none;\n",
       "}\n",
       "\n",
       "div.sk-estimator.fitted:hover .sk-estimator-doc-link.fitted:hover,\n",
       ".sk-estimator-doc-link.fitted:hover,\n",
       "div.sk-label-container:hover .sk-estimator-doc-link.fitted:hover,\n",
       ".sk-estimator-doc-link.fitted:hover {\n",
       "  /* fitted */\n",
       "  background-color: var(--sklearn-color-fitted-level-3);\n",
       "  color: var(--sklearn-color-background);\n",
       "  text-decoration: none;\n",
       "}\n",
       "\n",
       "/* Span, style for the box shown on hovering the info icon */\n",
       ".sk-estimator-doc-link span {\n",
       "  display: none;\n",
       "  z-index: 9999;\n",
       "  position: relative;\n",
       "  font-weight: normal;\n",
       "  right: .2ex;\n",
       "  padding: .5ex;\n",
       "  margin: .5ex;\n",
       "  width: min-content;\n",
       "  min-width: 20ex;\n",
       "  max-width: 50ex;\n",
       "  color: var(--sklearn-color-text);\n",
       "  box-shadow: 2pt 2pt 4pt #999;\n",
       "  /* unfitted */\n",
       "  background: var(--sklearn-color-unfitted-level-0);\n",
       "  border: .5pt solid var(--sklearn-color-unfitted-level-3);\n",
       "}\n",
       "\n",
       ".sk-estimator-doc-link.fitted span {\n",
       "  /* fitted */\n",
       "  background: var(--sklearn-color-fitted-level-0);\n",
       "  border: var(--sklearn-color-fitted-level-3);\n",
       "}\n",
       "\n",
       ".sk-estimator-doc-link:hover span {\n",
       "  display: block;\n",
       "}\n",
       "\n",
       "/* \"?\"-specific style due to the `<a>` HTML tag */\n",
       "\n",
       "#sk-container-id-1 a.estimator_doc_link {\n",
       "  float: right;\n",
       "  font-size: 1rem;\n",
       "  line-height: 1em;\n",
       "  font-family: monospace;\n",
       "  background-color: var(--sklearn-color-background);\n",
       "  border-radius: 1rem;\n",
       "  height: 1rem;\n",
       "  width: 1rem;\n",
       "  text-decoration: none;\n",
       "  /* unfitted */\n",
       "  color: var(--sklearn-color-unfitted-level-1);\n",
       "  border: var(--sklearn-color-unfitted-level-1) 1pt solid;\n",
       "}\n",
       "\n",
       "#sk-container-id-1 a.estimator_doc_link.fitted {\n",
       "  /* fitted */\n",
       "  border: var(--sklearn-color-fitted-level-1) 1pt solid;\n",
       "  color: var(--sklearn-color-fitted-level-1);\n",
       "}\n",
       "\n",
       "/* On hover */\n",
       "#sk-container-id-1 a.estimator_doc_link:hover {\n",
       "  /* unfitted */\n",
       "  background-color: var(--sklearn-color-unfitted-level-3);\n",
       "  color: var(--sklearn-color-background);\n",
       "  text-decoration: none;\n",
       "}\n",
       "\n",
       "#sk-container-id-1 a.estimator_doc_link.fitted:hover {\n",
       "  /* fitted */\n",
       "  background-color: var(--sklearn-color-fitted-level-3);\n",
       "}\n",
       "</style><div id=\"sk-container-id-1\" class=\"sk-top-container\"><div class=\"sk-text-repr-fallback\"><pre>GridSearchCV(cv=5,\n",
       "             estimator=Pipeline(steps=[(&#x27;transformer&#x27;,\n",
       "                                        ColumnTransformer(remainder=&#x27;passthrough&#x27;,\n",
       "                                                          transformers=[(&#x27;categorical&#x27;,\n",
       "                                                                         OneHotEncoder(),\n",
       "                                                                         [&#x27;country&#x27;])])),\n",
       "                                       (&#x27;classifier&#x27;,\n",
       "                                        DecisionTreeClassifier())]),\n",
       "             param_grid={&#x27;classifier__criterion&#x27;: [&#x27;gini&#x27;, &#x27;entropy&#x27;,\n",
       "                                                   &#x27;log_loss&#x27;],\n",
       "                         &#x27;classifier__max_depth&#x27;: [3, 4, 5, 6, 7],\n",
       "                         &#x27;classifier__min_samples_leaf&#x27;: [5, 10, 15]},\n",
       "             refit=&#x27;f1&#x27;, return_train_score=True,\n",
       "             scoring=[&#x27;precision&#x27;, &#x27;recall&#x27;, &#x27;f1&#x27;, &#x27;roc_auc&#x27;])</pre><b>In a Jupyter environment, please rerun this cell to show the HTML representation or trust the notebook. <br />On GitHub, the HTML representation is unable to render, please try loading this page with nbviewer.org.</b></div><div class=\"sk-container\" hidden><div class=\"sk-item sk-dashed-wrapped\"><div class=\"sk-label-container\"><div class=\"sk-label fitted sk-toggleable\"><input class=\"sk-toggleable__control sk-hidden--visually\" id=\"sk-estimator-id-1\" type=\"checkbox\" ><label for=\"sk-estimator-id-1\" class=\"sk-toggleable__label fitted sk-toggleable__label-arrow fitted\">&nbsp;&nbsp;GridSearchCV<a class=\"sk-estimator-doc-link fitted\" rel=\"noreferrer\" target=\"_blank\" href=\"https://scikit-learn.org/1.5/modules/generated/sklearn.model_selection.GridSearchCV.html\">?<span>Documentation for GridSearchCV</span></a><span class=\"sk-estimator-doc-link fitted\">i<span>Fitted</span></span></label><div class=\"sk-toggleable__content fitted\"><pre>GridSearchCV(cv=5,\n",
       "             estimator=Pipeline(steps=[(&#x27;transformer&#x27;,\n",
       "                                        ColumnTransformer(remainder=&#x27;passthrough&#x27;,\n",
       "                                                          transformers=[(&#x27;categorical&#x27;,\n",
       "                                                                         OneHotEncoder(),\n",
       "                                                                         [&#x27;country&#x27;])])),\n",
       "                                       (&#x27;classifier&#x27;,\n",
       "                                        DecisionTreeClassifier())]),\n",
       "             param_grid={&#x27;classifier__criterion&#x27;: [&#x27;gini&#x27;, &#x27;entropy&#x27;,\n",
       "                                                   &#x27;log_loss&#x27;],\n",
       "                         &#x27;classifier__max_depth&#x27;: [3, 4, 5, 6, 7],\n",
       "                         &#x27;classifier__min_samples_leaf&#x27;: [5, 10, 15]},\n",
       "             refit=&#x27;f1&#x27;, return_train_score=True,\n",
       "             scoring=[&#x27;precision&#x27;, &#x27;recall&#x27;, &#x27;f1&#x27;, &#x27;roc_auc&#x27;])</pre></div> </div></div><div class=\"sk-parallel\"><div class=\"sk-parallel-item\"><div class=\"sk-item\"><div class=\"sk-label-container\"><div class=\"sk-label fitted sk-toggleable\"><input class=\"sk-toggleable__control sk-hidden--visually\" id=\"sk-estimator-id-2\" type=\"checkbox\" ><label for=\"sk-estimator-id-2\" class=\"sk-toggleable__label fitted sk-toggleable__label-arrow fitted\">best_estimator_: Pipeline</label><div class=\"sk-toggleable__content fitted\"><pre>Pipeline(steps=[(&#x27;transformer&#x27;,\n",
       "                 ColumnTransformer(remainder=&#x27;passthrough&#x27;,\n",
       "                                   transformers=[(&#x27;categorical&#x27;,\n",
       "                                                  OneHotEncoder(),\n",
       "                                                  [&#x27;country&#x27;])])),\n",
       "                (&#x27;classifier&#x27;,\n",
       "                 DecisionTreeClassifier(criterion=&#x27;entropy&#x27;, max_depth=7,\n",
       "                                        min_samples_leaf=15))])</pre></div> </div></div><div class=\"sk-serial\"><div class=\"sk-item\"><div class=\"sk-serial\"><div class=\"sk-item sk-dashed-wrapped\"><div class=\"sk-label-container\"><div class=\"sk-label fitted sk-toggleable\"><input class=\"sk-toggleable__control sk-hidden--visually\" id=\"sk-estimator-id-3\" type=\"checkbox\" ><label for=\"sk-estimator-id-3\" class=\"sk-toggleable__label fitted sk-toggleable__label-arrow fitted\">&nbsp;transformer: ColumnTransformer<a class=\"sk-estimator-doc-link fitted\" rel=\"noreferrer\" target=\"_blank\" href=\"https://scikit-learn.org/1.5/modules/generated/sklearn.compose.ColumnTransformer.html\">?<span>Documentation for transformer: ColumnTransformer</span></a></label><div class=\"sk-toggleable__content fitted\"><pre>ColumnTransformer(remainder=&#x27;passthrough&#x27;,\n",
       "                  transformers=[(&#x27;categorical&#x27;, OneHotEncoder(), [&#x27;country&#x27;])])</pre></div> </div></div><div class=\"sk-parallel\"><div class=\"sk-parallel-item\"><div class=\"sk-item\"><div class=\"sk-label-container\"><div class=\"sk-label fitted sk-toggleable\"><input class=\"sk-toggleable__control sk-hidden--visually\" id=\"sk-estimator-id-4\" type=\"checkbox\" ><label for=\"sk-estimator-id-4\" class=\"sk-toggleable__label fitted sk-toggleable__label-arrow fitted\">categorical</label><div class=\"sk-toggleable__content fitted\"><pre>[&#x27;country&#x27;]</pre></div> </div></div><div class=\"sk-serial\"><div class=\"sk-item\"><div class=\"sk-estimator fitted sk-toggleable\"><input class=\"sk-toggleable__control sk-hidden--visually\" id=\"sk-estimator-id-5\" type=\"checkbox\" ><label for=\"sk-estimator-id-5\" class=\"sk-toggleable__label fitted sk-toggleable__label-arrow fitted\">&nbsp;OneHotEncoder<a class=\"sk-estimator-doc-link fitted\" rel=\"noreferrer\" target=\"_blank\" href=\"https://scikit-learn.org/1.5/modules/generated/sklearn.preprocessing.OneHotEncoder.html\">?<span>Documentation for OneHotEncoder</span></a></label><div class=\"sk-toggleable__content fitted\"><pre>OneHotEncoder()</pre></div> </div></div></div></div></div><div class=\"sk-parallel-item\"><div class=\"sk-item\"><div class=\"sk-label-container\"><div class=\"sk-label fitted sk-toggleable\"><input class=\"sk-toggleable__control sk-hidden--visually\" id=\"sk-estimator-id-6\" type=\"checkbox\" ><label for=\"sk-estimator-id-6\" class=\"sk-toggleable__label fitted sk-toggleable__label-arrow fitted\">remainder</label><div class=\"sk-toggleable__content fitted\"><pre>[&#x27;age&#x27;, &#x27;balance&#x27;, &#x27;products_number&#x27;, &#x27;active_member&#x27;]</pre></div> </div></div><div class=\"sk-serial\"><div class=\"sk-item\"><div class=\"sk-estimator fitted sk-toggleable\"><input class=\"sk-toggleable__control sk-hidden--visually\" id=\"sk-estimator-id-7\" type=\"checkbox\" ><label for=\"sk-estimator-id-7\" class=\"sk-toggleable__label fitted sk-toggleable__label-arrow fitted\">passthrough</label><div class=\"sk-toggleable__content fitted\"><pre>passthrough</pre></div> </div></div></div></div></div></div></div><div class=\"sk-item\"><div class=\"sk-estimator fitted sk-toggleable\"><input class=\"sk-toggleable__control sk-hidden--visually\" id=\"sk-estimator-id-8\" type=\"checkbox\" ><label for=\"sk-estimator-id-8\" class=\"sk-toggleable__label fitted sk-toggleable__label-arrow fitted\">&nbsp;DecisionTreeClassifier<a class=\"sk-estimator-doc-link fitted\" rel=\"noreferrer\" target=\"_blank\" href=\"https://scikit-learn.org/1.5/modules/generated/sklearn.tree.DecisionTreeClassifier.html\">?<span>Documentation for DecisionTreeClassifier</span></a></label><div class=\"sk-toggleable__content fitted\"><pre>DecisionTreeClassifier(criterion=&#x27;entropy&#x27;, max_depth=7, min_samples_leaf=15)</pre></div> </div></div></div></div></div></div></div></div></div></div></div>"
      ]
     },
     "execution_count": 9,
     "metadata": {},
     "output_type": "execute_result"
    }
   ],
   "execution_count": 9
  },
  {
   "cell_type": "markdown",
   "id": "82031890",
   "metadata": {},
   "source": [
    "Revisemos los mejores hiperparámetros:"
   ]
  },
  {
   "cell_type": "code",
   "id": "8611f28c-1664-44f4-92ab-067acdafcbab",
   "metadata": {
    "ExecuteTime": {
     "end_time": "2024-11-19T21:37:47.629922Z",
     "start_time": "2024-11-19T21:37:47.615923Z"
    }
   },
   "source": [
    "grid_dt.best_params_"
   ],
   "outputs": [
    {
     "data": {
      "text/plain": [
       "{'classifier__criterion': 'entropy',\n",
       " 'classifier__max_depth': 7,\n",
       " 'classifier__min_samples_leaf': 15}"
      ]
     },
     "execution_count": 10,
     "metadata": {},
     "output_type": "execute_result"
    }
   ],
   "execution_count": 10
  },
  {
   "cell_type": "markdown",
   "id": "c63951ba",
   "metadata": {},
   "source": [
    "Vamos a mostrar la matriz de confusión para los datos de entrenamiento y los datos de prueba."
   ]
  },
  {
   "cell_type": "code",
   "id": "62b0153b",
   "metadata": {
    "ExecuteTime": {
     "end_time": "2024-11-19T21:41:56.276891Z",
     "start_time": "2024-11-19T21:41:56.088892Z"
    }
   },
   "source": [
    "train_val_preds = grid_dt.best_estimator_.predict(churn_df[features])\n",
    "test_preds = grid_dt.best_estimator_.predict(test_df[features])\n",
    "\n",
    "fig, axes = plt.subplots(1, 2, figsize=(12, 5))\n",
    "\n",
    "train_val_cm = confusion_matrix(churn_df[\"churn\"], train_val_preds, labels=grid_dt.best_estimator_.classes_)\n",
    "train_val_disp = ConfusionMatrixDisplay(confusion_matrix=train_val_cm, display_labels=grid_dt.best_estimator_.classes_,)\n",
    "train_val_disp.plot(ax=axes[0],  cmap=plt.cm.Blues)\n",
    "axes[0].set_title(\"Train/Val\")\n",
    "\n",
    "test_cm = confusion_matrix(test_df[\"churn\"], test_preds, labels=grid_dt.best_estimator_.classes_)\n",
    "test_disp = ConfusionMatrixDisplay(confusion_matrix=test_cm, display_labels=grid_dt.best_estimator_.classes_)\n",
    "test_disp.plot(ax=axes[1], cmap=plt.cm.Blues)\n",
    "axes[1].set_title(\"Test\")\n",
    "\n",
    "plt.show()"
   ],
   "outputs": [
    {
     "data": {
      "text/plain": [
       "<Figure size 864x360 with 4 Axes>"
      ],
      "image/png": "[encoded data removed]"
     },
     "metadata": {},
     "output_type": "display_data"
    }
   ],
   "execution_count": 16
  },
  {
   "cell_type": "markdown",
   "id": "ea113697",
   "metadata": {},
   "source": [
    "Vemos que la precisión de la etiqueta objetivo (1= el cliente cancelará) es relativamente alta, sin embargo el recall está algo bajo. En resumen, los clientes que predecimos son en gran porcentaje los que van a cancelar, pero solo logramos detectar alrededor de la mitad de todos los clientes que van a abandonar según nuestro dataset."
   ]
  },
  {
   "cell_type": "code",
   "id": "353b696a",
   "metadata": {
    "ExecuteTime": {
     "end_time": "2024-11-19T21:42:07.963147Z",
     "start_time": "2024-11-19T21:42:07.933149Z"
    }
   },
   "source": [
    "print(\"Accuracy:\")\n",
    "print(\"- Train/Val:\", accuracy_score(churn_df[\"churn\"], train_val_preds))\n",
    "print(\"- Test:\", accuracy_score(test_df[\"churn\"], test_preds))\n",
    "print(\"Precision:\")\n",
    "print(\"- Train/Val:\", precision_score(churn_df[\"churn\"], train_val_preds))\n",
    "print(\"- Test:\", precision_score(test_df[\"churn\"], test_preds))\n",
    "print(\"\\nRecall:\")\n",
    "print(\"- Train/Val:\", recall_score(churn_df[\"churn\"], train_val_preds))\n",
    "print(\"- Test:\", recall_score(test_df[\"churn\"], test_preds))\n",
    "print(\"\\nF1:\")\n",
    "print(\"- Train/Val:\", f1_score(churn_df[\"churn\"], train_val_preds))\n",
    "print(\"- Test:\", f1_score(test_df[\"churn\"], test_preds))\n",
    "print(\"\\nROC AUC:\")\n",
    "print(\"- Train/Val:\", roc_auc_score(churn_df[\"churn\"], train_val_preds))\n",
    "print(\"- Test:\", roc_auc_score(test_df[\"churn\"], test_preds))"
   ],
   "outputs": [
    {
     "name": "stdout",
     "output_type": "stream",
     "text": [
      "Accuracy:\n",
      "- Train/Val: 0.865\n",
      "- Test: 0.856\n",
      "Precision:\n",
      "- Train/Val: 0.7768817204301075\n",
      "- Test: 0.7112676056338029\n",
      "\n",
      "Recall:\n",
      "- Train/Val: 0.47299509001636664\n",
      "- Test: 0.4950980392156863\n",
      "\n",
      "F1:\n",
      "- Train/Val: 0.5879959308240081\n",
      "- Test: 0.5838150289017341\n",
      "\n",
      "ROC AUC:\n",
      "- Train/Val: 0.7191262599516743\n",
      "- Test: 0.721795250763622\n"
     ]
    }
   ],
   "execution_count": 17
  },
  {
   "cell_type": "markdown",
   "id": "fa4d2340",
   "metadata": {},
   "source": [
    "## Entrenando con un segundo modelo"
   ]
  },
  {
   "cell_type": "markdown",
   "id": "e5b086fc",
   "metadata": {},
   "source": [
    "Vamos a intentar un nuevo modelo, esta vez un ensemble de árboles de decisión: Random Forest. Revisemos qué tal lo hace."
   ]
  },
  {
   "cell_type": "code",
   "id": "28fb6e4a",
   "metadata": {
    "ExecuteTime": {
     "end_time": "2024-11-19T19:12:53.261974Z",
     "start_time": "2024-11-19T19:12:53.246975Z"
    }
   },
   "source": [
    "pipeline_rf = Pipeline([\n",
    "    (\"transformer\", ColumnTransformer([\n",
    "        (\"categorical\", OneHotEncoder(), [\"country\"])\n",
    "    ], remainder=\"passthrough\")),\n",
    "    (\"classifier\",  RandomForestClassifier(random_state=10))\n",
    "]) "
   ],
   "outputs": [],
   "execution_count": 21
  },
  {
   "cell_type": "code",
   "id": "85a53d55",
   "metadata": {
    "ExecuteTime": {
     "end_time": "2024-11-19T19:12:53.277974Z",
     "start_time": "2024-11-19T19:12:53.262975Z"
    }
   },
   "source": [
    "param_grid_rf = {\n",
    "    \"classifier__n_estimators\": [50, 100, 150],\n",
    "    \"classifier__max_depth\" : [3, 4, 5, 6],\n",
    "    \"classifier__class_weight\": [\"balanced\", None]\n",
    "}"
   ],
   "outputs": [],
   "execution_count": 22
  },
  {
   "cell_type": "code",
   "id": "97698fb2",
   "metadata": {
    "ExecuteTime": {
     "end_time": "2024-11-19T19:12:53.293974Z",
     "start_time": "2024-11-19T19:12:53.278976Z"
    }
   },
   "source": [
    "grid_rf = GridSearchCV(estimator=pipeline_rf, param_grid=param_grid_rf, scoring=[\"precision\", \"recall\", \"f1\", \"roc_auc\"], refit=\"f1\", cv=5, return_train_score=True)\n"
   ],
   "outputs": [],
   "execution_count": 23
  },
  {
   "cell_type": "code",
   "id": "a0922625",
   "metadata": {
    "ExecuteTime": {
     "end_time": "2024-11-19T19:13:26.210994Z",
     "start_time": "2024-11-19T19:12:53.294974Z"
    }
   },
   "source": [
    "grid_rf.fit(churn_df[features], churn_df[\"churn\"])\n"
   ],
   "outputs": [
    {
     "name": "stderr",
     "output_type": "stream",
     "text": [
      "c:\\users\\esteban\\appdata\\local\\programs\\python\\python39\\lib\\site-packages\\sklearn\\compose\\_column_transformer.py:1623: FutureWarning: \n",
      "The format of the columns of the 'remainder' transformer in ColumnTransformer.transformers_ will change in version 1.7 to match the format of the other transformers.\n",
      "At the moment the remainder columns are stored as indices (of type int). With the same ColumnTransformer configuration, in the future they will be stored as column names (of type str).\n",
      "To use the new behavior now and suppress this warning, use ColumnTransformer(force_int_remainder_cols=False).\n",
      "\n",
      "  warnings.warn(\n"
     ]
    },
    {
     "data": {
      "text/plain": [
       "GridSearchCV(cv=5,\n",
       "             estimator=Pipeline(steps=[('transformer',\n",
       "                                        ColumnTransformer(remainder='passthrough',\n",
       "                                                          transformers=[('categorical',\n",
       "                                                                         OneHotEncoder(),\n",
       "                                                                         ['country'])])),\n",
       "                                       ('classifier',\n",
       "                                        RandomForestClassifier(random_state=10))]),\n",
       "             param_grid={'classifier__class_weight': ['balanced', None],\n",
       "                         'classifier__max_depth': [3, 4, 5, 6],\n",
       "                         'classifier__n_estimators': [50, 100, 150]},\n",
       "             refit='f1', return_train_score=True,\n",
       "             scoring=['precision', 'recall', 'f1', 'roc_auc'])"
      ],
      "text/html": [
       "<style>#sk-container-id-2 {\n",
       "  /* Definition of color scheme common for light and dark mode */\n",
       "  --sklearn-color-text: black;\n",
       "  --sklearn-color-line: gray;\n",
       "  /* Definition of color scheme for unfitted estimators */\n",
       "  --sklearn-color-unfitted-level-0: #fff5e6;\n",
       "  --sklearn-color-unfitted-level-1: #f6e4d2;\n",
       "  --sklearn-color-unfitted-level-2: #ffe0b3;\n",
       "  --sklearn-color-unfitted-level-3: chocolate;\n",
       "  /* Definition of color scheme for fitted estimators */\n",
       "  --sklearn-color-fitted-level-0: #f0f8ff;\n",
       "  --sklearn-color-fitted-level-1: #d4ebff;\n",
       "  --sklearn-color-fitted-level-2: #b3dbfd;\n",
       "  --sklearn-color-fitted-level-3: cornflowerblue;\n",
       "\n",
       "  /* Specific color for light theme */\n",
       "  --sklearn-color-text-on-default-background: var(--sg-text-color, var(--theme-code-foreground, var(--jp-content-font-color1, black)));\n",
       "  --sklearn-color-background: var(--sg-background-color, var(--theme-background, var(--jp-layout-color0, white)));\n",
       "  --sklearn-color-border-box: var(--sg-text-color, var(--theme-code-foreground, var(--jp-content-font-color1, black)));\n",
       "  --sklearn-color-icon: #696969;\n",
       "\n",
       "  @media (prefers-color-scheme: dark) {\n",
       "    /* Redefinition of color scheme for dark theme */\n",
       "    --sklearn-color-text-on-default-background: var(--sg-text-color, var(--theme-code-foreground, var(--jp-content-font-color1, white)));\n",
       "    --sklearn-color-background: var(--sg-background-color, var(--theme-background, var(--jp-layout-color0, #111)));\n",
       "    --sklearn-color-border-box: var(--sg-text-color, var(--theme-code-foreground, var(--jp-content-font-color1, white)));\n",
       "    --sklearn-color-icon: #878787;\n",
       "  }\n",
       "}\n",
       "\n",
       "#sk-container-id-2 {\n",
       "  color: var(--sklearn-color-text);\n",
       "}\n",
       "\n",
       "#sk-container-id-2 pre {\n",
       "  padding: 0;\n",
       "}\n",
       "\n",
       "#sk-container-id-2 input.sk-hidden--visually {\n",
       "  border: 0;\n",
       "  clip: rect(1px 1px 1px 1px);\n",
       "  clip: rect(1px, 1px, 1px, 1px);\n",
       "  height: 1px;\n",
       "  margin: -1px;\n",
       "  overflow: hidden;\n",
       "  padding: 0;\n",
       "  position: absolute;\n",
       "  width: 1px;\n",
       "}\n",
       "\n",
       "#sk-container-id-2 div.sk-dashed-wrapped {\n",
       "  border: 1px dashed var(--sklearn-color-line);\n",
       "  margin: 0 0.4em 0.5em 0.4em;\n",
       "  box-sizing: border-box;\n",
       "  padding-bottom: 0.4em;\n",
       "  background-color: var(--sklearn-color-background);\n",
       "}\n",
       "\n",
       "#sk-container-id-2 div.sk-container {\n",
       "  /* jupyter's `normalize.less` sets `[hidden] { display: none; }`\n",
       "     but bootstrap.min.css set `[hidden] { display: none !important; }`\n",
       "     so we also need the `!important` here to be able to override the\n",
       "     default hidden behavior on the sphinx rendered scikit-learn.org.\n",
       "     See: https://github.com/scikit-learn/scikit-learn/issues/21755 */\n",
       "  display: inline-block !important;\n",
       "  position: relative;\n",
       "}\n",
       "\n",
       "#sk-container-id-2 div.sk-text-repr-fallback {\n",
       "  display: none;\n",
       "}\n",
       "\n",
       "div.sk-parallel-item,\n",
       "div.sk-serial,\n",
       "div.sk-item {\n",
       "  /* draw centered vertical line to link estimators */\n",
       "  background-image: linear-gradient(var(--sklearn-color-text-on-default-background), var(--sklearn-color-text-on-default-background));\n",
       "  background-size: 2px 100%;\n",
       "  background-repeat: no-repeat;\n",
       "  background-position: center center;\n",
       "}\n",
       "\n",
       "/* Parallel-specific style estimator block */\n",
       "\n",
       "#sk-container-id-2 div.sk-parallel-item::after {\n",
       "  content: \"\";\n",
       "  width: 100%;\n",
       "  border-bottom: 2px solid var(--sklearn-color-text-on-default-background);\n",
       "  flex-grow: 1;\n",
       "}\n",
       "\n",
       "#sk-container-id-2 div.sk-parallel {\n",
       "  display: flex;\n",
       "  align-items: stretch;\n",
       "  justify-content: center;\n",
       "  background-color: var(--sklearn-color-background);\n",
       "  position: relative;\n",
       "}\n",
       "\n",
       "#sk-container-id-2 div.sk-parallel-item {\n",
       "  display: flex;\n",
       "  flex-direction: column;\n",
       "}\n",
       "\n",
       "#sk-container-id-2 div.sk-parallel-item:first-child::after {\n",
       "  align-self: flex-end;\n",
       "  width: 50%;\n",
       "}\n",
       "\n",
       "#sk-container-id-2 div.sk-parallel-item:last-child::after {\n",
       "  align-self: flex-start;\n",
       "  width: 50%;\n",
       "}\n",
       "\n",
       "#sk-container-id-2 div.sk-parallel-item:only-child::after {\n",
       "  width: 0;\n",
       "}\n",
       "\n",
       "/* Serial-specific style estimator block */\n",
       "\n",
       "#sk-container-id-2 div.sk-serial {\n",
       "  display: flex;\n",
       "  flex-direction: column;\n",
       "  align-items: center;\n",
       "  background-color: var(--sklearn-color-background);\n",
       "  padding-right: 1em;\n",
       "  padding-left: 1em;\n",
       "}\n",
       "\n",
       "\n",
       "/* Toggleable style: style used for estimator/Pipeline/ColumnTransformer box that is\n",
       "clickable and can be expanded/collapsed.\n",
       "- Pipeline and ColumnTransformer use this feature and define the default style\n",
       "- Estimators will overwrite some part of the style using the `sk-estimator` class\n",
       "*/\n",
       "\n",
       "/* Pipeline and ColumnTransformer style (default) */\n",
       "\n",
       "#sk-container-id-2 div.sk-toggleable {\n",
       "  /* Default theme specific background. It is overwritten whether we have a\n",
       "  specific estimator or a Pipeline/ColumnTransformer */\n",
       "  background-color: var(--sklearn-color-background);\n",
       "}\n",
       "\n",
       "/* Toggleable label */\n",
       "#sk-container-id-2 label.sk-toggleable__label {\n",
       "  cursor: pointer;\n",
       "  display: block;\n",
       "  width: 100%;\n",
       "  margin-bottom: 0;\n",
       "  padding: 0.5em;\n",
       "  box-sizing: border-box;\n",
       "  text-align: center;\n",
       "}\n",
       "\n",
       "#sk-container-id-2 label.sk-toggleable__label-arrow:before {\n",
       "  /* Arrow on the left of the label */\n",
       "  content: \"▸\";\n",
       "  float: left;\n",
       "  margin-right: 0.25em;\n",
       "  color: var(--sklearn-color-icon);\n",
       "}\n",
       "\n",
       "#sk-container-id-2 label.sk-toggleable__label-arrow:hover:before {\n",
       "  color: var(--sklearn-color-text);\n",
       "}\n",
       "\n",
       "/* Toggleable content - dropdown */\n",
       "\n",
       "#sk-container-id-2 div.sk-toggleable__content {\n",
       "  max-height: 0;\n",
       "  max-width: 0;\n",
       "  overflow: hidden;\n",
       "  text-align: left;\n",
       "  /* unfitted */\n",
       "  background-color: var(--sklearn-color-unfitted-level-0);\n",
       "}\n",
       "\n",
       "#sk-container-id-2 div.sk-toggleable__content.fitted {\n",
       "  /* fitted */\n",
       "  background-color: var(--sklearn-color-fitted-level-0);\n",
       "}\n",
       "\n",
       "#sk-container-id-2 div.sk-toggleable__content pre {\n",
       "  margin: 0.2em;\n",
       "  border-radius: 0.25em;\n",
       "  color: var(--sklearn-color-text);\n",
       "  /* unfitted */\n",
       "  background-color: var(--sklearn-color-unfitted-level-0);\n",
       "}\n",
       "\n",
       "#sk-container-id-2 div.sk-toggleable__content.fitted pre {\n",
       "  /* unfitted */\n",
       "  background-color: var(--sklearn-color-fitted-level-0);\n",
       "}\n",
       "\n",
       "#sk-container-id-2 input.sk-toggleable__control:checked~div.sk-toggleable__content {\n",
       "  /* Expand drop-down */\n",
       "  max-height: 200px;\n",
       "  max-width: 100%;\n",
       "  overflow: auto;\n",
       "}\n",
       "\n",
       "#sk-container-id-2 input.sk-toggleable__control:checked~label.sk-toggleable__label-arrow:before {\n",
       "  content: \"▾\";\n",
       "}\n",
       "\n",
       "/* Pipeline/ColumnTransformer-specific style */\n",
       "\n",
       "#sk-container-id-2 div.sk-label input.sk-toggleable__control:checked~label.sk-toggleable__label {\n",
       "  color: var(--sklearn-color-text);\n",
       "  background-color: var(--sklearn-color-unfitted-level-2);\n",
       "}\n",
       "\n",
       "#sk-container-id-2 div.sk-label.fitted input.sk-toggleable__control:checked~label.sk-toggleable__label {\n",
       "  background-color: var(--sklearn-color-fitted-level-2);\n",
       "}\n",
       "\n",
       "/* Estimator-specific style */\n",
       "\n",
       "/* Colorize estimator box */\n",
       "#sk-container-id-2 div.sk-estimator input.sk-toggleable__control:checked~label.sk-toggleable__label {\n",
       "  /* unfitted */\n",
       "  background-color: var(--sklearn-color-unfitted-level-2);\n",
       "}\n",
       "\n",
       "#sk-container-id-2 div.sk-estimator.fitted input.sk-toggleable__control:checked~label.sk-toggleable__label {\n",
       "  /* fitted */\n",
       "  background-color: var(--sklearn-color-fitted-level-2);\n",
       "}\n",
       "\n",
       "#sk-container-id-2 div.sk-label label.sk-toggleable__label,\n",
       "#sk-container-id-2 div.sk-label label {\n",
       "  /* The background is the default theme color */\n",
       "  color: var(--sklearn-color-text-on-default-background);\n",
       "}\n",
       "\n",
       "/* On hover, darken the color of the background */\n",
       "#sk-container-id-2 div.sk-label:hover label.sk-toggleable__label {\n",
       "  color: var(--sklearn-color-text);\n",
       "  background-color: var(--sklearn-color-unfitted-level-2);\n",
       "}\n",
       "\n",
       "/* Label box, darken color on hover, fitted */\n",
       "#sk-container-id-2 div.sk-label.fitted:hover label.sk-toggleable__label.fitted {\n",
       "  color: var(--sklearn-color-text);\n",
       "  background-color: var(--sklearn-color-fitted-level-2);\n",
       "}\n",
       "\n",
       "/* Estimator label */\n",
       "\n",
       "#sk-container-id-2 div.sk-label label {\n",
       "  font-family: monospace;\n",
       "  font-weight: bold;\n",
       "  display: inline-block;\n",
       "  line-height: 1.2em;\n",
       "}\n",
       "\n",
       "#sk-container-id-2 div.sk-label-container {\n",
       "  text-align: center;\n",
       "}\n",
       "\n",
       "/* Estimator-specific */\n",
       "#sk-container-id-2 div.sk-estimator {\n",
       "  font-family: monospace;\n",
       "  border: 1px dotted var(--sklearn-color-border-box);\n",
       "  border-radius: 0.25em;\n",
       "  box-sizing: border-box;\n",
       "  margin-bottom: 0.5em;\n",
       "  /* unfitted */\n",
       "  background-color: var(--sklearn-color-unfitted-level-0);\n",
       "}\n",
       "\n",
       "#sk-container-id-2 div.sk-estimator.fitted {\n",
       "  /* fitted */\n",
       "  background-color: var(--sklearn-color-fitted-level-0);\n",
       "}\n",
       "\n",
       "/* on hover */\n",
       "#sk-container-id-2 div.sk-estimator:hover {\n",
       "  /* unfitted */\n",
       "  background-color: var(--sklearn-color-unfitted-level-2);\n",
       "}\n",
       "\n",
       "#sk-container-id-2 div.sk-estimator.fitted:hover {\n",
       "  /* fitted */\n",
       "  background-color: var(--sklearn-color-fitted-level-2);\n",
       "}\n",
       "\n",
       "/* Specification for estimator info (e.g. \"i\" and \"?\") */\n",
       "\n",
       "/* Common style for \"i\" and \"?\" */\n",
       "\n",
       ".sk-estimator-doc-link,\n",
       "a:link.sk-estimator-doc-link,\n",
       "a:visited.sk-estimator-doc-link {\n",
       "  float: right;\n",
       "  font-size: smaller;\n",
       "  line-height: 1em;\n",
       "  font-family: monospace;\n",
       "  background-color: var(--sklearn-color-background);\n",
       "  border-radius: 1em;\n",
       "  height: 1em;\n",
       "  width: 1em;\n",
       "  text-decoration: none !important;\n",
       "  margin-left: 1ex;\n",
       "  /* unfitted */\n",
       "  border: var(--sklearn-color-unfitted-level-1) 1pt solid;\n",
       "  color: var(--sklearn-color-unfitted-level-1);\n",
       "}\n",
       "\n",
       ".sk-estimator-doc-link.fitted,\n",
       "a:link.sk-estimator-doc-link.fitted,\n",
       "a:visited.sk-estimator-doc-link.fitted {\n",
       "  /* fitted */\n",
       "  border: var(--sklearn-color-fitted-level-1) 1pt solid;\n",
       "  color: var(--sklearn-color-fitted-level-1);\n",
       "}\n",
       "\n",
       "/* On hover */\n",
       "div.sk-estimator:hover .sk-estimator-doc-link:hover,\n",
       ".sk-estimator-doc-link:hover,\n",
       "div.sk-label-container:hover .sk-estimator-doc-link:hover,\n",
       ".sk-estimator-doc-link:hover {\n",
       "  /* unfitted */\n",
       "  background-color: var(--sklearn-color-unfitted-level-3);\n",
       "  color: var(--sklearn-color-background);\n",
       "  text-decoration: none;\n",
       "}\n",
       "\n",
       "div.sk-estimator.fitted:hover .sk-estimator-doc-link.fitted:hover,\n",
       ".sk-estimator-doc-link.fitted:hover,\n",
       "div.sk-label-container:hover .sk-estimator-doc-link.fitted:hover,\n",
       ".sk-estimator-doc-link.fitted:hover {\n",
       "  /* fitted */\n",
       "  background-color: var(--sklearn-color-fitted-level-3);\n",
       "  color: var(--sklearn-color-background);\n",
       "  text-decoration: none;\n",
       "}\n",
       "\n",
       "/* Span, style for the box shown on hovering the info icon */\n",
       ".sk-estimator-doc-link span {\n",
       "  display: none;\n",
       "  z-index: 9999;\n",
       "  position: relative;\n",
       "  font-weight: normal;\n",
       "  right: .2ex;\n",
       "  padding: .5ex;\n",
       "  margin: .5ex;\n",
       "  width: min-content;\n",
       "  min-width: 20ex;\n",
       "  max-width: 50ex;\n",
       "  color: var(--sklearn-color-text);\n",
       "  box-shadow: 2pt 2pt 4pt #999;\n",
       "  /* unfitted */\n",
       "  background: var(--sklearn-color-unfitted-level-0);\n",
       "  border: .5pt solid var(--sklearn-color-unfitted-level-3);\n",
       "}\n",
       "\n",
       ".sk-estimator-doc-link.fitted span {\n",
       "  /* fitted */\n",
       "  background: var(--sklearn-color-fitted-level-0);\n",
       "  border: var(--sklearn-color-fitted-level-3);\n",
       "}\n",
       "\n",
       ".sk-estimator-doc-link:hover span {\n",
       "  display: block;\n",
       "}\n",
       "\n",
       "/* \"?\"-specific style due to the `<a>` HTML tag */\n",
       "\n",
       "#sk-container-id-2 a.estimator_doc_link {\n",
       "  float: right;\n",
       "  font-size: 1rem;\n",
       "  line-height: 1em;\n",
       "  font-family: monospace;\n",
       "  background-color: var(--sklearn-color-background);\n",
       "  border-radius: 1rem;\n",
       "  height: 1rem;\n",
       "  width: 1rem;\n",
       "  text-decoration: none;\n",
       "  /* unfitted */\n",
       "  color: var(--sklearn-color-unfitted-level-1);\n",
       "  border: var(--sklearn-color-unfitted-level-1) 1pt solid;\n",
       "}\n",
       "\n",
       "#sk-container-id-2 a.estimator_doc_link.fitted {\n",
       "  /* fitted */\n",
       "  border: var(--sklearn-color-fitted-level-1) 1pt solid;\n",
       "  color: var(--sklearn-color-fitted-level-1);\n",
       "}\n",
       "\n",
       "/* On hover */\n",
       "#sk-container-id-2 a.estimator_doc_link:hover {\n",
       "  /* unfitted */\n",
       "  background-color: var(--sklearn-color-unfitted-level-3);\n",
       "  color: var(--sklearn-color-background);\n",
       "  text-decoration: none;\n",
       "}\n",
       "\n",
       "#sk-container-id-2 a.estimator_doc_link.fitted:hover {\n",
       "  /* fitted */\n",
       "  background-color: var(--sklearn-color-fitted-level-3);\n",
       "}\n",
       "</style><div id=\"sk-container-id-2\" class=\"sk-top-container\"><div class=\"sk-text-repr-fallback\"><pre>GridSearchCV(cv=5,\n",
       "             estimator=Pipeline(steps=[(&#x27;transformer&#x27;,\n",
       "                                        ColumnTransformer(remainder=&#x27;passthrough&#x27;,\n",
       "                                                          transformers=[(&#x27;categorical&#x27;,\n",
       "                                                                         OneHotEncoder(),\n",
       "                                                                         [&#x27;country&#x27;])])),\n",
       "                                       (&#x27;classifier&#x27;,\n",
       "                                        RandomForestClassifier(random_state=10))]),\n",
       "             param_grid={&#x27;classifier__class_weight&#x27;: [&#x27;balanced&#x27;, None],\n",
       "                         &#x27;classifier__max_depth&#x27;: [3, 4, 5, 6],\n",
       "                         &#x27;classifier__n_estimators&#x27;: [50, 100, 150]},\n",
       "             refit=&#x27;f1&#x27;, return_train_score=True,\n",
       "             scoring=[&#x27;precision&#x27;, &#x27;recall&#x27;, &#x27;f1&#x27;, &#x27;roc_auc&#x27;])</pre><b>In a Jupyter environment, please rerun this cell to show the HTML representation or trust the notebook. <br />On GitHub, the HTML representation is unable to render, please try loading this page with nbviewer.org.</b></div><div class=\"sk-container\" hidden><div class=\"sk-item sk-dashed-wrapped\"><div class=\"sk-label-container\"><div class=\"sk-label fitted sk-toggleable\"><input class=\"sk-toggleable__control sk-hidden--visually\" id=\"sk-estimator-id-9\" type=\"checkbox\" ><label for=\"sk-estimator-id-9\" class=\"sk-toggleable__label fitted sk-toggleable__label-arrow fitted\">&nbsp;&nbsp;GridSearchCV<a class=\"sk-estimator-doc-link fitted\" rel=\"noreferrer\" target=\"_blank\" href=\"https://scikit-learn.org/1.5/modules/generated/sklearn.model_selection.GridSearchCV.html\">?<span>Documentation for GridSearchCV</span></a><span class=\"sk-estimator-doc-link fitted\">i<span>Fitted</span></span></label><div class=\"sk-toggleable__content fitted\"><pre>GridSearchCV(cv=5,\n",
       "             estimator=Pipeline(steps=[(&#x27;transformer&#x27;,\n",
       "                                        ColumnTransformer(remainder=&#x27;passthrough&#x27;,\n",
       "                                                          transformers=[(&#x27;categorical&#x27;,\n",
       "                                                                         OneHotEncoder(),\n",
       "                                                                         [&#x27;country&#x27;])])),\n",
       "                                       (&#x27;classifier&#x27;,\n",
       "                                        RandomForestClassifier(random_state=10))]),\n",
       "             param_grid={&#x27;classifier__class_weight&#x27;: [&#x27;balanced&#x27;, None],\n",
       "                         &#x27;classifier__max_depth&#x27;: [3, 4, 5, 6],\n",
       "                         &#x27;classifier__n_estimators&#x27;: [50, 100, 150]},\n",
       "             refit=&#x27;f1&#x27;, return_train_score=True,\n",
       "             scoring=[&#x27;precision&#x27;, &#x27;recall&#x27;, &#x27;f1&#x27;, &#x27;roc_auc&#x27;])</pre></div> </div></div><div class=\"sk-parallel\"><div class=\"sk-parallel-item\"><div class=\"sk-item\"><div class=\"sk-label-container\"><div class=\"sk-label fitted sk-toggleable\"><input class=\"sk-toggleable__control sk-hidden--visually\" id=\"sk-estimator-id-10\" type=\"checkbox\" ><label for=\"sk-estimator-id-10\" class=\"sk-toggleable__label fitted sk-toggleable__label-arrow fitted\">best_estimator_: Pipeline</label><div class=\"sk-toggleable__content fitted\"><pre>Pipeline(steps=[(&#x27;transformer&#x27;,\n",
       "                 ColumnTransformer(remainder=&#x27;passthrough&#x27;,\n",
       "                                   transformers=[(&#x27;categorical&#x27;,\n",
       "                                                  OneHotEncoder(),\n",
       "                                                  [&#x27;country&#x27;])])),\n",
       "                (&#x27;classifier&#x27;,\n",
       "                 RandomForestClassifier(class_weight=&#x27;balanced&#x27;, max_depth=6,\n",
       "                                        random_state=10))])</pre></div> </div></div><div class=\"sk-serial\"><div class=\"sk-item\"><div class=\"sk-serial\"><div class=\"sk-item sk-dashed-wrapped\"><div class=\"sk-label-container\"><div class=\"sk-label fitted sk-toggleable\"><input class=\"sk-toggleable__control sk-hidden--visually\" id=\"sk-estimator-id-11\" type=\"checkbox\" ><label for=\"sk-estimator-id-11\" class=\"sk-toggleable__label fitted sk-toggleable__label-arrow fitted\">&nbsp;transformer: ColumnTransformer<a class=\"sk-estimator-doc-link fitted\" rel=\"noreferrer\" target=\"_blank\" href=\"https://scikit-learn.org/1.5/modules/generated/sklearn.compose.ColumnTransformer.html\">?<span>Documentation for transformer: ColumnTransformer</span></a></label><div class=\"sk-toggleable__content fitted\"><pre>ColumnTransformer(remainder=&#x27;passthrough&#x27;,\n",
       "                  transformers=[(&#x27;categorical&#x27;, OneHotEncoder(), [&#x27;country&#x27;])])</pre></div> </div></div><div class=\"sk-parallel\"><div class=\"sk-parallel-item\"><div class=\"sk-item\"><div class=\"sk-label-container\"><div class=\"sk-label fitted sk-toggleable\"><input class=\"sk-toggleable__control sk-hidden--visually\" id=\"sk-estimator-id-12\" type=\"checkbox\" ><label for=\"sk-estimator-id-12\" class=\"sk-toggleable__label fitted sk-toggleable__label-arrow fitted\">categorical</label><div class=\"sk-toggleable__content fitted\"><pre>[&#x27;country&#x27;]</pre></div> </div></div><div class=\"sk-serial\"><div class=\"sk-item\"><div class=\"sk-estimator fitted sk-toggleable\"><input class=\"sk-toggleable__control sk-hidden--visually\" id=\"sk-estimator-id-13\" type=\"checkbox\" ><label for=\"sk-estimator-id-13\" class=\"sk-toggleable__label fitted sk-toggleable__label-arrow fitted\">&nbsp;OneHotEncoder<a class=\"sk-estimator-doc-link fitted\" rel=\"noreferrer\" target=\"_blank\" href=\"https://scikit-learn.org/1.5/modules/generated/sklearn.preprocessing.OneHotEncoder.html\">?<span>Documentation for OneHotEncoder</span></a></label><div class=\"sk-toggleable__content fitted\"><pre>OneHotEncoder()</pre></div> </div></div></div></div></div><div class=\"sk-parallel-item\"><div class=\"sk-item\"><div class=\"sk-label-container\"><div class=\"sk-label fitted sk-toggleable\"><input class=\"sk-toggleable__control sk-hidden--visually\" id=\"sk-estimator-id-14\" type=\"checkbox\" ><label for=\"sk-estimator-id-14\" class=\"sk-toggleable__label fitted sk-toggleable__label-arrow fitted\">remainder</label><div class=\"sk-toggleable__content fitted\"><pre>[&#x27;age&#x27;, &#x27;balance&#x27;, &#x27;products_number&#x27;, &#x27;active_member&#x27;]</pre></div> </div></div><div class=\"sk-serial\"><div class=\"sk-item\"><div class=\"sk-estimator fitted sk-toggleable\"><input class=\"sk-toggleable__control sk-hidden--visually\" id=\"sk-estimator-id-15\" type=\"checkbox\" ><label for=\"sk-estimator-id-15\" class=\"sk-toggleable__label fitted sk-toggleable__label-arrow fitted\">passthrough</label><div class=\"sk-toggleable__content fitted\"><pre>passthrough</pre></div> </div></div></div></div></div></div></div><div class=\"sk-item\"><div class=\"sk-estimator fitted sk-toggleable\"><input class=\"sk-toggleable__control sk-hidden--visually\" id=\"sk-estimator-id-16\" type=\"checkbox\" ><label for=\"sk-estimator-id-16\" class=\"sk-toggleable__label fitted sk-toggleable__label-arrow fitted\">&nbsp;RandomForestClassifier<a class=\"sk-estimator-doc-link fitted\" rel=\"noreferrer\" target=\"_blank\" href=\"https://scikit-learn.org/1.5/modules/generated/sklearn.ensemble.RandomForestClassifier.html\">?<span>Documentation for RandomForestClassifier</span></a></label><div class=\"sk-toggleable__content fitted\"><pre>RandomForestClassifier(class_weight=&#x27;balanced&#x27;, max_depth=6, random_state=10)</pre></div> </div></div></div></div></div></div></div></div></div></div></div>"
      ]
     },
     "execution_count": 24,
     "metadata": {},
     "output_type": "execute_result"
    }
   ],
   "execution_count": 24
  },
  {
   "cell_type": "code",
   "id": "479e79f0",
   "metadata": {
    "ExecuteTime": {
     "end_time": "2024-11-19T19:13:26.479504Z",
     "start_time": "2024-11-19T19:13:26.211992Z"
    }
   },
   "source": [
    "train_val_preds_2 = grid_.best_estimator_.predict(churn_df[features])\n",
    "test_preds_2 = grid_rf.best_estimator_.predict(test_df[features])\n",
    "\n",
    "fig, axes = plt.subplots(1, 2, figsize=(12, 5))\n",
    "\n",
    "train_val_cm = confusion_matrix(churn_df[\"churn\"], train_val_preds_2, labels=grid_rf.best_estimator_.classes_)\n",
    "train_val_disp = ConfusionMatrixDisplay(confusion_matrix=train_val_cm, display_labels=grid_rf.best_estimator_.classes_)\n",
    "train_val_disp.plot(ax=axes[0])\n",
    "axes[0].set_title(\"Train/Val\")\n",
    "\n",
    "test_cm = confusion_matrix(test_df[\"churn\"], test_preds_2, labels=grid_rf.best_estimator_.classes_)\n",
    "test_disp = ConfusionMatrixDisplay(confusion_matrix=test_cm, display_labels=grid_rf.best_estimator_.classes_)\n",
    "test_disp.plot(ax=axes[1])\n",
    "axes[1].set_title(\"Test\")\n",
    "\n",
    "plt.show()"
   ],
   "outputs": [
    {
     "data": {
      "text/plain": [
       "<Figure size 864x360 with 4 Axes>"
      ],
      "image/png": "[encoded data removed]"
     },
     "metadata": {
      "needs_background": "light"
     },
     "output_type": "display_data"
    }
   ],
   "execution_count": 25
  },
  {
   "cell_type": "markdown",
   "id": "cbc07006",
   "metadata": {},
   "source": [
    "En este caso podemos ver que la precisión se redujo considerablemente, pero nuestro recall aumentó considerablemente."
   ]
  },
  {
   "cell_type": "code",
   "id": "a6bc2c65",
   "metadata": {
    "ExecuteTime": {
     "end_time": "2024-11-19T19:13:26.495505Z",
     "start_time": "2024-11-19T19:13:26.480507Z"
    }
   },
   "source": [
    "grid_rf.best_params_\n"
   ],
   "outputs": [
    {
     "data": {
      "text/plain": [
       "{'classifier__class_weight': 'balanced',\n",
       " 'classifier__max_depth': 6,\n",
       " 'classifier__n_estimators': 100}"
      ]
     },
     "execution_count": 26,
     "metadata": {},
     "output_type": "execute_result"
    }
   ],
   "execution_count": 26
  },
  {
   "cell_type": "code",
   "id": "74b708ea",
   "metadata": {
    "ExecuteTime": {
     "end_time": "2024-11-19T19:13:26.527503Z",
     "start_time": "2024-11-19T19:13:26.496506Z"
    }
   },
   "source": [
    "print(\"Accuracy:\")\n",
    "print(\"- Train/Val:\", accuracy_score(churn_df[\"churn\"], train_val_preds))\n",
    "print(\"- Test:\", accuracy_score(test_df[\"churn\"], test_preds))\n",
    "print(\"Precision:\")\n",
    "print(\"- Train/Val:\", precision_score(churn_df[\"churn\"], train_val_preds))\n",
    "print(\"- Test:\", precision_score(test_df[\"churn\"], test_preds))\n",
    "print(\"\\nRecall:\")\n",
    "print(\"- Train/Val:\", recall_score(churn_df[\"churn\"], train_val_preds))\n",
    "print(\"- Test:\", recall_score(test_df[\"churn\"], test_preds))\n",
    "print(\"\\nF1:\")\n",
    "print(\"- Train/Val:\", f1_score(churn_df[\"churn\"], train_val_preds))\n",
    "print(\"- Test:\", f1_score(test_df[\"churn\"], test_preds))\n",
    "print(\"\\nROC AUC:\")\n",
    "print(\"- Train/Val:\", roc_auc_score(churn_df[\"churn\"], train_val_preds))\n",
    "print(\"- Test:\", roc_auc_score(test_df[\"churn\"], test_preds))"
   ],
   "outputs": [
    {
     "name": "stdout",
     "output_type": "stream",
     "text": [
      "Accuracy:\n",
      "- Train/Val: 0.8142222222222222\n",
      "- Test: 0.792\n",
      "Precision:\n",
      "- Train/Val: 0.5316555249705073\n",
      "- Test: 0.4931972789115646\n",
      "\n",
      "Recall:\n",
      "- Train/Val: 0.7375886524822695\n",
      "- Test: 0.7107843137254902\n",
      "\n",
      "F1:\n",
      "- Train/Val: 0.6179159049360147\n",
      "- Test: 0.5823293172690763\n",
      "\n",
      "ROC AUC:\n",
      "- Train/Val: 0.7857051675973507\n",
      "- Test: 0.7617991920386246\n"
     ]
    }
   ],
   "execution_count": 27
  },
  {
   "cell_type": "markdown",
   "id": "36b400a7",
   "metadata": {},
   "source": [
    "Ahora viene la pregunta. ¿Es mejor un modelo que el otro? Para esto vamos a usar A/B Testing."
   ]
  },
  {
   "cell_type": "markdown",
   "id": "57ce1f53",
   "metadata": {},
   "source": [
    "## A/B Testing"
   ]
  },
  {
   "cell_type": "markdown",
   "id": "c5dec546",
   "metadata": {},
   "source": [
    "Nuestro modelo de control será el árbol de decisión original. Nuestra variante será el modelo de Random Forest."
   ]
  },
  {
   "cell_type": "code",
   "id": "6b13dcad",
   "metadata": {
    "ExecuteTime": {
     "end_time": "2024-11-19T19:13:26.542502Z",
     "start_time": "2024-11-19T19:13:26.528504Z"
    }
   },
   "source": [
    "control = grid_dt.best_estimator_\n",
    "variant = grid_rf.best_estimator_"
   ],
   "outputs": [],
   "execution_count": 28
  },
  {
   "cell_type": "markdown",
   "id": "0519c8d7",
   "metadata": {},
   "source": [
    "Vamos a dividir el conjunto de datos de prueba en dos, y vamos a predecir los valores usando cada clasificador independientemente."
   ]
  },
  {
   "cell_type": "code",
   "id": "00b05c63",
   "metadata": {
    "ExecuteTime": {
     "end_time": "2024-11-19T19:13:26.557504Z",
     "start_time": "2024-11-19T19:13:26.543505Z"
    }
   },
   "source": [
    "from sklearn.model_selection import train_test_split\n",
    "\n",
    "xtestA, xtestB, ytestA, ytestB = train_test_split(test_df[features], test_df['churn'], test_size=0.5)"
   ],
   "outputs": [],
   "execution_count": 29
  },
  {
   "cell_type": "code",
   "id": "71bc0e62",
   "metadata": {
    "ExecuteTime": {
     "end_time": "2024-11-19T19:13:26.573504Z",
     "start_time": "2024-11-19T19:13:26.558506Z"
    }
   },
   "source": [
    "ypred_control=control.predict(xtestA)\n",
    "ypred_variant=variant.predict(xtestB)\n"
   ],
   "outputs": [],
   "execution_count": 30
  },
  {
   "cell_type": "markdown",
   "id": "01ca00f1",
   "metadata": {},
   "source": [
    "Vamos a validar usando Exactitud general: qué tan bien en general detecta cada clasificador los clientes que se van y los que se quedan. Debido a la naturaleza desbalanceada del problema, la exactitud inicial será bastante alta:"
   ]
  },
  {
   "cell_type": "code",
   "id": "41c605d8",
   "metadata": {
    "ExecuteTime": {
     "end_time": "2024-11-19T19:13:26.589503Z",
     "start_time": "2024-11-19T19:13:26.574505Z"
    }
   },
   "source": [
    "acc_control = (ypred_control==ytestA).astype(int)\n",
    "acc_variante = (ypred_variant==ytestB).astype(int)\n",
    "\n",
    "print(acc_control.mean())\n",
    "print(acc_variante.mean())"
   ],
   "outputs": [
    {
     "name": "stdout",
     "output_type": "stream",
     "text": [
      "0.86\n",
      "0.796\n"
     ]
    }
   ],
   "execution_count": 31
  },
  {
   "cell_type": "code",
   "id": "5b1c12eb",
   "metadata": {
    "ExecuteTime": {
     "end_time": "2024-11-19T19:13:26.604506Z",
     "start_time": "2024-11-19T19:13:26.590504Z"
    }
   },
   "source": [
    "from scipy import stats\n",
    "\n",
    "\n",
    "t_stat, p_value = stats.ttest_rel(acc_control, acc_variante)\n",
    "print(f\"T-statistic: {t_stat}, P-value: {p_value}\")"
   ],
   "outputs": [
    {
     "name": "stdout",
     "output_type": "stream",
     "text": [
      "T-statistic: 2.8042954353011953, P-value: 0.005239262001432518\n"
     ]
    }
   ],
   "execution_count": 32
  },
  {
   "cell_type": "markdown",
   "id": "75c84da7",
   "metadata": {},
   "source": [
    "De acuerdo con esto, las distribuciones son suficientemente diferentes para indicar que si hay una diferencia significativa entre el control y la variante en términos de la Exactitud que, con alta confianza, no es producto del azar."
   ]
  },
  {
   "cell_type": "markdown",
   "id": "82a20000",
   "metadata": {},
   "source": [
    "## Test de McNemar para la matriz de confusión"
   ]
  },
  {
   "cell_type": "markdown",
   "id": "cf905741",
   "metadata": {},
   "source": [
    "Vamos ahora a usar el [test de McNemar](https://en.wikipedia.org/wiki/McNemar%27s_test) para validar la diferencia entre ambos modelos a partir de una tabla de contingencia. Esta tabla es muy parecida a una matriz de confusión, sólo que compara los dos modelos entre sí, para determinar cuáles predicciones fueron correctas en ambos modelos, cuales incorrectas en ambas, y cuáles correctas sólo para uno de ellos. Para probar con múltiples clases es necesario probar con One vs All para cada clase (y probar si existe una diferencia significativa por clase para el clasificador), o usando el test de Cochran's Q también disponible en statsmodel."
   ]
  },
  {
   "cell_type": "code",
   "id": "87458119",
   "metadata": {
    "ExecuteTime": {
     "end_time": "2024-11-19T19:13:26.651521Z",
     "start_time": "2024-11-19T19:13:26.607506Z"
    }
   },
   "source": [
    "%pip install statsmodels\n"
   ],
   "outputs": [
    {
     "name": "stdout",
     "output_type": "stream",
     "text": [
      "Note: you may need to restart the kernel to use updated packages.\n"
     ]
    },
    {
     "name": "stderr",
     "output_type": "stream",
     "text": [
      "The filename, directory name, or volume label syntax is incorrect.\n"
     ]
    }
   ],
   "execution_count": 33
  },
  {
   "cell_type": "code",
   "id": "d0b02e6d",
   "metadata": {
    "ExecuteTime": {
     "end_time": "2024-11-19T19:13:26.699521Z",
     "start_time": "2024-11-19T19:13:26.652523Z"
    }
   },
   "source": [
    "%pip install mlxtend"
   ],
   "outputs": [
    {
     "name": "stdout",
     "output_type": "stream",
     "text": [
      "Note: you may need to restart the kernel to use updated packages.\n"
     ]
    },
    {
     "name": "stderr",
     "output_type": "stream",
     "text": [
      "The filename, directory name, or volume label syntax is incorrect.\n"
     ]
    }
   ],
   "execution_count": 34
  },
  {
   "cell_type": "code",
   "id": "cc5d273a",
   "metadata": {
    "ExecuteTime": {
     "end_time": "2024-11-19T21:57:43.316276Z",
     "start_time": "2024-11-19T21:57:43.276277Z"
    }
   },
   "source": [
    "from statsmodels.stats.contingency_tables import mcnemar\n",
    "from sklearn.metrics import confusion_matrix\n",
    "from mlxtend.evaluate import mcnemar_tables\n"
   ],
   "outputs": [],
   "execution_count": 34
  },
  {
   "cell_type": "code",
   "id": "f267b097",
   "metadata": {
    "ExecuteTime": {
     "end_time": "2024-11-19T21:57:43.441788Z",
     "start_time": "2024-11-19T21:57:43.426789Z"
    }
   },
   "source": [
    "ypred_control=control.predict(test_df[features])\n",
    "ypred_variant=variant.predict(test_df[features]) "
   ],
   "outputs": [],
   "execution_count": 35
  },
  {
   "cell_type": "markdown",
   "id": "1c08e1bc",
   "metadata": {},
   "source": [
    "Vamos a generar nuestra tabla de contingencia"
   ]
  },
  {
   "cell_type": "code",
   "id": "292ce6bd",
   "metadata": {
    "ExecuteTime": {
     "end_time": "2024-11-19T19:13:26.795523Z",
     "start_time": "2024-11-19T19:13:26.780521Z"
    }
   },
   "source": [
    "tb = mcnemar_tables(test_df['churn'], \n",
    "                    ypred_control, \n",
    "                    ypred_variant)"
   ],
   "outputs": [],
   "execution_count": 37
  },
  {
   "cell_type": "code",
   "id": "755b5f00",
   "metadata": {
    "ExecuteTime": {
     "end_time": "2024-11-19T19:13:26.921520Z",
     "start_time": "2024-11-19T19:13:26.796522Z"
    }
   },
   "source": [
    "from mlxtend.plotting import checkerboard_plot\n",
    "import matplotlib.pyplot as plt\n",
    "\n",
    "brd = checkerboard_plot(tb['model_0 vs model_1'],\n",
    "                        figsize=(3, 3),\n",
    "                        fmt='%d',\n",
    "                        col_labels=['variant right', 'variant wrong'],\n",
    "                        row_labels=['control right', 'control wrong'])\n",
    "plt.show()"
   ],
   "outputs": [
    {
     "data": {
      "text/plain": [
       "<Figure size 216x216 with 1 Axes>"
      ],
      "image/png": "[encoded data removed]"
     },
     "metadata": {
      "needs_background": "light"
     },
     "output_type": "display_data"
    }
   ],
   "execution_count": 38
  },
  {
   "cell_type": "markdown",
   "id": "6a601f3f",
   "metadata": {},
   "source": [
    "Vemos acá entonces que ambos modelos predijeron correctamente las clases de 748 instancias, y ambos clasificaron incorrectamente 100 instancias. El control clasificó incorrectamente 44 instancias que la variante clasificó correctamente, mientras que la variante clasificó 108 instancias incorrectamente que el control clasificó correctamente. Hay un radio de 108:44, el control lo hizo mejor casi 2.5 veces que la variante."
   ]
  },
  {
   "cell_type": "code",
   "id": "7ec40d7e",
   "metadata": {
    "ExecuteTime": {
     "end_time": "2024-11-19T19:13:26.937520Z",
     "start_time": "2024-11-19T19:13:26.922522Z"
    }
   },
   "source": [
    "conf_matrix = confusion_matrix(ypred_control, ypred_variant)\n",
    "\n",
    "# Perform McNemar's test\n",
    "result = mcnemar(tb['model_0 vs model_1'], exact=False)\n",
    "print(\"McNemar’s Test Results:\")\n",
    "print(f\"Statistic: {result.statistic}\")\n",
    "print(f\"P-value: {result.pvalue}\")"
   ],
   "outputs": [
    {
     "name": "stdout",
     "output_type": "stream",
     "text": [
      "McNemar’s Test Results:\n",
      "Statistic: 26.111842105263158\n",
      "P-value: 3.2220184411707507e-07\n"
     ]
    }
   ],
   "execution_count": 39
  },
  {
   "cell_type": "markdown",
   "id": "5e136670",
   "metadata": {},
   "source": [
    "Al hacer el test de McNemar, nos damos cuenta que la probabilidad de que ambos modelos lo hagan igual es bastante baja (mucho menor al 5%). Luego podemos determinar que la variante es efectivamente peor que el control."
   ]
  },
  {
   "cell_type": "markdown",
   "id": "71b66ad9",
   "metadata": {},
   "source": [
    "## Test para las diferentes métricas"
   ]
  },
  {
   "cell_type": "markdown",
   "id": "f3a99f56",
   "metadata": {},
   "source": [
    "Vamos a usar ahora el t-test 5x2cv para comparar el rendimiento de los dos modelos usando diferentes métricas. Este modelo divide los datos en 50/50 5 veces, calculando dos métricas y a partir de esto, realizando el cálculo de la estadística t."
   ]
  },
  {
   "cell_type": "code",
   "id": "a701e7f5",
   "metadata": {
    "ExecuteTime": {
     "end_time": "2024-11-19T19:13:27.881412Z",
     "start_time": "2024-11-19T19:13:26.938522Z"
    }
   },
   "source": [
    "from mlxtend.evaluate import paired_ttest_5x2cv\n",
    "\n",
    "\n",
    "t, p = paired_ttest_5x2cv(estimator1=control, estimator2=variant, X=test_df[features], y=test_df['churn'], scoring='accuracy', random_seed=1)\n",
    "# summarize\n",
    "print('P-value: %.3f, t-Statistic: %.3f' % (p, t))"
   ],
   "outputs": [
    {
     "name": "stdout",
     "output_type": "stream",
     "text": [
      "P-value: 0.549, t-Statistic: 0.641\n"
     ]
    }
   ],
   "execution_count": 40
  },
  {
   "cell_type": "code",
   "id": "85ce68aa",
   "metadata": {
    "ExecuteTime": {
     "end_time": "2024-11-19T19:13:28.807412Z",
     "start_time": "2024-11-19T19:13:27.882414Z"
    }
   },
   "source": [
    "t, p = paired_ttest_5x2cv(estimator1=control, estimator2=variant, X=test_df[features], y=test_df['churn'], scoring='precision', random_seed=1)\n",
    "# summarize\n",
    "print('P-value: %.3f, t-Statistic: %.3f' % (p, t))"
   ],
   "outputs": [
    {
     "name": "stdout",
     "output_type": "stream",
     "text": [
      "P-value: 0.228, t-Statistic: 1.374\n"
     ]
    }
   ],
   "execution_count": 41
  },
  {
   "cell_type": "code",
   "id": "fab958ba",
   "metadata": {
    "ExecuteTime": {
     "end_time": "2024-11-19T19:13:29.729738Z",
     "start_time": "2024-11-19T19:13:28.808414Z"
    }
   },
   "source": [
    "t, p = paired_ttest_5x2cv(estimator1=control, estimator2=variant, X=test_df[features], y=test_df['churn'], scoring='recall', random_seed=1)\n",
    "# summarize\n",
    "print('P-value: %.3f, t-Statistic: %.3f' % (p, t))"
   ],
   "outputs": [
    {
     "name": "stdout",
     "output_type": "stream",
     "text": [
      "P-value: 0.002, t-Statistic: -6.157\n"
     ]
    }
   ],
   "execution_count": 42
  },
  {
   "cell_type": "markdown",
   "id": "e6f35119",
   "metadata": {},
   "source": [
    "Como conclusión vemos que en términos de exactitud y precisión, ambos modelos no tienen diferencias significativas. Sin embargo, este test nos muestra que en términos de recall son suficientemente diferentes."
   ]
  },
  {
   "cell_type": "markdown",
   "id": "ba96700b",
   "metadata": {},
   "source": [
    "### ACTIVIDADES SUGERIDAS\n",
    "\n",
    "1. Determine si los modelos son justos con relación al atributo \"gender\".\n",
    "2. Utilice una estrategia de aumentación de datos para entrenar los modelos originales. Valide los modelos con las nuevas métricas.\n",
    "3. Plantee un tercer modelo usando una *regresión logística*. Utilice pruebas A/B para determinar si su modelo es mejor o peor que el control.\n",
    "\n"
   ]
  },
  {
   "cell_type": "markdown",
   "id": "eae00f42",
   "metadata": {},
   "source": [
    "<span style=\"color: red;\">Q: How to interpret coefficients in Logistic Regression?</span>"
   ]
  },
  {
   "cell_type": "markdown",
   "id": "feea43e3",
   "metadata": {},
   "source": [
    "### Justicia"
   ]
  },
  {
   "cell_type": "code",
   "id": "4260339d",
   "metadata": {
    "ExecuteTime": {
     "end_time": "2024-11-19T19:15:29.432457Z",
     "start_time": "2024-11-19T19:15:29.371947Z"
    }
   },
   "source": [
    "\n",
    "# Añadir la variable sensible `gender` a los datos de prueba\n",
    "X_test_with_gender = xtestA.copy()\n",
    "# Agregar la columna 'gender' desde test_df\n",
    "X_test_with_gender['gender'] = test_df.loc[xtestA.index, 'gender']\n",
    "\n",
    "\n",
    "# Crear un DataFrame para análisis\n",
    "results = pd.DataFrame({\n",
    "    'y_true': ytestA,\n",
    "    'y_pred': ypred_control,\n",
    "    'gender': X_test_with_gender['gender']\n",
    "})\n",
    "\n",
    "# Separar por género\n",
    "groups = results.groupby('gender')\n",
    "\n",
    "# Métricas de equidad\n",
    "metrics = {}\n",
    "for group, data in groups:\n",
    "    cm = confusion_matrix(data['y_true'], data['y_pred'])\n",
    "    tn, fp, fn, tp = cm.ravel()\n",
    "    \n",
    "    # Cálculo de métricas por grupo\n",
    "    metrics[group] = {\n",
    "        'Accuracy': accuracy_score(data['y_true'], data['y_pred']),\n",
    "        'False Positive Rate': fp / (fp + tn) if (fp + tn) > 0 else 0,\n",
    "        'False Negative Rate': fn / (fn + tp) if (fn + tp) > 0 else 0,\n",
    "        'Positive Rate': (data['y_pred'] == 1).mean(),\n",
    "        'Negative Rate': (data['y_pred'] == 0).mean(),\n",
    "    }\n",
    "\n",
    "# Mostrar métricas por grupo\n",
    "metrics_df = pd.DataFrame(metrics).T\n",
    "print(\"Fairness Metrics by Gender Group:\")\n",
    "print(metrics_df)\n",
    "\n",
    "# Calcular disparidad demográfica\n",
    "positive_rates = metrics_df['Positive Rate']\n",
    "disparate_impact = positive_rates.min() / positive_rates.max()\n",
    "print(\"\\nDisparate Impact:\", disparate_impact)\n",
    "\n",
    "# Determinar si cumple el umbral de justicia\n",
    "threshold = 0.8  # Comúnmente se usa 80%\n",
    "if disparate_impact >= threshold:\n",
    "    print(\"El modelo cumple con el criterio de justicia.\")\n",
    "else:\n",
    "    print(\"El modelo no cumple con el criterio de justicia.\")\n"
   ],
   "outputs": [
    {
     "ename": "ValueError",
     "evalue": "array length 1000 does not match index length 500",
     "output_type": "error",
     "traceback": [
      "\u001B[1;31m---------------------------------------------------------------------------\u001B[0m",
      "\u001B[1;31mValueError\u001B[0m                                Traceback (most recent call last)",
      "\u001B[1;32m~\\AppData\\Local\\Temp/ipykernel_12588/2094561179.py\u001B[0m in \u001B[0;36m<module>\u001B[1;34m\u001B[0m\n\u001B[0;32m      6\u001B[0m \u001B[1;33m\u001B[0m\u001B[0m\n\u001B[0;32m      7\u001B[0m \u001B[1;31m# Crear un DataFrame para análisis\u001B[0m\u001B[1;33m\u001B[0m\u001B[1;33m\u001B[0m\u001B[1;33m\u001B[0m\u001B[0m\n\u001B[1;32m----> 8\u001B[1;33m results = pd.DataFrame({\n\u001B[0m\u001B[0;32m      9\u001B[0m     \u001B[1;34m'y_true'\u001B[0m\u001B[1;33m:\u001B[0m \u001B[0mytestA\u001B[0m\u001B[1;33m,\u001B[0m\u001B[1;33m\u001B[0m\u001B[1;33m\u001B[0m\u001B[0m\n\u001B[0;32m     10\u001B[0m     \u001B[1;34m'y_pred'\u001B[0m\u001B[1;33m:\u001B[0m \u001B[0mypred_control\u001B[0m\u001B[1;33m,\u001B[0m\u001B[1;33m\u001B[0m\u001B[1;33m\u001B[0m\u001B[0m\n",
      "\u001B[1;32mc:\\users\\esteban\\appdata\\local\\programs\\python\\python39\\lib\\site-packages\\pandas\\core\\frame.py\u001B[0m in \u001B[0;36m__init__\u001B[1;34m(self, data, index, columns, dtype, copy)\u001B[0m\n\u001B[0;32m    776\u001B[0m         \u001B[1;32melif\u001B[0m \u001B[0misinstance\u001B[0m\u001B[1;33m(\u001B[0m\u001B[0mdata\u001B[0m\u001B[1;33m,\u001B[0m \u001B[0mdict\u001B[0m\u001B[1;33m)\u001B[0m\u001B[1;33m:\u001B[0m\u001B[1;33m\u001B[0m\u001B[1;33m\u001B[0m\u001B[0m\n\u001B[0;32m    777\u001B[0m             \u001B[1;31m# GH#38939 de facto copy defaults to False only in non-dict cases\u001B[0m\u001B[1;33m\u001B[0m\u001B[1;33m\u001B[0m\u001B[1;33m\u001B[0m\u001B[0m\n\u001B[1;32m--> 778\u001B[1;33m             \u001B[0mmgr\u001B[0m \u001B[1;33m=\u001B[0m \u001B[0mdict_to_mgr\u001B[0m\u001B[1;33m(\u001B[0m\u001B[0mdata\u001B[0m\u001B[1;33m,\u001B[0m \u001B[0mindex\u001B[0m\u001B[1;33m,\u001B[0m \u001B[0mcolumns\u001B[0m\u001B[1;33m,\u001B[0m \u001B[0mdtype\u001B[0m\u001B[1;33m=\u001B[0m\u001B[0mdtype\u001B[0m\u001B[1;33m,\u001B[0m \u001B[0mcopy\u001B[0m\u001B[1;33m=\u001B[0m\u001B[0mcopy\u001B[0m\u001B[1;33m,\u001B[0m \u001B[0mtyp\u001B[0m\u001B[1;33m=\u001B[0m\u001B[0mmanager\u001B[0m\u001B[1;33m)\u001B[0m\u001B[1;33m\u001B[0m\u001B[1;33m\u001B[0m\u001B[0m\n\u001B[0m\u001B[0;32m    779\u001B[0m         \u001B[1;32melif\u001B[0m \u001B[0misinstance\u001B[0m\u001B[1;33m(\u001B[0m\u001B[0mdata\u001B[0m\u001B[1;33m,\u001B[0m \u001B[0mma\u001B[0m\u001B[1;33m.\u001B[0m\u001B[0mMaskedArray\u001B[0m\u001B[1;33m)\u001B[0m\u001B[1;33m:\u001B[0m\u001B[1;33m\u001B[0m\u001B[1;33m\u001B[0m\u001B[0m\n\u001B[0;32m    780\u001B[0m             \u001B[1;32mfrom\u001B[0m \u001B[0mnumpy\u001B[0m\u001B[1;33m.\u001B[0m\u001B[0mma\u001B[0m \u001B[1;32mimport\u001B[0m \u001B[0mmrecords\u001B[0m\u001B[1;33m\u001B[0m\u001B[1;33m\u001B[0m\u001B[0m\n",
      "\u001B[1;32mc:\\users\\esteban\\appdata\\local\\programs\\python\\python39\\lib\\site-packages\\pandas\\core\\internals\\construction.py\u001B[0m in \u001B[0;36mdict_to_mgr\u001B[1;34m(data, index, columns, dtype, typ, copy)\u001B[0m\n\u001B[0;32m    501\u001B[0m             \u001B[0marrays\u001B[0m \u001B[1;33m=\u001B[0m \u001B[1;33m[\u001B[0m\u001B[0mx\u001B[0m\u001B[1;33m.\u001B[0m\u001B[0mcopy\u001B[0m\u001B[1;33m(\u001B[0m\u001B[1;33m)\u001B[0m \u001B[1;32mif\u001B[0m \u001B[0mhasattr\u001B[0m\u001B[1;33m(\u001B[0m\u001B[0mx\u001B[0m\u001B[1;33m,\u001B[0m \u001B[1;34m\"dtype\"\u001B[0m\u001B[1;33m)\u001B[0m \u001B[1;32melse\u001B[0m \u001B[0mx\u001B[0m \u001B[1;32mfor\u001B[0m \u001B[0mx\u001B[0m \u001B[1;32min\u001B[0m \u001B[0marrays\u001B[0m\u001B[1;33m]\u001B[0m\u001B[1;33m\u001B[0m\u001B[1;33m\u001B[0m\u001B[0m\n\u001B[0;32m    502\u001B[0m \u001B[1;33m\u001B[0m\u001B[0m\n\u001B[1;32m--> 503\u001B[1;33m     \u001B[1;32mreturn\u001B[0m \u001B[0marrays_to_mgr\u001B[0m\u001B[1;33m(\u001B[0m\u001B[0marrays\u001B[0m\u001B[1;33m,\u001B[0m \u001B[0mcolumns\u001B[0m\u001B[1;33m,\u001B[0m \u001B[0mindex\u001B[0m\u001B[1;33m,\u001B[0m \u001B[0mdtype\u001B[0m\u001B[1;33m=\u001B[0m\u001B[0mdtype\u001B[0m\u001B[1;33m,\u001B[0m \u001B[0mtyp\u001B[0m\u001B[1;33m=\u001B[0m\u001B[0mtyp\u001B[0m\u001B[1;33m,\u001B[0m \u001B[0mconsolidate\u001B[0m\u001B[1;33m=\u001B[0m\u001B[0mcopy\u001B[0m\u001B[1;33m)\u001B[0m\u001B[1;33m\u001B[0m\u001B[1;33m\u001B[0m\u001B[0m\n\u001B[0m\u001B[0;32m    504\u001B[0m \u001B[1;33m\u001B[0m\u001B[0m\n\u001B[0;32m    505\u001B[0m \u001B[1;33m\u001B[0m\u001B[0m\n",
      "\u001B[1;32mc:\\users\\esteban\\appdata\\local\\programs\\python\\python39\\lib\\site-packages\\pandas\\core\\internals\\construction.py\u001B[0m in \u001B[0;36marrays_to_mgr\u001B[1;34m(arrays, columns, index, dtype, verify_integrity, typ, consolidate)\u001B[0m\n\u001B[0;32m    112\u001B[0m         \u001B[1;31m# figure out the index, if necessary\u001B[0m\u001B[1;33m\u001B[0m\u001B[1;33m\u001B[0m\u001B[1;33m\u001B[0m\u001B[0m\n\u001B[0;32m    113\u001B[0m         \u001B[1;32mif\u001B[0m \u001B[0mindex\u001B[0m \u001B[1;32mis\u001B[0m \u001B[1;32mNone\u001B[0m\u001B[1;33m:\u001B[0m\u001B[1;33m\u001B[0m\u001B[1;33m\u001B[0m\u001B[0m\n\u001B[1;32m--> 114\u001B[1;33m             \u001B[0mindex\u001B[0m \u001B[1;33m=\u001B[0m \u001B[0m_extract_index\u001B[0m\u001B[1;33m(\u001B[0m\u001B[0marrays\u001B[0m\u001B[1;33m)\u001B[0m\u001B[1;33m\u001B[0m\u001B[1;33m\u001B[0m\u001B[0m\n\u001B[0m\u001B[0;32m    115\u001B[0m         \u001B[1;32melse\u001B[0m\u001B[1;33m:\u001B[0m\u001B[1;33m\u001B[0m\u001B[1;33m\u001B[0m\u001B[0m\n\u001B[0;32m    116\u001B[0m             \u001B[0mindex\u001B[0m \u001B[1;33m=\u001B[0m \u001B[0mensure_index\u001B[0m\u001B[1;33m(\u001B[0m\u001B[0mindex\u001B[0m\u001B[1;33m)\u001B[0m\u001B[1;33m\u001B[0m\u001B[1;33m\u001B[0m\u001B[0m\n",
      "\u001B[1;32mc:\\users\\esteban\\appdata\\local\\programs\\python\\python39\\lib\\site-packages\\pandas\\core\\internals\\construction.py\u001B[0m in \u001B[0;36m_extract_index\u001B[1;34m(data)\u001B[0m\n\u001B[0;32m    688\u001B[0m                     \u001B[1;34mf\"length {len(index)}\"\u001B[0m\u001B[1;33m\u001B[0m\u001B[1;33m\u001B[0m\u001B[0m\n\u001B[0;32m    689\u001B[0m                 )\n\u001B[1;32m--> 690\u001B[1;33m                 \u001B[1;32mraise\u001B[0m \u001B[0mValueError\u001B[0m\u001B[1;33m(\u001B[0m\u001B[0mmsg\u001B[0m\u001B[1;33m)\u001B[0m\u001B[1;33m\u001B[0m\u001B[1;33m\u001B[0m\u001B[0m\n\u001B[0m\u001B[0;32m    691\u001B[0m         \u001B[1;32melse\u001B[0m\u001B[1;33m:\u001B[0m\u001B[1;33m\u001B[0m\u001B[1;33m\u001B[0m\u001B[0m\n\u001B[0;32m    692\u001B[0m             \u001B[0mindex\u001B[0m \u001B[1;33m=\u001B[0m \u001B[0mdefault_index\u001B[0m\u001B[1;33m(\u001B[0m\u001B[0mlengths\u001B[0m\u001B[1;33m[\u001B[0m\u001B[1;36m0\u001B[0m\u001B[1;33m]\u001B[0m\u001B[1;33m)\u001B[0m\u001B[1;33m\u001B[0m\u001B[1;33m\u001B[0m\u001B[0m\n",
      "\u001B[1;31mValueError\u001B[0m: array length 1000 does not match index length 500"
     ]
    }
   ],
   "execution_count": 44
  },
  {
   "cell_type": "code",
   "id": "d54025d4",
   "metadata": {
    "ExecuteTime": {
     "end_time": "2024-11-19T19:17:17.061056Z",
     "start_time": "2024-11-19T19:17:17.010055Z"
    }
   },
   "source": [
    "from sklearn.metrics import confusion_matrix, classification_report\n",
    "\n",
    "# Validar justicia con variable sensible gender\n",
    "sensitive_feature = 'gender'  \n",
    "\n",
    "# Dividir los datos por grupos\n",
    "group_a = xtestA[xtestA[sensitive_feature] == 0]  \n",
    "group_b = xtestA[xtestA[sensitive_feature] == 1]  \n",
    "\n",
    "# Etiquetas verdaderas y predicciones por grupo\n",
    "y_true_a = ytestA[xtestA[sensitive_feature] == 0]\n",
    "y_pred_a = grid_dt.best_estimator_.predict(group_a)\n",
    "\n",
    "y_true_b = ytestA[xtestA[sensitive_feature] == 1]\n",
    "y_pred_b = grid_dt.best_estimator_.predict(group_b)\n",
    "\n",
    "# Evaluar métricas por grupo\n",
    "print(\"Grupo A - Masculino:\")\n",
    "print(confusion_matrix(y_true_a, y_pred_a))\n",
    "print(classification_report(y_true_a, y_pred_a))\n",
    "\n",
    "print(\"Grupo B - Femenino:\")\n",
    "print(confusion_matrix(y_true_b, y_pred_b))\n",
    "print(classification_report(y_true_b, y_pred_b))\n",
    "\n"
   ],
   "outputs": [
    {
     "ename": "KeyError",
     "evalue": "'gender'",
     "output_type": "error",
     "traceback": [
      "\u001B[1;31m---------------------------------------------------------------------------\u001B[0m",
      "\u001B[1;31mKeyError\u001B[0m                                  Traceback (most recent call last)",
      "\u001B[1;32mc:\\users\\esteban\\appdata\\local\\programs\\python\\python39\\lib\\site-packages\\pandas\\core\\indexes\\base.py\u001B[0m in \u001B[0;36mget_loc\u001B[1;34m(self, key)\u001B[0m\n\u001B[0;32m   3804\u001B[0m         \u001B[1;32mtry\u001B[0m\u001B[1;33m:\u001B[0m\u001B[1;33m\u001B[0m\u001B[1;33m\u001B[0m\u001B[0m\n\u001B[1;32m-> 3805\u001B[1;33m             \u001B[1;32mreturn\u001B[0m \u001B[0mself\u001B[0m\u001B[1;33m.\u001B[0m\u001B[0m_engine\u001B[0m\u001B[1;33m.\u001B[0m\u001B[0mget_loc\u001B[0m\u001B[1;33m(\u001B[0m\u001B[0mcasted_key\u001B[0m\u001B[1;33m)\u001B[0m\u001B[1;33m\u001B[0m\u001B[1;33m\u001B[0m\u001B[0m\n\u001B[0m\u001B[0;32m   3806\u001B[0m         \u001B[1;32mexcept\u001B[0m \u001B[0mKeyError\u001B[0m \u001B[1;32mas\u001B[0m \u001B[0merr\u001B[0m\u001B[1;33m:\u001B[0m\u001B[1;33m\u001B[0m\u001B[1;33m\u001B[0m\u001B[0m\n",
      "\u001B[1;32mindex.pyx\u001B[0m in \u001B[0;36mpandas._libs.index.IndexEngine.get_loc\u001B[1;34m()\u001B[0m\n",
      "\u001B[1;32mindex.pyx\u001B[0m in \u001B[0;36mpandas._libs.index.IndexEngine.get_loc\u001B[1;34m()\u001B[0m\n",
      "\u001B[1;32mpandas\\\\_libs\\\\hashtable_class_helper.pxi\u001B[0m in \u001B[0;36mpandas._libs.hashtable.PyObjectHashTable.get_item\u001B[1;34m()\u001B[0m\n",
      "\u001B[1;32mpandas\\\\_libs\\\\hashtable_class_helper.pxi\u001B[0m in \u001B[0;36mpandas._libs.hashtable.PyObjectHashTable.get_item\u001B[1;34m()\u001B[0m\n",
      "\u001B[1;31mKeyError\u001B[0m: 'gender'",
      "\nThe above exception was the direct cause of the following exception:\n",
      "\u001B[1;31mKeyError\u001B[0m                                  Traceback (most recent call last)",
      "\u001B[1;32m~\\AppData\\Local\\Temp/ipykernel_12588/2192539475.py\u001B[0m in \u001B[0;36m<module>\u001B[1;34m\u001B[0m\n\u001B[0;32m      5\u001B[0m \u001B[1;33m\u001B[0m\u001B[0m\n\u001B[0;32m      6\u001B[0m \u001B[1;31m# Dividir los datos por grupos\u001B[0m\u001B[1;33m\u001B[0m\u001B[1;33m\u001B[0m\u001B[1;33m\u001B[0m\u001B[0m\n\u001B[1;32m----> 7\u001B[1;33m \u001B[0mgroup_a\u001B[0m \u001B[1;33m=\u001B[0m \u001B[0mxtestA\u001B[0m\u001B[1;33m[\u001B[0m\u001B[0mxtestA\u001B[0m\u001B[1;33m[\u001B[0m\u001B[0msensitive_feature\u001B[0m\u001B[1;33m]\u001B[0m \u001B[1;33m==\u001B[0m \u001B[1;36m0\u001B[0m\u001B[1;33m]\u001B[0m\u001B[1;33m\u001B[0m\u001B[1;33m\u001B[0m\u001B[0m\n\u001B[0m\u001B[0;32m      8\u001B[0m \u001B[0mgroup_b\u001B[0m \u001B[1;33m=\u001B[0m \u001B[0mxtestA\u001B[0m\u001B[1;33m[\u001B[0m\u001B[0mxtestA\u001B[0m\u001B[1;33m[\u001B[0m\u001B[0msensitive_feature\u001B[0m\u001B[1;33m]\u001B[0m \u001B[1;33m==\u001B[0m \u001B[1;36m1\u001B[0m\u001B[1;33m]\u001B[0m\u001B[1;33m\u001B[0m\u001B[1;33m\u001B[0m\u001B[0m\n\u001B[0;32m      9\u001B[0m \u001B[1;33m\u001B[0m\u001B[0m\n",
      "\u001B[1;32mc:\\users\\esteban\\appdata\\local\\programs\\python\\python39\\lib\\site-packages\\pandas\\core\\frame.py\u001B[0m in \u001B[0;36m__getitem__\u001B[1;34m(self, key)\u001B[0m\n\u001B[0;32m   4100\u001B[0m             \u001B[1;32mif\u001B[0m \u001B[0mself\u001B[0m\u001B[1;33m.\u001B[0m\u001B[0mcolumns\u001B[0m\u001B[1;33m.\u001B[0m\u001B[0mnlevels\u001B[0m \u001B[1;33m>\u001B[0m \u001B[1;36m1\u001B[0m\u001B[1;33m:\u001B[0m\u001B[1;33m\u001B[0m\u001B[1;33m\u001B[0m\u001B[0m\n\u001B[0;32m   4101\u001B[0m                 \u001B[1;32mreturn\u001B[0m \u001B[0mself\u001B[0m\u001B[1;33m.\u001B[0m\u001B[0m_getitem_multilevel\u001B[0m\u001B[1;33m(\u001B[0m\u001B[0mkey\u001B[0m\u001B[1;33m)\u001B[0m\u001B[1;33m\u001B[0m\u001B[1;33m\u001B[0m\u001B[0m\n\u001B[1;32m-> 4102\u001B[1;33m             \u001B[0mindexer\u001B[0m \u001B[1;33m=\u001B[0m \u001B[0mself\u001B[0m\u001B[1;33m.\u001B[0m\u001B[0mcolumns\u001B[0m\u001B[1;33m.\u001B[0m\u001B[0mget_loc\u001B[0m\u001B[1;33m(\u001B[0m\u001B[0mkey\u001B[0m\u001B[1;33m)\u001B[0m\u001B[1;33m\u001B[0m\u001B[1;33m\u001B[0m\u001B[0m\n\u001B[0m\u001B[0;32m   4103\u001B[0m             \u001B[1;32mif\u001B[0m \u001B[0mis_integer\u001B[0m\u001B[1;33m(\u001B[0m\u001B[0mindexer\u001B[0m\u001B[1;33m)\u001B[0m\u001B[1;33m:\u001B[0m\u001B[1;33m\u001B[0m\u001B[1;33m\u001B[0m\u001B[0m\n\u001B[0;32m   4104\u001B[0m                 \u001B[0mindexer\u001B[0m \u001B[1;33m=\u001B[0m \u001B[1;33m[\u001B[0m\u001B[0mindexer\u001B[0m\u001B[1;33m]\u001B[0m\u001B[1;33m\u001B[0m\u001B[1;33m\u001B[0m\u001B[0m\n",
      "\u001B[1;32mc:\\users\\esteban\\appdata\\local\\programs\\python\\python39\\lib\\site-packages\\pandas\\core\\indexes\\base.py\u001B[0m in \u001B[0;36mget_loc\u001B[1;34m(self, key)\u001B[0m\n\u001B[0;32m   3810\u001B[0m             ):\n\u001B[0;32m   3811\u001B[0m                 \u001B[1;32mraise\u001B[0m \u001B[0mInvalidIndexError\u001B[0m\u001B[1;33m(\u001B[0m\u001B[0mkey\u001B[0m\u001B[1;33m)\u001B[0m\u001B[1;33m\u001B[0m\u001B[1;33m\u001B[0m\u001B[0m\n\u001B[1;32m-> 3812\u001B[1;33m             \u001B[1;32mraise\u001B[0m \u001B[0mKeyError\u001B[0m\u001B[1;33m(\u001B[0m\u001B[0mkey\u001B[0m\u001B[1;33m)\u001B[0m \u001B[1;32mfrom\u001B[0m \u001B[0merr\u001B[0m\u001B[1;33m\u001B[0m\u001B[1;33m\u001B[0m\u001B[0m\n\u001B[0m\u001B[0;32m   3813\u001B[0m         \u001B[1;32mexcept\u001B[0m \u001B[0mTypeError\u001B[0m\u001B[1;33m:\u001B[0m\u001B[1;33m\u001B[0m\u001B[1;33m\u001B[0m\u001B[0m\n\u001B[0;32m   3814\u001B[0m             \u001B[1;31m# If we have a listlike key, _check_indexing_error will raise\u001B[0m\u001B[1;33m\u001B[0m\u001B[1;33m\u001B[0m\u001B[1;33m\u001B[0m\u001B[0m\n",
      "\u001B[1;31mKeyError\u001B[0m: 'gender'"
     ]
    }
   ],
   "execution_count": 45
  },
  {
   "cell_type": "markdown",
   "id": "8bea0ed3",
   "metadata": {},
   "source": [
    "Si las siguientes métricas varían significativamente entre los grupos, podría indicar un sesgo en el modelo."
   ]
  },
  {
   "cell_type": "code",
   "id": "b5958f1c",
   "metadata": {
    "ExecuteTime": {
     "end_time": "2024-11-19T22:07:55.569309Z",
     "start_time": "2024-11-19T22:07:55.537312Z"
    }
   },
   "source": [
    "from sklearn.metrics import classification_report\n",
    "\n",
    "# Separar las predicciones por género\n",
    "gender_groups = test_df['gender'].unique()  \n",
    "\n",
    "# Diccionario para almacenar resultados\n",
    "fairness_metrics = {}\n",
    "\n",
    "# Asume que `model` es el modelo entrenado y `xtestA`, `ytestA` son los datos de prueba\n",
    "df_F  = test_df[test_df['gender'] == 'F']\n",
    "df_M  = test_df[test_df['gender'] == 'M']\n",
    "for gender in gender_groups:\n",
    "    # Filtrar los datos por grupo de género\n",
    "    gender_mask = test_df['gender'] == gender\n",
    "    x_gender = xtestA[gender_mask]\n",
    "    y_gender = ytestA[gender_mask]\n",
    "    \n",
    "    # Obtener predicciones\n",
    "    y_pred_gender = grid_dt.best_estimator_.predict(x_gender)\n",
    "    \n",
    "    # Calcular métricas y almacenarlas\n",
    "    fairness_metrics[gender] = classification_report(\n",
    "        y_gender, y_pred_gender, output_dict=True\n",
    "    )\n",
    "\n",
    "# Mostrar resultados\n",
    "for gender, metrics in fairness_metrics.items():\n",
    "    print(f\"\\nMétricas para el género {gender}:\")\n",
    "    print(metrics)\n"
   ],
   "outputs": [
    {
     "name": "stdout",
     "output_type": "stream",
     "text": [
      "\n",
      "Métricas para el género Female:\n",
      "{'0': {'precision': 0.8064516129032258, 'recall': 0.9615384615384616, 'f1-score': 0.8771929824561403, 'support': 156.0}, '1': {'precision': 0.625, 'recall': 0.21739130434782608, 'f1-score': 0.3225806451612903, 'support': 46.0}, 'accuracy': 0.7920792079207921, 'macro avg': {'precision': 0.7157258064516129, 'recall': 0.5894648829431438, 'f1-score': 0.5998868138087153, 'support': 202.0}, 'weighted avg': {'precision': 0.7651309485787289, 'recall': 0.7920792079207921, 'f1-score': 0.7508951234682042, 'support': 202.0}}\n",
      "\n",
      "Métricas para el género Male:\n",
      "{'0': {'precision': 0.8628158844765343, 'recall': 0.991701244813278, 'f1-score': 0.9227799227799228, 'support': 241.0}, '1': {'precision': 0.9047619047619048, 'recall': 0.3333333333333333, 'f1-score': 0.48717948717948717, 'support': 57.0}, 'accuracy': 0.8657718120805369, 'macro avg': {'precision': 0.8837888946192196, 'recall': 0.6625172890733056, 'f1-score': 0.704979704979705, 'support': 298.0}, 'weighted avg': {'precision': 0.8708391165445414, 'recall': 0.8657718120805369, 'f1-score': 0.8394603763731281, 'support': 298.0}}\n"
     ]
    },
    {
     "name": "stderr",
     "output_type": "stream",
     "text": [
      "C:\\Users\\Esteban\\AppData\\Local\\Temp/ipykernel_6316/3313790867.py:13: UserWarning: Boolean Series key will be reindexed to match DataFrame index.\n",
      "  x_gender = xtestA[gender_mask]\n",
      "C:\\Users\\Esteban\\AppData\\Local\\Temp/ipykernel_6316/3313790867.py:13: UserWarning: Boolean Series key will be reindexed to match DataFrame index.\n",
      "  x_gender = xtestA[gender_mask]\n"
     ]
    }
   ],
   "execution_count": 48
  },
  {
   "cell_type": "markdown",
   "id": "33c195fa",
   "metadata": {},
   "source": [
    "El modelo no es justo con relación al género:\n",
    "\n",
    "- Detecta mejor a los clientes que cancelan (clase 1) para el género Male.\n",
    "- El desempeño global (accuracy y F1-score) es consistentemente mejor para hombres.\n",
    "- Las diferencias son suficientemente significativas para indicar que el modelo tiene un sesgo a favor del género Male."
   ]
  },
  {
   "cell_type": "markdown",
   "id": "fa57de22",
   "metadata": {},
   "source": [
    "#### Aumento de datos\n",
    "\n",
    "SMOTE"
   ]
  },
  {
   "cell_type": "code",
   "id": "3ad52c85",
   "metadata": {
    "ExecuteTime": {
     "end_time": "2024-11-19T19:17:53.572026Z",
     "start_time": "2024-11-19T19:17:53.555027Z"
    }
   },
   "source": [
    "print(\"\\nCompleteness analysis (null values ​​per column):\")\n",
    "null_values_by_column = churn_df.isnull().sum()\n",
    "null_percentage_by_column = (null_values_by_column / len(churn_df)) * 100\n",
    "completitud = pd.DataFrame({\n",
    "    'Null Values': null_values_by_column,\n",
    "    'Null Percentage': null_percentage_by_column\n",
    "})\n",
    "print(completitud.sort_values(by='Null Percentage', ascending=False))"
   ],
   "outputs": [
    {
     "name": "stdout",
     "output_type": "stream",
     "text": [
      "\n",
      "Completeness analysis (null values ​​per column):\n",
      "                  Null Values  Null Percentage\n",
      "credit_score                0              0.0\n",
      "country                     0              0.0\n",
      "gender                      0              0.0\n",
      "age                         0              0.0\n",
      "tenure                      0              0.0\n",
      "balance                     0              0.0\n",
      "products_number             0              0.0\n",
      "credit_card                 0              0.0\n",
      "active_member               0              0.0\n",
      "estimated_salary            0              0.0\n",
      "churn                       0              0.0\n"
     ]
    }
   ],
   "execution_count": 47
  },
  {
   "cell_type": "code",
   "id": "e0db3375",
   "metadata": {
    "ExecuteTime": {
     "end_time": "2024-11-19T19:17:54.607040Z",
     "start_time": "2024-11-19T19:17:54.590040Z"
    }
   },
   "source": [
    "print(\"\\nCompleteness analysis (null values ​​per column):\")\n",
    "null_values_by_column = test_df.isnull().sum()\n",
    "null_percentage_by_column = (null_values_by_column / len(test_df)) * 100\n",
    "completitud = pd.DataFrame({\n",
    "    'Null Values': null_values_by_column,\n",
    "    'Null Percentage': null_percentage_by_column\n",
    "})\n",
    "print(completitud.sort_values(by='Null Percentage', ascending=False))"
   ],
   "outputs": [
    {
     "name": "stdout",
     "output_type": "stream",
     "text": [
      "\n",
      "Completeness analysis (null values ​​per column):\n",
      "                  Null Values  Null Percentage\n",
      "credit_score                0              0.0\n",
      "country                     0              0.0\n",
      "gender                      0              0.0\n",
      "age                         0              0.0\n",
      "tenure                      0              0.0\n",
      "balance                     0              0.0\n",
      "products_number             0              0.0\n",
      "credit_card                 0              0.0\n",
      "active_member               0              0.0\n",
      "estimated_salary            0              0.0\n",
      "churn                       0              0.0\n"
     ]
    }
   ],
   "execution_count": 48
  },
  {
   "cell_type": "code",
   "id": "176c8b7e",
   "metadata": {
    "ExecuteTime": {
     "end_time": "2024-11-19T19:17:57.520451Z",
     "start_time": "2024-11-19T19:17:57.514450Z"
    }
   },
   "source": [
    "churn_df[\"age\"].value_counts(dropna=False, normalize=True)"
   ],
   "outputs": [
    {
     "data": {
      "text/plain": [
       "age\n",
       "35    0.048778\n",
       "38    0.048000\n",
       "37    0.047222\n",
       "36    0.045889\n",
       "33    0.045111\n",
       "34    0.043778\n",
       "40    0.043111\n",
       "39    0.043111\n",
       "32    0.041667\n",
       "31    0.041000\n",
       "29    0.035222\n",
       "41    0.035111\n",
       "42    0.033222\n",
       "30    0.032444\n",
       "43    0.029111\n",
       "28    0.027000\n",
       "44    0.026000\n",
       "45    0.023000\n",
       "46    0.022556\n",
       "27    0.020444\n",
       "26    0.020333\n",
       "47    0.016889\n",
       "48    0.016222\n",
       "49    0.015000\n",
       "25    0.015000\n",
       "50    0.013444\n",
       "24    0.013000\n",
       "51    0.011889\n",
       "52    0.009889\n",
       "23    0.009778\n",
       "22    0.008556\n",
       "54    0.008444\n",
       "55    0.008000\n",
       "53    0.007556\n",
       "57    0.007222\n",
       "56    0.007000\n",
       "58    0.006444\n",
       "60    0.006333\n",
       "59    0.006222\n",
       "61    0.005556\n",
       "62    0.005444\n",
       "21    0.004667\n",
       "63    0.004222\n",
       "20    0.004111\n",
       "64    0.003667\n",
       "66    0.003556\n",
       "67    0.003444\n",
       "71    0.002889\n",
       "19    0.002667\n",
       "69    0.002333\n",
       "18    0.002222\n",
       "72    0.002222\n",
       "68    0.002000\n",
       "74    0.001889\n",
       "65    0.001778\n",
       "70    0.001778\n",
       "76    0.001222\n",
       "73    0.001111\n",
       "77    0.001000\n",
       "75    0.000889\n",
       "78    0.000556\n",
       "79    0.000444\n",
       "80    0.000333\n",
       "84    0.000222\n",
       "81    0.000222\n",
       "83    0.000111\n",
       "92    0.000111\n",
       "85    0.000111\n",
       "88    0.000111\n",
       "82    0.000111\n",
       "Name: proportion, dtype: float64"
      ]
     },
     "execution_count": 49,
     "metadata": {},
     "output_type": "execute_result"
    }
   ],
   "execution_count": 49
  },
  {
   "cell_type": "code",
   "id": "c9ba25f7",
   "metadata": {},
   "source": [
    "churn_df[\"age\"].describe(percentiles=[0.05, 0.25, 0.5, 0.75, 0.95])"
   ],
   "outputs": [],
   "execution_count": null
  },
  {
   "cell_type": "code",
   "id": "e00f3b45",
   "metadata": {},
   "source": [
    "churn_df[\"balance\"].describe(percentiles=[0.05, 0.25, 0.5, 0.75, 0.95])"
   ],
   "outputs": [],
   "execution_count": null
  },
  {
   "cell_type": "code",
   "id": "f9bf74ac",
   "metadata": {},
   "source": [
    "churn_df[\"country\"].describe(percentiles=[0.05, 0.25, 0.5, 0.75, 0.95])"
   ],
   "outputs": [],
   "execution_count": null
  },
  {
   "cell_type": "code",
   "id": "39f52e74",
   "metadata": {},
   "source": [
    "churn_df[\"country\"].value_counts(dropna=False, normalize=True)"
   ],
   "outputs": [],
   "execution_count": null
  },
  {
   "cell_type": "code",
   "id": "00f61b01",
   "metadata": {},
   "source": [
    "churn_df[\"products_number\"].describe(percentiles=[0.05, 0.25, 0.5, 0.75, 0.95])"
   ],
   "outputs": [],
   "execution_count": null
  },
  {
   "cell_type": "code",
   "id": "eeb86150",
   "metadata": {},
   "source": [
    "churn_df[\"active_member\"].describe(percentiles=[0.05, 0.25, 0.5, 0.75, 0.95])"
   ],
   "outputs": [],
   "execution_count": null
  },
  {
   "cell_type": "code",
   "id": "0097dd26",
   "metadata": {
    "ExecuteTime": {
     "end_time": "2024-11-19T19:18:02.320334Z",
     "start_time": "2024-11-19T19:18:02.305335Z"
    }
   },
   "source": [
    "pipeline_dt_2 = Pipeline([\n",
    "    (\"classifier\",  DecisionTreeClassifier())])"
   ],
   "outputs": [],
   "execution_count": 50
  },
  {
   "cell_type": "code",
   "id": "92acc654",
   "metadata": {
    "ExecuteTime": {
     "end_time": "2024-11-19T19:18:03.044185Z",
     "start_time": "2024-11-19T19:18:03.021185Z"
    }
   },
   "source": [
    "from sklearn.preprocessing import LabelEncoder\n",
    "\n",
    "# Crear el codificador\n",
    "encoder = LabelEncoder()\n",
    "\n",
    "# Ajustar y transformar la columna 'country' en una sola columna numérica\n",
    "churn_df['country'] = encoder.fit_transform(churn_df['country'])\n",
    "\n",
    "# Mostrar el mapeo de categorías a números\n",
    "print(dict(zip(encoder.classes_, encoder.transform(encoder.classes_))))\n",
    "\n",
    "# Mostrar el DataFrame resultante\n",
    "print(churn_df)\n",
    "\n"
   ],
   "outputs": [
    {
     "name": "stdout",
     "output_type": "stream",
     "text": [
      "{'France': 0, 'Germany': 1, 'Spain': 2}\n",
      "      credit_score  country  gender  age  tenure    balance  products_number  \\\n",
      "0              781        2    Male   35       1       0.00                2   \n",
      "1              701        2  Female   21       9       0.00                2   \n",
      "2              685        2  Female   25      10  128509.63                1   \n",
      "3              680        0    Male   34       3  143292.95                1   \n",
      "4              756        1  Female   34       2  148200.72                1   \n",
      "...            ...      ...     ...  ...     ...        ...              ...   \n",
      "8995           730        0  Female   35       0  155470.55                1   \n",
      "8996           731        2  Female   40       5  171325.98                1   \n",
      "8997           707        0    Male   29       4       0.00                2   \n",
      "8998           630        0    Male   53       5  138053.67                1   \n",
      "8999           591        0    Male   43       3       0.00                2   \n",
      "\n",
      "      credit_card  active_member  estimated_salary  churn  \n",
      "0               0              0          42117.90      0  \n",
      "1               1              1          26327.42      0  \n",
      "2               1              0         121562.33      0  \n",
      "3               1              0          66526.01      0  \n",
      "4               0              0         194584.48      0  \n",
      "...           ...            ...               ...    ...  \n",
      "8995            1              1          53718.28      0  \n",
      "8996            1              1         159718.27      1  \n",
      "8997            1              0         139953.94      0  \n",
      "8998            0              1         114110.97      0  \n",
      "8999            0              1         198926.36      0  \n",
      "\n",
      "[9000 rows x 11 columns]\n"
     ]
    }
   ],
   "execution_count": 51
  },
  {
   "cell_type": "code",
   "id": "42433e9b",
   "metadata": {
    "ExecuteTime": {
     "end_time": "2024-11-19T19:18:04.477215Z",
     "start_time": "2024-11-19T19:18:04.468215Z"
    }
   },
   "source": [
    "test_df['country'] = encoder.fit_transform(test_df['country'])\n",
    "\n",
    "# Mostrar el mapeo de categorías a números\n",
    "print(dict(zip(encoder.classes_, encoder.transform(encoder.classes_))))\n",
    "\n",
    "# Mostrar el DataFrame resultante\n",
    "print(test_df)"
   ],
   "outputs": [
    {
     "name": "stdout",
     "output_type": "stream",
     "text": [
      "{'France': 0, 'Germany': 1, 'Spain': 2}\n",
      "     credit_score  country  gender  age  tenure    balance  products_number  \\\n",
      "0             713        2  Female   48       1  163760.82                1   \n",
      "1             502        0    Male   30       4       0.00                2   \n",
      "2             817        1    Male   45       9  101207.75                1   \n",
      "3             730        0    Male   39       1  116537.60                1   \n",
      "4             576        2    Male   52       2  100549.43                2   \n",
      "..            ...      ...     ...  ...     ...        ...              ...   \n",
      "995           564        2    Male   31       0  125175.58                1   \n",
      "996           712        0  Female   29       3   87375.78                2   \n",
      "997           647        1    Male   52       7  130013.12                1   \n",
      "998           687        0    Male   35       9       0.00                2   \n",
      "999           782        1  Female   53       1   81571.05                1   \n",
      "\n",
      "     credit_card  active_member  estimated_salary  churn  \n",
      "0              0              0         157381.14      1  \n",
      "1              1              1          66263.87      0  \n",
      "2              0              0          88211.12      1  \n",
      "3              0              0         145679.60      0  \n",
      "4              1              1          16644.16      0  \n",
      "..           ...            ...               ...    ...  \n",
      "995            1              1          72757.33      0  \n",
      "996            0              0         166194.53      0  \n",
      "997            1              1         190806.36      1  \n",
      "998            0              1          73133.82      0  \n",
      "999            1              0         182960.46      1  \n",
      "\n",
      "[1000 rows x 11 columns]\n"
     ]
    }
   ],
   "execution_count": 52
  },
  {
   "cell_type": "code",
   "id": "f7f2feb6",
   "metadata": {
    "ExecuteTime": {
     "end_time": "2024-11-19T19:18:05.940196Z",
     "start_time": "2024-11-19T19:18:05.925197Z"
    }
   },
   "source": [
    "churn_df[\"country\"].describe(percentiles=[0.05, 0.25, 0.5, 0.75, 0.95])"
   ],
   "outputs": [
    {
     "data": {
      "text/plain": [
       "count    9000.000000\n",
       "mean        0.746111\n",
       "std         0.829294\n",
       "min         0.000000\n",
       "5%          0.000000\n",
       "25%         0.000000\n",
       "50%         0.000000\n",
       "75%         1.000000\n",
       "95%         2.000000\n",
       "max         2.000000\n",
       "Name: country, dtype: float64"
      ]
     },
     "execution_count": 53,
     "metadata": {},
     "output_type": "execute_result"
    }
   ],
   "execution_count": 53
  },
  {
   "cell_type": "code",
   "id": "377493ed",
   "metadata": {
    "ExecuteTime": {
     "end_time": "2024-11-19T21:47:57.616655Z",
     "start_time": "2024-11-19T21:47:57.392656Z"
    }
   },
   "source": [
    "from imblearn.over_sampling import SMOTE, SMOTENC\n",
    "\n",
    "X = churn_df.drop(columns=['churn','gender'])  # Características\n",
    "y = churn_df['churn']  # Variable objetivo\n",
    "\n",
    "# Aplicar SMOTE para generar nuevos datos sintéticos\n",
    "smote = SMOTENC(random_state=42, categorical_features=['country'])\n",
    "X_resampled, y_resampled = smote.fit_resample(X, y)\n",
    "\n",
    "# Crear un nuevo DataFrame con los datos aumentados\n",
    "churn_df_augmented = pd.concat([pd.DataFrame(X_resampled, columns=X.columns), \n",
    "                                 pd.DataFrame(y_resampled, columns=['churn',])], axis=1)\n",
    "\n",
    "print(\"Datos originales:\", churn_df.shape)\n",
    "print(\"Datos aumentados:\", churn_df_augmented.shape)\n"
   ],
   "outputs": [
    {
     "name": "stdout",
     "output_type": "stream",
     "text": [
      "Datos originales: (9000, 11)\n",
      "Datos aumentados: (14334, 10)\n"
     ]
    }
   ],
   "execution_count": 20
  },
  {
   "cell_type": "code",
   "id": "f9722883",
   "metadata": {
    "ExecuteTime": {
     "end_time": "2024-11-19T19:18:08.298954Z",
     "start_time": "2024-11-19T19:18:08.265958Z"
    }
   },
   "source": [
    "churn_df_augmented.describe()"
   ],
   "outputs": [
    {
     "data": {
      "text/plain": [
       "       credit_score       country           age        tenure        balance  \\\n",
       "count  14334.000000  14334.000000  14334.000000  14334.000000   14334.000000   \n",
       "mean     648.573322      0.672666     40.961769      4.824055   81826.544899   \n",
       "std       91.545002      0.756569     10.054651      2.717703   61519.407463   \n",
       "min      350.000000      0.000000     18.000000      0.000000       0.000000   \n",
       "25%      586.000000      0.000000     34.000000      3.000000       0.000000   \n",
       "50%      650.000000      0.000000     40.000000      5.000000  102949.845000   \n",
       "75%      711.000000      1.000000     47.000000      7.000000  129741.452874   \n",
       "max      850.000000      2.000000     92.000000     10.000000  250898.090000   \n",
       "\n",
       "       products_number   credit_card  active_member  estimated_salary  \\\n",
       "count     14334.000000  14334.000000   14334.000000      14334.000000   \n",
       "mean          1.418515      0.625924       0.374704     100819.789265   \n",
       "std           0.570950      0.483900       0.484063      57383.282090   \n",
       "min           1.000000      0.000000       0.000000         90.070000   \n",
       "25%           1.000000      0.000000       0.000000      52178.131462   \n",
       "50%           1.000000      1.000000       0.000000     101482.735743   \n",
       "75%           2.000000      1.000000       1.000000     149820.200000   \n",
       "max           4.000000      1.000000       1.000000     199992.480000   \n",
       "\n",
       "              churn  \n",
       "count  14334.000000  \n",
       "mean       0.500000  \n",
       "std        0.500017  \n",
       "min        0.000000  \n",
       "25%        0.000000  \n",
       "50%        0.500000  \n",
       "75%        1.000000  \n",
       "max        1.000000  "
      ],
      "text/html": [
       "<div>\n",
       "<style scoped>\n",
       "    .dataframe tbody tr th:only-of-type {\n",
       "        vertical-align: middle;\n",
       "    }\n",
       "\n",
       "    .dataframe tbody tr th {\n",
       "        vertical-align: top;\n",
       "    }\n",
       "\n",
       "    .dataframe thead th {\n",
       "        text-align: right;\n",
       "    }\n",
       "</style>\n",
       "<table border=\"1\" class=\"dataframe\">\n",
       "  <thead>\n",
       "    <tr style=\"text-align: right;\">\n",
       "      <th></th>\n",
       "      <th>credit_score</th>\n",
       "      <th>country</th>\n",
       "      <th>age</th>\n",
       "      <th>tenure</th>\n",
       "      <th>balance</th>\n",
       "      <th>products_number</th>\n",
       "      <th>credit_card</th>\n",
       "      <th>active_member</th>\n",
       "      <th>estimated_salary</th>\n",
       "      <th>churn</th>\n",
       "    </tr>\n",
       "  </thead>\n",
       "  <tbody>\n",
       "    <tr>\n",
       "      <th>count</th>\n",
       "      <td>14334.000000</td>\n",
       "      <td>14334.000000</td>\n",
       "      <td>14334.000000</td>\n",
       "      <td>14334.000000</td>\n",
       "      <td>14334.000000</td>\n",
       "      <td>14334.000000</td>\n",
       "      <td>14334.000000</td>\n",
       "      <td>14334.000000</td>\n",
       "      <td>14334.000000</td>\n",
       "      <td>14334.000000</td>\n",
       "    </tr>\n",
       "    <tr>\n",
       "      <th>mean</th>\n",
       "      <td>648.573322</td>\n",
       "      <td>0.672666</td>\n",
       "      <td>40.961769</td>\n",
       "      <td>4.824055</td>\n",
       "      <td>81826.544899</td>\n",
       "      <td>1.418515</td>\n",
       "      <td>0.625924</td>\n",
       "      <td>0.374704</td>\n",
       "      <td>100819.789265</td>\n",
       "      <td>0.500000</td>\n",
       "    </tr>\n",
       "    <tr>\n",
       "      <th>std</th>\n",
       "      <td>91.545002</td>\n",
       "      <td>0.756569</td>\n",
       "      <td>10.054651</td>\n",
       "      <td>2.717703</td>\n",
       "      <td>61519.407463</td>\n",
       "      <td>0.570950</td>\n",
       "      <td>0.483900</td>\n",
       "      <td>0.484063</td>\n",
       "      <td>57383.282090</td>\n",
       "      <td>0.500017</td>\n",
       "    </tr>\n",
       "    <tr>\n",
       "      <th>min</th>\n",
       "      <td>350.000000</td>\n",
       "      <td>0.000000</td>\n",
       "      <td>18.000000</td>\n",
       "      <td>0.000000</td>\n",
       "      <td>0.000000</td>\n",
       "      <td>1.000000</td>\n",
       "      <td>0.000000</td>\n",
       "      <td>0.000000</td>\n",
       "      <td>90.070000</td>\n",
       "      <td>0.000000</td>\n",
       "    </tr>\n",
       "    <tr>\n",
       "      <th>25%</th>\n",
       "      <td>586.000000</td>\n",
       "      <td>0.000000</td>\n",
       "      <td>34.000000</td>\n",
       "      <td>3.000000</td>\n",
       "      <td>0.000000</td>\n",
       "      <td>1.000000</td>\n",
       "      <td>0.000000</td>\n",
       "      <td>0.000000</td>\n",
       "      <td>52178.131462</td>\n",
       "      <td>0.000000</td>\n",
       "    </tr>\n",
       "    <tr>\n",
       "      <th>50%</th>\n",
       "      <td>650.000000</td>\n",
       "      <td>0.000000</td>\n",
       "      <td>40.000000</td>\n",
       "      <td>5.000000</td>\n",
       "      <td>102949.845000</td>\n",
       "      <td>1.000000</td>\n",
       "      <td>1.000000</td>\n",
       "      <td>0.000000</td>\n",
       "      <td>101482.735743</td>\n",
       "      <td>0.500000</td>\n",
       "    </tr>\n",
       "    <tr>\n",
       "      <th>75%</th>\n",
       "      <td>711.000000</td>\n",
       "      <td>1.000000</td>\n",
       "      <td>47.000000</td>\n",
       "      <td>7.000000</td>\n",
       "      <td>129741.452874</td>\n",
       "      <td>2.000000</td>\n",
       "      <td>1.000000</td>\n",
       "      <td>1.000000</td>\n",
       "      <td>149820.200000</td>\n",
       "      <td>1.000000</td>\n",
       "    </tr>\n",
       "    <tr>\n",
       "      <th>max</th>\n",
       "      <td>850.000000</td>\n",
       "      <td>2.000000</td>\n",
       "      <td>92.000000</td>\n",
       "      <td>10.000000</td>\n",
       "      <td>250898.090000</td>\n",
       "      <td>4.000000</td>\n",
       "      <td>1.000000</td>\n",
       "      <td>1.000000</td>\n",
       "      <td>199992.480000</td>\n",
       "      <td>1.000000</td>\n",
       "    </tr>\n",
       "  </tbody>\n",
       "</table>\n",
       "</div>"
      ]
     },
     "execution_count": 55,
     "metadata": {},
     "output_type": "execute_result"
    }
   ],
   "execution_count": 55
  },
  {
   "cell_type": "code",
   "id": "b6dec026",
   "metadata": {
    "ExecuteTime": {
     "end_time": "2024-11-19T19:18:09.411241Z",
     "start_time": "2024-11-19T19:18:09.383244Z"
    }
   },
   "source": [
    "X = test_df.drop(columns=['churn','gender'])  # Características\n",
    "y = test_df['churn']  # Variable objetivo\n",
    "\n",
    "# Aplicar SMOTE para generar nuevos datos sintéticos\n",
    "smote = SMOTE(random_state=42)\n",
    "X_resampled, y_resampled = smote.fit_resample(X, y)\n",
    "\n",
    "# Crear un nuevo DataFrame con los datos aumentados\n",
    "test_df_augmented = pd.concat([pd.DataFrame(X_resampled, columns=X.columns), \n",
    "                                 pd.DataFrame(y_resampled, columns=['churn',])], axis=1)\n",
    "\n",
    "print(\"Datos originales:\", test_df.shape)\n",
    "print(\"Datos aumentados:\", test_df_augmented.shape)"
   ],
   "outputs": [
    {
     "name": "stdout",
     "output_type": "stream",
     "text": [
      "Datos originales: (1000, 11)\n",
      "Datos aumentados: (1592, 10)\n"
     ]
    }
   ],
   "execution_count": 56
  },
  {
   "cell_type": "code",
   "id": "198d71c0",
   "metadata": {
    "ExecuteTime": {
     "end_time": "2024-11-19T19:18:42.521713Z",
     "start_time": "2024-11-19T19:18:42.507713Z"
    }
   },
   "source": [
    "features_2 = [\"age\", \"balance\", \"country\", \"products_number\", \"active_member\"]"
   ],
   "outputs": [],
   "execution_count": 57
  },
  {
   "cell_type": "code",
   "id": "bce7b50f",
   "metadata": {
    "ExecuteTime": {
     "end_time": "2024-11-19T19:18:43.297393Z",
     "start_time": "2024-11-19T19:18:43.290395Z"
    }
   },
   "source": [
    "churn_df_augmented[features_2]\n",
    "churn_df_augmented[\"churn\"]"
   ],
   "outputs": [
    {
     "data": {
      "text/plain": [
       "0        0\n",
       "1        0\n",
       "2        0\n",
       "3        0\n",
       "4        0\n",
       "        ..\n",
       "14329    1\n",
       "14330    1\n",
       "14331    1\n",
       "14332    1\n",
       "14333    1\n",
       "Name: churn, Length: 14334, dtype: int64"
      ]
     },
     "execution_count": 58,
     "metadata": {},
     "output_type": "execute_result"
    }
   ],
   "execution_count": 58
  },
  {
   "cell_type": "code",
   "id": "f7d058cd",
   "metadata": {
    "ExecuteTime": {
     "end_time": "2024-11-19T21:48:23.271190Z",
     "start_time": "2024-11-19T21:48:23.256176Z"
    }
   },
   "source": "grid_dt_2 = GridSearchCV(estimator=pipeline_dt, param_grid=param_grid_dt, scoring=[\"precision\", \"recall\", \"f1\", \"roc_auc\"], refit=\"f1\", cv=5, return_train_score=True)",
   "outputs": [],
   "execution_count": 21
  },
  {
   "cell_type": "code",
   "id": "abd383dd",
   "metadata": {
    "ExecuteTime": {
     "end_time": "2024-11-19T21:48:45.184175Z",
     "start_time": "2024-11-19T21:48:35.849633Z"
    }
   },
   "source": "grid_dt_2.fit(churn_df_augmented[features], churn_df_augmented[\"churn\"])",
   "outputs": [
    {
     "name": "stderr",
     "output_type": "stream",
     "text": [
      "c:\\users\\esteban\\appdata\\local\\programs\\python\\python39\\lib\\site-packages\\sklearn\\compose\\_column_transformer.py:1623: FutureWarning: \n",
      "The format of the columns of the 'remainder' transformer in ColumnTransformer.transformers_ will change in version 1.7 to match the format of the other transformers.\n",
      "At the moment the remainder columns are stored as indices (of type int). With the same ColumnTransformer configuration, in the future they will be stored as column names (of type str).\n",
      "To use the new behavior now and suppress this warning, use ColumnTransformer(force_int_remainder_cols=False).\n",
      "\n",
      "  warnings.warn(\n"
     ]
    },
    {
     "data": {
      "text/plain": [
       "GridSearchCV(cv=5,\n",
       "             estimator=Pipeline(steps=[('transformer',\n",
       "                                        ColumnTransformer(remainder='passthrough',\n",
       "                                                          transformers=[('categorical',\n",
       "                                                                         OneHotEncoder(),\n",
       "                                                                         ['country'])])),\n",
       "                                       ('classifier',\n",
       "                                        DecisionTreeClassifier())]),\n",
       "             param_grid={'classifier__criterion': ['gini', 'entropy',\n",
       "                                                   'log_loss'],\n",
       "                         'classifier__max_depth': [3, 4, 5, 6, 7],\n",
       "                         'classifier__min_samples_leaf': [5, 10, 15]},\n",
       "             refit='f1', return_train_score=True,\n",
       "             scoring=['precision', 'recall', 'f1', 'roc_auc'])"
      ],
      "text/html": [
       "<style>#sk-container-id-2 {\n",
       "  /* Definition of color scheme common for light and dark mode */\n",
       "  --sklearn-color-text: black;\n",
       "  --sklearn-color-line: gray;\n",
       "  /* Definition of color scheme for unfitted estimators */\n",
       "  --sklearn-color-unfitted-level-0: #fff5e6;\n",
       "  --sklearn-color-unfitted-level-1: #f6e4d2;\n",
       "  --sklearn-color-unfitted-level-2: #ffe0b3;\n",
       "  --sklearn-color-unfitted-level-3: chocolate;\n",
       "  /* Definition of color scheme for fitted estimators */\n",
       "  --sklearn-color-fitted-level-0: #f0f8ff;\n",
       "  --sklearn-color-fitted-level-1: #d4ebff;\n",
       "  --sklearn-color-fitted-level-2: #b3dbfd;\n",
       "  --sklearn-color-fitted-level-3: cornflowerblue;\n",
       "\n",
       "  /* Specific color for light theme */\n",
       "  --sklearn-color-text-on-default-background: var(--sg-text-color, var(--theme-code-foreground, var(--jp-content-font-color1, black)));\n",
       "  --sklearn-color-background: var(--sg-background-color, var(--theme-background, var(--jp-layout-color0, white)));\n",
       "  --sklearn-color-border-box: var(--sg-text-color, var(--theme-code-foreground, var(--jp-content-font-color1, black)));\n",
       "  --sklearn-color-icon: #696969;\n",
       "\n",
       "  @media (prefers-color-scheme: dark) {\n",
       "    /* Redefinition of color scheme for dark theme */\n",
       "    --sklearn-color-text-on-default-background: var(--sg-text-color, var(--theme-code-foreground, var(--jp-content-font-color1, white)));\n",
       "    --sklearn-color-background: var(--sg-background-color, var(--theme-background, var(--jp-layout-color0, #111)));\n",
       "    --sklearn-color-border-box: var(--sg-text-color, var(--theme-code-foreground, var(--jp-content-font-color1, white)));\n",
       "    --sklearn-color-icon: #878787;\n",
       "  }\n",
       "}\n",
       "\n",
       "#sk-container-id-2 {\n",
       "  color: var(--sklearn-color-text);\n",
       "}\n",
       "\n",
       "#sk-container-id-2 pre {\n",
       "  padding: 0;\n",
       "}\n",
       "\n",
       "#sk-container-id-2 input.sk-hidden--visually {\n",
       "  border: 0;\n",
       "  clip: rect(1px 1px 1px 1px);\n",
       "  clip: rect(1px, 1px, 1px, 1px);\n",
       "  height: 1px;\n",
       "  margin: -1px;\n",
       "  overflow: hidden;\n",
       "  padding: 0;\n",
       "  position: absolute;\n",
       "  width: 1px;\n",
       "}\n",
       "\n",
       "#sk-container-id-2 div.sk-dashed-wrapped {\n",
       "  border: 1px dashed var(--sklearn-color-line);\n",
       "  margin: 0 0.4em 0.5em 0.4em;\n",
       "  box-sizing: border-box;\n",
       "  padding-bottom: 0.4em;\n",
       "  background-color: var(--sklearn-color-background);\n",
       "}\n",
       "\n",
       "#sk-container-id-2 div.sk-container {\n",
       "  /* jupyter's `normalize.less` sets `[hidden] { display: none; }`\n",
       "     but bootstrap.min.css set `[hidden] { display: none !important; }`\n",
       "     so we also need the `!important` here to be able to override the\n",
       "     default hidden behavior on the sphinx rendered scikit-learn.org.\n",
       "     See: https://github.com/scikit-learn/scikit-learn/issues/21755 */\n",
       "  display: inline-block !important;\n",
       "  position: relative;\n",
       "}\n",
       "\n",
       "#sk-container-id-2 div.sk-text-repr-fallback {\n",
       "  display: none;\n",
       "}\n",
       "\n",
       "div.sk-parallel-item,\n",
       "div.sk-serial,\n",
       "div.sk-item {\n",
       "  /* draw centered vertical line to link estimators */\n",
       "  background-image: linear-gradient(var(--sklearn-color-text-on-default-background), var(--sklearn-color-text-on-default-background));\n",
       "  background-size: 2px 100%;\n",
       "  background-repeat: no-repeat;\n",
       "  background-position: center center;\n",
       "}\n",
       "\n",
       "/* Parallel-specific style estimator block */\n",
       "\n",
       "#sk-container-id-2 div.sk-parallel-item::after {\n",
       "  content: \"\";\n",
       "  width: 100%;\n",
       "  border-bottom: 2px solid var(--sklearn-color-text-on-default-background);\n",
       "  flex-grow: 1;\n",
       "}\n",
       "\n",
       "#sk-container-id-2 div.sk-parallel {\n",
       "  display: flex;\n",
       "  align-items: stretch;\n",
       "  justify-content: center;\n",
       "  background-color: var(--sklearn-color-background);\n",
       "  position: relative;\n",
       "}\n",
       "\n",
       "#sk-container-id-2 div.sk-parallel-item {\n",
       "  display: flex;\n",
       "  flex-direction: column;\n",
       "}\n",
       "\n",
       "#sk-container-id-2 div.sk-parallel-item:first-child::after {\n",
       "  align-self: flex-end;\n",
       "  width: 50%;\n",
       "}\n",
       "\n",
       "#sk-container-id-2 div.sk-parallel-item:last-child::after {\n",
       "  align-self: flex-start;\n",
       "  width: 50%;\n",
       "}\n",
       "\n",
       "#sk-container-id-2 div.sk-parallel-item:only-child::after {\n",
       "  width: 0;\n",
       "}\n",
       "\n",
       "/* Serial-specific style estimator block */\n",
       "\n",
       "#sk-container-id-2 div.sk-serial {\n",
       "  display: flex;\n",
       "  flex-direction: column;\n",
       "  align-items: center;\n",
       "  background-color: var(--sklearn-color-background);\n",
       "  padding-right: 1em;\n",
       "  padding-left: 1em;\n",
       "}\n",
       "\n",
       "\n",
       "/* Toggleable style: style used for estimator/Pipeline/ColumnTransformer box that is\n",
       "clickable and can be expanded/collapsed.\n",
       "- Pipeline and ColumnTransformer use this feature and define the default style\n",
       "- Estimators will overwrite some part of the style using the `sk-estimator` class\n",
       "*/\n",
       "\n",
       "/* Pipeline and ColumnTransformer style (default) */\n",
       "\n",
       "#sk-container-id-2 div.sk-toggleable {\n",
       "  /* Default theme specific background. It is overwritten whether we have a\n",
       "  specific estimator or a Pipeline/ColumnTransformer */\n",
       "  background-color: var(--sklearn-color-background);\n",
       "}\n",
       "\n",
       "/* Toggleable label */\n",
       "#sk-container-id-2 label.sk-toggleable__label {\n",
       "  cursor: pointer;\n",
       "  display: block;\n",
       "  width: 100%;\n",
       "  margin-bottom: 0;\n",
       "  padding: 0.5em;\n",
       "  box-sizing: border-box;\n",
       "  text-align: center;\n",
       "}\n",
       "\n",
       "#sk-container-id-2 label.sk-toggleable__label-arrow:before {\n",
       "  /* Arrow on the left of the label */\n",
       "  content: \"▸\";\n",
       "  float: left;\n",
       "  margin-right: 0.25em;\n",
       "  color: var(--sklearn-color-icon);\n",
       "}\n",
       "\n",
       "#sk-container-id-2 label.sk-toggleable__label-arrow:hover:before {\n",
       "  color: var(--sklearn-color-text);\n",
       "}\n",
       "\n",
       "/* Toggleable content - dropdown */\n",
       "\n",
       "#sk-container-id-2 div.sk-toggleable__content {\n",
       "  max-height: 0;\n",
       "  max-width: 0;\n",
       "  overflow: hidden;\n",
       "  text-align: left;\n",
       "  /* unfitted */\n",
       "  background-color: var(--sklearn-color-unfitted-level-0);\n",
       "}\n",
       "\n",
       "#sk-container-id-2 div.sk-toggleable__content.fitted {\n",
       "  /* fitted */\n",
       "  background-color: var(--sklearn-color-fitted-level-0);\n",
       "}\n",
       "\n",
       "#sk-container-id-2 div.sk-toggleable__content pre {\n",
       "  margin: 0.2em;\n",
       "  border-radius: 0.25em;\n",
       "  color: var(--sklearn-color-text);\n",
       "  /* unfitted */\n",
       "  background-color: var(--sklearn-color-unfitted-level-0);\n",
       "}\n",
       "\n",
       "#sk-container-id-2 div.sk-toggleable__content.fitted pre {\n",
       "  /* unfitted */\n",
       "  background-color: var(--sklearn-color-fitted-level-0);\n",
       "}\n",
       "\n",
       "#sk-container-id-2 input.sk-toggleable__control:checked~div.sk-toggleable__content {\n",
       "  /* Expand drop-down */\n",
       "  max-height: 200px;\n",
       "  max-width: 100%;\n",
       "  overflow: auto;\n",
       "}\n",
       "\n",
       "#sk-container-id-2 input.sk-toggleable__control:checked~label.sk-toggleable__label-arrow:before {\n",
       "  content: \"▾\";\n",
       "}\n",
       "\n",
       "/* Pipeline/ColumnTransformer-specific style */\n",
       "\n",
       "#sk-container-id-2 div.sk-label input.sk-toggleable__control:checked~label.sk-toggleable__label {\n",
       "  color: var(--sklearn-color-text);\n",
       "  background-color: var(--sklearn-color-unfitted-level-2);\n",
       "}\n",
       "\n",
       "#sk-container-id-2 div.sk-label.fitted input.sk-toggleable__control:checked~label.sk-toggleable__label {\n",
       "  background-color: var(--sklearn-color-fitted-level-2);\n",
       "}\n",
       "\n",
       "/* Estimator-specific style */\n",
       "\n",
       "/* Colorize estimator box */\n",
       "#sk-container-id-2 div.sk-estimator input.sk-toggleable__control:checked~label.sk-toggleable__label {\n",
       "  /* unfitted */\n",
       "  background-color: var(--sklearn-color-unfitted-level-2);\n",
       "}\n",
       "\n",
       "#sk-container-id-2 div.sk-estimator.fitted input.sk-toggleable__control:checked~label.sk-toggleable__label {\n",
       "  /* fitted */\n",
       "  background-color: var(--sklearn-color-fitted-level-2);\n",
       "}\n",
       "\n",
       "#sk-container-id-2 div.sk-label label.sk-toggleable__label,\n",
       "#sk-container-id-2 div.sk-label label {\n",
       "  /* The background is the default theme color */\n",
       "  color: var(--sklearn-color-text-on-default-background);\n",
       "}\n",
       "\n",
       "/* On hover, darken the color of the background */\n",
       "#sk-container-id-2 div.sk-label:hover label.sk-toggleable__label {\n",
       "  color: var(--sklearn-color-text);\n",
       "  background-color: var(--sklearn-color-unfitted-level-2);\n",
       "}\n",
       "\n",
       "/* Label box, darken color on hover, fitted */\n",
       "#sk-container-id-2 div.sk-label.fitted:hover label.sk-toggleable__label.fitted {\n",
       "  color: var(--sklearn-color-text);\n",
       "  background-color: var(--sklearn-color-fitted-level-2);\n",
       "}\n",
       "\n",
       "/* Estimator label */\n",
       "\n",
       "#sk-container-id-2 div.sk-label label {\n",
       "  font-family: monospace;\n",
       "  font-weight: bold;\n",
       "  display: inline-block;\n",
       "  line-height: 1.2em;\n",
       "}\n",
       "\n",
       "#sk-container-id-2 div.sk-label-container {\n",
       "  text-align: center;\n",
       "}\n",
       "\n",
       "/* Estimator-specific */\n",
       "#sk-container-id-2 div.sk-estimator {\n",
       "  font-family: monospace;\n",
       "  border: 1px dotted var(--sklearn-color-border-box);\n",
       "  border-radius: 0.25em;\n",
       "  box-sizing: border-box;\n",
       "  margin-bottom: 0.5em;\n",
       "  /* unfitted */\n",
       "  background-color: var(--sklearn-color-unfitted-level-0);\n",
       "}\n",
       "\n",
       "#sk-container-id-2 div.sk-estimator.fitted {\n",
       "  /* fitted */\n",
       "  background-color: var(--sklearn-color-fitted-level-0);\n",
       "}\n",
       "\n",
       "/* on hover */\n",
       "#sk-container-id-2 div.sk-estimator:hover {\n",
       "  /* unfitted */\n",
       "  background-color: var(--sklearn-color-unfitted-level-2);\n",
       "}\n",
       "\n",
       "#sk-container-id-2 div.sk-estimator.fitted:hover {\n",
       "  /* fitted */\n",
       "  background-color: var(--sklearn-color-fitted-level-2);\n",
       "}\n",
       "\n",
       "/* Specification for estimator info (e.g. \"i\" and \"?\") */\n",
       "\n",
       "/* Common style for \"i\" and \"?\" */\n",
       "\n",
       ".sk-estimator-doc-link,\n",
       "a:link.sk-estimator-doc-link,\n",
       "a:visited.sk-estimator-doc-link {\n",
       "  float: right;\n",
       "  font-size: smaller;\n",
       "  line-height: 1em;\n",
       "  font-family: monospace;\n",
       "  background-color: var(--sklearn-color-background);\n",
       "  border-radius: 1em;\n",
       "  height: 1em;\n",
       "  width: 1em;\n",
       "  text-decoration: none !important;\n",
       "  margin-left: 1ex;\n",
       "  /* unfitted */\n",
       "  border: var(--sklearn-color-unfitted-level-1) 1pt solid;\n",
       "  color: var(--sklearn-color-unfitted-level-1);\n",
       "}\n",
       "\n",
       ".sk-estimator-doc-link.fitted,\n",
       "a:link.sk-estimator-doc-link.fitted,\n",
       "a:visited.sk-estimator-doc-link.fitted {\n",
       "  /* fitted */\n",
       "  border: var(--sklearn-color-fitted-level-1) 1pt solid;\n",
       "  color: var(--sklearn-color-fitted-level-1);\n",
       "}\n",
       "\n",
       "/* On hover */\n",
       "div.sk-estimator:hover .sk-estimator-doc-link:hover,\n",
       ".sk-estimator-doc-link:hover,\n",
       "div.sk-label-container:hover .sk-estimator-doc-link:hover,\n",
       ".sk-estimator-doc-link:hover {\n",
       "  /* unfitted */\n",
       "  background-color: var(--sklearn-color-unfitted-level-3);\n",
       "  color: var(--sklearn-color-background);\n",
       "  text-decoration: none;\n",
       "}\n",
       "\n",
       "div.sk-estimator.fitted:hover .sk-estimator-doc-link.fitted:hover,\n",
       ".sk-estimator-doc-link.fitted:hover,\n",
       "div.sk-label-container:hover .sk-estimator-doc-link.fitted:hover,\n",
       ".sk-estimator-doc-link.fitted:hover {\n",
       "  /* fitted */\n",
       "  background-color: var(--sklearn-color-fitted-level-3);\n",
       "  color: var(--sklearn-color-background);\n",
       "  text-decoration: none;\n",
       "}\n",
       "\n",
       "/* Span, style for the box shown on hovering the info icon */\n",
       ".sk-estimator-doc-link span {\n",
       "  display: none;\n",
       "  z-index: 9999;\n",
       "  position: relative;\n",
       "  font-weight: normal;\n",
       "  right: .2ex;\n",
       "  padding: .5ex;\n",
       "  margin: .5ex;\n",
       "  width: min-content;\n",
       "  min-width: 20ex;\n",
       "  max-width: 50ex;\n",
       "  color: var(--sklearn-color-text);\n",
       "  box-shadow: 2pt 2pt 4pt #999;\n",
       "  /* unfitted */\n",
       "  background: var(--sklearn-color-unfitted-level-0);\n",
       "  border: .5pt solid var(--sklearn-color-unfitted-level-3);\n",
       "}\n",
       "\n",
       ".sk-estimator-doc-link.fitted span {\n",
       "  /* fitted */\n",
       "  background: var(--sklearn-color-fitted-level-0);\n",
       "  border: var(--sklearn-color-fitted-level-3);\n",
       "}\n",
       "\n",
       ".sk-estimator-doc-link:hover span {\n",
       "  display: block;\n",
       "}\n",
       "\n",
       "/* \"?\"-specific style due to the `<a>` HTML tag */\n",
       "\n",
       "#sk-container-id-2 a.estimator_doc_link {\n",
       "  float: right;\n",
       "  font-size: 1rem;\n",
       "  line-height: 1em;\n",
       "  font-family: monospace;\n",
       "  background-color: var(--sklearn-color-background);\n",
       "  border-radius: 1rem;\n",
       "  height: 1rem;\n",
       "  width: 1rem;\n",
       "  text-decoration: none;\n",
       "  /* unfitted */\n",
       "  color: var(--sklearn-color-unfitted-level-1);\n",
       "  border: var(--sklearn-color-unfitted-level-1) 1pt solid;\n",
       "}\n",
       "\n",
       "#sk-container-id-2 a.estimator_doc_link.fitted {\n",
       "  /* fitted */\n",
       "  border: var(--sklearn-color-fitted-level-1) 1pt solid;\n",
       "  color: var(--sklearn-color-fitted-level-1);\n",
       "}\n",
       "\n",
       "/* On hover */\n",
       "#sk-container-id-2 a.estimator_doc_link:hover {\n",
       "  /* unfitted */\n",
       "  background-color: var(--sklearn-color-unfitted-level-3);\n",
       "  color: var(--sklearn-color-background);\n",
       "  text-decoration: none;\n",
       "}\n",
       "\n",
       "#sk-container-id-2 a.estimator_doc_link.fitted:hover {\n",
       "  /* fitted */\n",
       "  background-color: var(--sklearn-color-fitted-level-3);\n",
       "}\n",
       "</style><div id=\"sk-container-id-2\" class=\"sk-top-container\"><div class=\"sk-text-repr-fallback\"><pre>GridSearchCV(cv=5,\n",
       "             estimator=Pipeline(steps=[(&#x27;transformer&#x27;,\n",
       "                                        ColumnTransformer(remainder=&#x27;passthrough&#x27;,\n",
       "                                                          transformers=[(&#x27;categorical&#x27;,\n",
       "                                                                         OneHotEncoder(),\n",
       "                                                                         [&#x27;country&#x27;])])),\n",
       "                                       (&#x27;classifier&#x27;,\n",
       "                                        DecisionTreeClassifier())]),\n",
       "             param_grid={&#x27;classifier__criterion&#x27;: [&#x27;gini&#x27;, &#x27;entropy&#x27;,\n",
       "                                                   &#x27;log_loss&#x27;],\n",
       "                         &#x27;classifier__max_depth&#x27;: [3, 4, 5, 6, 7],\n",
       "                         &#x27;classifier__min_samples_leaf&#x27;: [5, 10, 15]},\n",
       "             refit=&#x27;f1&#x27;, return_train_score=True,\n",
       "             scoring=[&#x27;precision&#x27;, &#x27;recall&#x27;, &#x27;f1&#x27;, &#x27;roc_auc&#x27;])</pre><b>In a Jupyter environment, please rerun this cell to show the HTML representation or trust the notebook. <br />On GitHub, the HTML representation is unable to render, please try loading this page with nbviewer.org.</b></div><div class=\"sk-container\" hidden><div class=\"sk-item sk-dashed-wrapped\"><div class=\"sk-label-container\"><div class=\"sk-label fitted sk-toggleable\"><input class=\"sk-toggleable__control sk-hidden--visually\" id=\"sk-estimator-id-9\" type=\"checkbox\" ><label for=\"sk-estimator-id-9\" class=\"sk-toggleable__label fitted sk-toggleable__label-arrow fitted\">&nbsp;&nbsp;GridSearchCV<a class=\"sk-estimator-doc-link fitted\" rel=\"noreferrer\" target=\"_blank\" href=\"https://scikit-learn.org/1.5/modules/generated/sklearn.model_selection.GridSearchCV.html\">?<span>Documentation for GridSearchCV</span></a><span class=\"sk-estimator-doc-link fitted\">i<span>Fitted</span></span></label><div class=\"sk-toggleable__content fitted\"><pre>GridSearchCV(cv=5,\n",
       "             estimator=Pipeline(steps=[(&#x27;transformer&#x27;,\n",
       "                                        ColumnTransformer(remainder=&#x27;passthrough&#x27;,\n",
       "                                                          transformers=[(&#x27;categorical&#x27;,\n",
       "                                                                         OneHotEncoder(),\n",
       "                                                                         [&#x27;country&#x27;])])),\n",
       "                                       (&#x27;classifier&#x27;,\n",
       "                                        DecisionTreeClassifier())]),\n",
       "             param_grid={&#x27;classifier__criterion&#x27;: [&#x27;gini&#x27;, &#x27;entropy&#x27;,\n",
       "                                                   &#x27;log_loss&#x27;],\n",
       "                         &#x27;classifier__max_depth&#x27;: [3, 4, 5, 6, 7],\n",
       "                         &#x27;classifier__min_samples_leaf&#x27;: [5, 10, 15]},\n",
       "             refit=&#x27;f1&#x27;, return_train_score=True,\n",
       "             scoring=[&#x27;precision&#x27;, &#x27;recall&#x27;, &#x27;f1&#x27;, &#x27;roc_auc&#x27;])</pre></div> </div></div><div class=\"sk-parallel\"><div class=\"sk-parallel-item\"><div class=\"sk-item\"><div class=\"sk-label-container\"><div class=\"sk-label fitted sk-toggleable\"><input class=\"sk-toggleable__control sk-hidden--visually\" id=\"sk-estimator-id-10\" type=\"checkbox\" ><label for=\"sk-estimator-id-10\" class=\"sk-toggleable__label fitted sk-toggleable__label-arrow fitted\">best_estimator_: Pipeline</label><div class=\"sk-toggleable__content fitted\"><pre>Pipeline(steps=[(&#x27;transformer&#x27;,\n",
       "                 ColumnTransformer(remainder=&#x27;passthrough&#x27;,\n",
       "                                   transformers=[(&#x27;categorical&#x27;,\n",
       "                                                  OneHotEncoder(),\n",
       "                                                  [&#x27;country&#x27;])])),\n",
       "                (&#x27;classifier&#x27;,\n",
       "                 DecisionTreeClassifier(max_depth=7, min_samples_leaf=10))])</pre></div> </div></div><div class=\"sk-serial\"><div class=\"sk-item\"><div class=\"sk-serial\"><div class=\"sk-item sk-dashed-wrapped\"><div class=\"sk-label-container\"><div class=\"sk-label fitted sk-toggleable\"><input class=\"sk-toggleable__control sk-hidden--visually\" id=\"sk-estimator-id-11\" type=\"checkbox\" ><label for=\"sk-estimator-id-11\" class=\"sk-toggleable__label fitted sk-toggleable__label-arrow fitted\">&nbsp;transformer: ColumnTransformer<a class=\"sk-estimator-doc-link fitted\" rel=\"noreferrer\" target=\"_blank\" href=\"https://scikit-learn.org/1.5/modules/generated/sklearn.compose.ColumnTransformer.html\">?<span>Documentation for transformer: ColumnTransformer</span></a></label><div class=\"sk-toggleable__content fitted\"><pre>ColumnTransformer(remainder=&#x27;passthrough&#x27;,\n",
       "                  transformers=[(&#x27;categorical&#x27;, OneHotEncoder(), [&#x27;country&#x27;])])</pre></div> </div></div><div class=\"sk-parallel\"><div class=\"sk-parallel-item\"><div class=\"sk-item\"><div class=\"sk-label-container\"><div class=\"sk-label fitted sk-toggleable\"><input class=\"sk-toggleable__control sk-hidden--visually\" id=\"sk-estimator-id-12\" type=\"checkbox\" ><label for=\"sk-estimator-id-12\" class=\"sk-toggleable__label fitted sk-toggleable__label-arrow fitted\">categorical</label><div class=\"sk-toggleable__content fitted\"><pre>[&#x27;country&#x27;]</pre></div> </div></div><div class=\"sk-serial\"><div class=\"sk-item\"><div class=\"sk-estimator fitted sk-toggleable\"><input class=\"sk-toggleable__control sk-hidden--visually\" id=\"sk-estimator-id-13\" type=\"checkbox\" ><label for=\"sk-estimator-id-13\" class=\"sk-toggleable__label fitted sk-toggleable__label-arrow fitted\">&nbsp;OneHotEncoder<a class=\"sk-estimator-doc-link fitted\" rel=\"noreferrer\" target=\"_blank\" href=\"https://scikit-learn.org/1.5/modules/generated/sklearn.preprocessing.OneHotEncoder.html\">?<span>Documentation for OneHotEncoder</span></a></label><div class=\"sk-toggleable__content fitted\"><pre>OneHotEncoder()</pre></div> </div></div></div></div></div><div class=\"sk-parallel-item\"><div class=\"sk-item\"><div class=\"sk-label-container\"><div class=\"sk-label fitted sk-toggleable\"><input class=\"sk-toggleable__control sk-hidden--visually\" id=\"sk-estimator-id-14\" type=\"checkbox\" ><label for=\"sk-estimator-id-14\" class=\"sk-toggleable__label fitted sk-toggleable__label-arrow fitted\">remainder</label><div class=\"sk-toggleable__content fitted\"><pre>[&#x27;age&#x27;, &#x27;balance&#x27;, &#x27;products_number&#x27;, &#x27;active_member&#x27;]</pre></div> </div></div><div class=\"sk-serial\"><div class=\"sk-item\"><div class=\"sk-estimator fitted sk-toggleable\"><input class=\"sk-toggleable__control sk-hidden--visually\" id=\"sk-estimator-id-15\" type=\"checkbox\" ><label for=\"sk-estimator-id-15\" class=\"sk-toggleable__label fitted sk-toggleable__label-arrow fitted\">passthrough</label><div class=\"sk-toggleable__content fitted\"><pre>passthrough</pre></div> </div></div></div></div></div></div></div><div class=\"sk-item\"><div class=\"sk-estimator fitted sk-toggleable\"><input class=\"sk-toggleable__control sk-hidden--visually\" id=\"sk-estimator-id-16\" type=\"checkbox\" ><label for=\"sk-estimator-id-16\" class=\"sk-toggleable__label fitted sk-toggleable__label-arrow fitted\">&nbsp;DecisionTreeClassifier<a class=\"sk-estimator-doc-link fitted\" rel=\"noreferrer\" target=\"_blank\" href=\"https://scikit-learn.org/1.5/modules/generated/sklearn.tree.DecisionTreeClassifier.html\">?<span>Documentation for DecisionTreeClassifier</span></a></label><div class=\"sk-toggleable__content fitted\"><pre>DecisionTreeClassifier(max_depth=7, min_samples_leaf=10)</pre></div> </div></div></div></div></div></div></div></div></div></div></div>"
      ]
     },
     "execution_count": 22,
     "metadata": {},
     "output_type": "execute_result"
    }
   ],
   "execution_count": 22
  },
  {
   "cell_type": "code",
   "id": "b296abf3",
   "metadata": {
    "ExecuteTime": {
     "end_time": "2024-11-19T21:48:48.263598Z",
     "start_time": "2024-11-19T21:48:48.247599Z"
    }
   },
   "source": [
    "grid_dt_2.best_params_"
   ],
   "outputs": [
    {
     "data": {
      "text/plain": [
       "{'classifier__criterion': 'gini',\n",
       " 'classifier__max_depth': 7,\n",
       " 'classifier__min_samples_leaf': 10}"
      ]
     },
     "execution_count": 23,
     "metadata": {},
     "output_type": "execute_result"
    }
   ],
   "execution_count": 23
  },
  {
   "cell_type": "code",
   "id": "8475275a",
   "metadata": {
    "ExecuteTime": {
     "end_time": "2024-11-19T21:53:51.138491Z",
     "start_time": "2024-11-19T21:53:50.942492Z"
    }
   },
   "source": [
    "train_val_preds = grid_dt_2.best_estimator_.predict(churn_df_augmented[features])\n",
    "test_preds = grid_dt_2.best_estimator_.predict(test_df[features])\n",
    "\n",
    "fig, axes = plt.subplots(1, 2, figsize=(12, 5))\n",
    "\n",
    "train_val_cm = confusion_matrix(churn_df_augmented[\"churn\"], train_val_preds, labels=grid_dt_2.best_estimator_.classes_)\n",
    "train_val_disp = ConfusionMatrixDisplay(confusion_matrix=train_val_cm, display_labels=grid_dt_2.best_estimator_.classes_)\n",
    "train_val_disp.plot(ax=axes[0], cmap=plt.cm.Blues)\n",
    "axes[0].set_title(\"Train/Val\")\n",
    "\n",
    "test_cm = confusion_matrix(test_df[\"churn\"], test_preds, labels=grid_dt_2.best_estimator_.classes_)\n",
    "test_disp = ConfusionMatrixDisplay(confusion_matrix=test_cm, display_labels=grid_dt_2.best_estimator_.classes_)\n",
    "test_disp.plot(ax=axes[1], cmap=plt.cm.Blues)\n",
    "axes[1].set_title(\"Test\")\n",
    "\n",
    "plt.show()"
   ],
   "outputs": [
    {
     "data": {
      "text/plain": [
       "<Figure size 864x360 with 4 Axes>"
      ],
      "image/png": "[encoded data removed]"
     },
     "metadata": {},
     "output_type": "display_data"
    }
   ],
   "execution_count": 27
  },
  {
   "cell_type": "code",
   "id": "ee031fa6",
   "metadata": {
    "ExecuteTime": {
     "end_time": "2024-11-19T21:54:20.884216Z",
     "start_time": "2024-11-19T21:54:20.856217Z"
    }
   },
   "source": [
    "print(\"Accuracy:\")\n",
    "print(\"- Train/Val:\", accuracy_score(churn_df_augmented[\"churn\"], train_val_preds))\n",
    "print(\"- Test:\", accuracy_score(test_df[\"churn\"], test_preds))\n",
    "print(\"Precision:\")\n",
    "print(\"- Train/Val:\", precision_score(churn_df_augmented[\"churn\"], train_val_preds))\n",
    "print(\"- Test:\", precision_score(test_df[\"churn\"], test_preds))\n",
    "print(\"\\nRecall:\")\n",
    "print(\"- Train/Val:\", recall_score(churn_df_augmented[\"churn\"], train_val_preds))\n",
    "print(\"- Test:\", recall_score(test_df[\"churn\"], test_preds))\n",
    "print(\"\\nF1:\")\n",
    "print(\"- Train/Val:\", f1_score(churn_df_augmented[\"churn\"], train_val_preds))\n",
    "print(\"- Test:\", f1_score(test_df[\"churn\"], test_preds))\n",
    "print(\"\\nROC AUC:\")\n",
    "print(\"- Train/Val:\", roc_auc_score(churn_df_augmented[\"churn\"], train_val_preds))\n",
    "print(\"- Test:\", roc_auc_score(test_df[\"churn\"], test_preds))"
   ],
   "outputs": [
    {
     "name": "stdout",
     "output_type": "stream",
     "text": [
      "Accuracy:\n",
      "- Train/Val: 0.8231477605692759\n",
      "- Test: 0.801\n",
      "Precision:\n",
      "- Train/Val: 0.8385964912280702\n",
      "- Test: 0.509090909090909\n",
      "\n",
      "Recall:\n",
      "- Train/Val: 0.8003348681456677\n",
      "- Test: 0.6862745098039216\n",
      "\n",
      "F1:\n",
      "- Train/Val: 0.8190190618976226\n",
      "- Test: 0.5845511482254697\n",
      "\n",
      "ROC AUC:\n",
      "- Train/Val: 0.8231477605692759\n",
      "- Test: 0.7583382599270865\n"
     ]
    }
   ],
   "execution_count": 29
  },
  {
   "cell_type": "markdown",
   "id": "dba8c8a4",
   "metadata": {},
   "source": [
    "#### Segundo modelo - random forest"
   ]
  },
  {
   "cell_type": "code",
   "id": "f035244c",
   "metadata": {},
   "source": [
    "pipeline_rf_2 = Pipeline([\n",
    "    (\"classifier\",  RandomForestClassifier(random_state=10))])"
   ],
   "outputs": [],
   "execution_count": null
  },
  {
   "cell_type": "code",
   "id": "f4308005",
   "metadata": {},
   "source": [
    "grid_rf_2 = GridSearchCV(estimator=pipeline_rf_2, param_grid=param_grid_rf, scoring=[\"precision\", \"recall\", \"f1\", \"roc_auc\"], refit=\"f1\", cv=5, return_train_score=True)\n"
   ],
   "outputs": [],
   "execution_count": null
  },
  {
   "cell_type": "code",
   "id": "892a375a",
   "metadata": {},
   "source": [
    "grid_rf_2.fit(churn_df_augmented[features_2], churn_df_augmented[\"churn\"])"
   ],
   "outputs": [],
   "execution_count": null
  },
  {
   "cell_type": "code",
   "id": "d3254dec",
   "metadata": {},
   "source": [
    "train_val_preds = grid_dt_2.best_estimator_.predict(churn_df_augmented[features_2])\n",
    "test_preds = grid_dt_2.best_estimator_.predict(test_df_augmented[features_2])\n",
    "\n",
    "fig, axes = plt.subplots(1, 2, figsize=(12, 5))\n",
    "\n",
    "train_val_cm = confusion_matrix(churn_df_augmented[\"churn\"], train_val_preds, labels=grid_dt_2.best_estimator_.classes_)\n",
    "train_val_disp = ConfusionMatrixDisplay(confusion_matrix=train_val_cm, display_labels=grid_dt_2.best_estimator_.classes_)\n",
    "train_val_disp.plot(ax=axes[0])\n",
    "axes[0].set_title(\"Train/Val\")\n",
    "\n",
    "test_cm = confusion_matrix(test_df_augmented[\"churn\"], test_preds, labels=grid_dt_2.best_estimator_.classes_)\n",
    "test_disp = ConfusionMatrixDisplay(confusion_matrix=test_cm, display_labels=grid_dt_2.best_estimator_.classes_)\n",
    "test_disp.plot(ax=axes[1])\n",
    "axes[1].set_title(\"Test\")\n",
    "\n",
    "plt.show()"
   ],
   "outputs": [],
   "execution_count": null
  },
  {
   "cell_type": "code",
   "id": "7321d373",
   "metadata": {},
   "source": [
    "print(\"Accuracy:\")\n",
    "print(\"- Train/Val:\", accuracy_score(churn_df_augmented[\"churn\"], train_val_preds))\n",
    "print(\"- Test:\", accuracy_score(test_df_augmented[\"churn\"], test_preds))\n",
    "print(\"Precision:\")\n",
    "print(\"- Train/Val:\", precision_score(churn_df_augmented[\"churn\"], train_val_preds))\n",
    "print(\"- Test:\", precision_score(test_df_augmented[\"churn\"], test_preds))\n",
    "print(\"\\nRecall:\")\n",
    "print(\"- Train/Val:\", recall_score(churn_df_augmented[\"churn\"], train_val_preds))\n",
    "print(\"- Test:\", recall_score(test_df_augmented[\"churn\"], test_preds))\n",
    "print(\"\\nF1:\")\n",
    "print(\"- Train/Val:\", f1_score(churn_df_augmented[\"churn\"], train_val_preds))\n",
    "print(\"- Test:\", f1_score(test_df_augmented[\"churn\"], test_preds))\n",
    "print(\"\\nROC AUC:\")\n",
    "print(\"- Train/Val:\", roc_auc_score(churn_df_augmented[\"churn\"], train_val_preds))\n",
    "print(\"- Test:\", roc_auc_score(test_df_augmented[\"churn\"], test_preds))"
   ],
   "outputs": [],
   "execution_count": null
  },
  {
   "cell_type": "markdown",
   "id": "53dace71",
   "metadata": {},
   "source": [
    "### A/B Testing con el modelo aumentado"
   ]
  },
  {
   "cell_type": "code",
   "id": "9c9b9a55",
   "metadata": {
    "ExecuteTime": {
     "end_time": "2024-11-19T21:56:59.145027Z",
     "start_time": "2024-11-19T21:56:59.131013Z"
    }
   },
   "source": [
    "control = grid_dt.best_estimator_\n",
    "variant = grid_dt_2.best_estimator_"
   ],
   "outputs": [],
   "execution_count": 30
  },
  {
   "cell_type": "code",
   "id": "0bcd20b5",
   "metadata": {
    "ExecuteTime": {
     "end_time": "2024-11-19T21:57:00.078750Z",
     "start_time": "2024-11-19T21:57:00.059751Z"
    }
   },
   "source": [
    "print(control)\n"
   ],
   "outputs": [
    {
     "name": "stdout",
     "output_type": "stream",
     "text": [
      "Pipeline(steps=[('transformer',\n",
      "                 ColumnTransformer(remainder='passthrough',\n",
      "                                   transformers=[('categorical',\n",
      "                                                  OneHotEncoder(),\n",
      "                                                  ['country'])])),\n",
      "                ('classifier',\n",
      "                 DecisionTreeClassifier(criterion='entropy', max_depth=7,\n",
      "                                        min_samples_leaf=15))])\n"
     ]
    }
   ],
   "execution_count": 31
  },
  {
   "cell_type": "code",
   "id": "1387e49d",
   "metadata": {
    "ExecuteTime": {
     "end_time": "2024-11-19T21:57:01.182834Z",
     "start_time": "2024-11-19T21:57:01.164835Z"
    }
   },
   "source": [
    "print(variant)"
   ],
   "outputs": [
    {
     "name": "stdout",
     "output_type": "stream",
     "text": [
      "Pipeline(steps=[('transformer',\n",
      "                 ColumnTransformer(remainder='passthrough',\n",
      "                                   transformers=[('categorical',\n",
      "                                                  OneHotEncoder(),\n",
      "                                                  ['country'])])),\n",
      "                ('classifier',\n",
      "                 DecisionTreeClassifier(max_depth=7, min_samples_leaf=10))])\n"
     ]
    }
   ],
   "execution_count": 32
  },
  {
   "cell_type": "code",
   "id": "4b96c144",
   "metadata": {
    "ExecuteTime": {
     "end_time": "2024-11-19T21:59:12.461794Z",
     "start_time": "2024-11-19T21:59:12.452795Z"
    }
   },
   "source": [
    "from sklearn.model_selection import train_test_split\n",
    "xtestA, xtestB, ytestA, ytestB = train_test_split(test_df[features], test_df['churn'], test_size=0.5)"
   ],
   "outputs": [],
   "execution_count": 39
  },
  {
   "cell_type": "code",
   "id": "d9a23def",
   "metadata": {
    "ExecuteTime": {
     "end_time": "2024-11-19T21:59:13.846807Z",
     "start_time": "2024-11-19T21:59:13.827806Z"
    }
   },
   "source": [
    "ypred_control=control.predict(xtestA)\n",
    "ypred_variant=variant.predict(xtestB)"
   ],
   "outputs": [],
   "execution_count": 40
  },
  {
   "cell_type": "code",
   "id": "8339d6aa",
   "metadata": {
    "ExecuteTime": {
     "end_time": "2024-11-19T21:59:15.303375Z",
     "start_time": "2024-11-19T21:59:15.291376Z"
    }
   },
   "source": [
    "acc_control = (ypred_control==ytestA).astype(int)\n",
    "acc_variante = (ypred_variant==ytestB).astype(int)\n",
    "\n",
    "print(acc_control.mean())\n",
    "print(acc_variante.mean())"
   ],
   "outputs": [
    {
     "name": "stdout",
     "output_type": "stream",
     "text": [
      "0.852\n",
      "0.798\n"
     ]
    }
   ],
   "execution_count": 41
  },
  {
   "cell_type": "code",
   "id": "de779f95",
   "metadata": {
    "ExecuteTime": {
     "end_time": "2024-11-19T21:59:43.961295Z",
     "start_time": "2024-11-19T21:59:43.949296Z"
    }
   },
   "source": [
    "t_stat, p_value = stats.ttest_rel(acc_control, acc_variante)\n",
    "print(f\"T-statistic: {t_stat}, P-value: {p_value}\")\n",
    "\n",
    "t_stat, p_value = stats.ttest_rel(acc_control, acc_variante)\n",
    "print(f\"T-statistic: {t_stat}, P-value: {p_value}\")"
   ],
   "outputs": [
    {
     "name": "stdout",
     "output_type": "stream",
     "text": [
      "T-statistic: 2.2057050751393925, P-value: 0.027859739406450566\n"
     ]
    }
   ],
   "execution_count": 43
  },
  {
   "cell_type": "markdown",
   "id": "828bcefb",
   "metadata": {},
   "source": [
    "Con el aumento de datos se evidencia que el modelo de random forest tiene un mejor desempeño, por lo que al aplicar la prueba estadística no hay una diferencia estadísticamente significativa al tener un p-values mayor a 0.05"
   ]
  },
  {
   "cell_type": "markdown",
   "id": "67c7583d",
   "metadata": {},
   "source": [
    "### Regresión Logística"
   ]
  },
  {
   "cell_type": "code",
   "id": "73f4c78e",
   "metadata": {
    "ExecuteTime": {
     "end_time": "2024-11-19T22:04:24.216978Z",
     "start_time": "2024-11-19T22:04:24.079980Z"
    }
   },
   "source": [
    "from mlxtend.evaluate import paired_ttest_5x2cv\n",
    "\n",
    "\n",
    "t, p = paired_ttest_5x2cv(estimator1=control, estimator2=variant, X=test_df[features], y=test_df['churn'], scoring='recall', random_seed=1)\n",
    "# summarize\n",
    "print('P-value: %.3f, t-Statistic: %.3f' % (p, t))"
   ],
   "outputs": [
    {
     "name": "stdout",
     "output_type": "stream",
     "text": [
      "P-value: 0.090, t-Statistic: -2.094\n"
     ]
    }
   ],
   "execution_count": 46
  },
  {
   "metadata": {},
   "cell_type": "code",
   "outputs": [],
   "execution_count": null,
   "source": "",
   "id": "d5eed0e66c279c8e"
  }
 ],
 "metadata": {
  "kernelspec": {
   "display_name": "base",
   "language": "python",
   "name": "python3"
  },
  "language_info": {
   "codemirror_mode": {
    "name": "ipython",
    "version": 3
   },
   "file_extension": ".py",
   "mimetype": "text/x-python",
   "name": "python",
   "nbconvert_exporter": "python",
   "pygments_lexer": "ipython3",
   "version": "3.11.5"
  }
 },
 "nbformat": 4,
 "nbformat_minor": 5
}
