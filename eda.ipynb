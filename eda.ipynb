{
 "cells": [
  {
   "cell_type": "markdown",
   "metadata": {
    "colab_type": "text",
    "id": "view-in-github"
   },
   "source": [
    "<a href=\"https://colab.research.google.com/github/datascience-uniandes/data-analysis-tutorial/blob/master/fifa/eda.ipynb\" target=\"_parent\"><img src=\"https://colab.research.google.com/assets/colab-badge.svg\" alt=\"Open In Colab\"/></a>"
   ]
  },
  {
   "cell_type": "markdown",
   "metadata": {
    "id": "5p6U1zpoerxv",
    "tags": []
   },
   "source": [
    "# Exploratory Data Analysis (EDA)\n",
    "\n",
    "MINE-4101: Applied Data Science  \n",
    "Univerisdad de los Andes  \n",
    "  \n",
    "**Dataset:** FIFA\n",
    "  \n",
    "Last update: August, 2024"
   ]
  },
  {
   "cell_type": "code",
   "execution_count": null,
   "metadata": {
    "id": "raVCcL23erxw",
    "tags": []
   },
   "outputs": [],
   "source": [
    "# !pip install --upgrade ydata-profiling"
   ]
  },
  {
   "cell_type": "code",
   "metadata": {
    "id": "X4T1Rk_yerxx",
    "ExecuteTime": {
     "end_time": "2024-11-19T01:41:01.287012Z",
     "start_time": "2024-11-19T01:40:59.060646Z"
    }
   },
   "source": [
    "# Importing libraries\n",
    "\n",
    "import numpy as np\n",
    "import pandas as pd\n",
    "\n",
    "import matplotlib.pyplot as plt\n",
    "import seaborn as sns\n",
    "\n",
    "from ydata_profiling import ProfileReport"
   ],
   "outputs": [],
   "execution_count": 2
  },
  {
   "cell_type": "code",
   "metadata": {
    "id": "fRyhiCBperxx",
    "ExecuteTime": {
     "end_time": "2024-11-19T01:40:54.594773Z",
     "start_time": "2024-11-19T01:40:54.213671Z"
    }
   },
   "source": [
    "# Panadas configuration to extend the number of rows and columns to visualize by default\n",
    "pd.set_option('display.max_rows', 100)\n",
    "pd.set_option('display.max_columns', 100)"
   ],
   "outputs": [
    {
     "ename": "NameError",
     "evalue": "name 'pd' is not defined",
     "output_type": "error",
     "traceback": [
      "\u001B[1;31m---------------------------------------------------------------------------\u001B[0m",
      "\u001B[1;31mNameError\u001B[0m                                 Traceback (most recent call last)",
      "\u001B[1;32m~\\AppData\\Local\\Temp/ipykernel_15640/2021755948.py\u001B[0m in \u001B[0;36m<module>\u001B[1;34m\u001B[0m\n\u001B[0;32m      1\u001B[0m \u001B[1;31m# Panadas configuration to extend the number of rows and columns to visualize by default\u001B[0m\u001B[1;33m\u001B[0m\u001B[1;33m\u001B[0m\u001B[1;33m\u001B[0m\u001B[0m\n\u001B[1;32m----> 2\u001B[1;33m \u001B[0mpd\u001B[0m\u001B[1;33m.\u001B[0m\u001B[0mset_option\u001B[0m\u001B[1;33m(\u001B[0m\u001B[1;34m'display.max_rows'\u001B[0m\u001B[1;33m,\u001B[0m \u001B[1;36m100\u001B[0m\u001B[1;33m)\u001B[0m\u001B[1;33m\u001B[0m\u001B[1;33m\u001B[0m\u001B[0m\n\u001B[0m\u001B[0;32m      3\u001B[0m \u001B[0mpd\u001B[0m\u001B[1;33m.\u001B[0m\u001B[0mset_option\u001B[0m\u001B[1;33m(\u001B[0m\u001B[1;34m'display.max_columns'\u001B[0m\u001B[1;33m,\u001B[0m \u001B[1;36m100\u001B[0m\u001B[1;33m)\u001B[0m\u001B[1;33m\u001B[0m\u001B[1;33m\u001B[0m\u001B[0m\n",
      "\u001B[1;31mNameError\u001B[0m: name 'pd' is not defined"
     ]
    }
   ],
   "execution_count": 1
  },
  {
   "cell_type": "code",
   "execution_count": null,
   "metadata": {},
   "outputs": [],
   "source": [
    "# Suppress scientific notation\n",
    "pd.options.display.float_format = '{:.2f}'.format"
   ]
  },
  {
   "cell_type": "markdown",
   "metadata": {},
   "source": [
    "### Load the data"
   ]
  },
  {
   "cell_type": "code",
   "execution_count": null,
   "metadata": {
    "id": "5VBZ3Vceerxx"
   },
   "outputs": [],
   "source": [
    "# Loading the CSV file as a dataframe\n",
    "fifa_df = pd.read_csv('./data/fifa.csv')"
   ]
  },
  {
   "cell_type": "code",
   "execution_count": null,
   "metadata": {
    "id": "Oa5ltomOerxy"
   },
   "outputs": [],
   "source": [
    "# Showing the dataframe dimensions\n",
    "fifa_df.shape"
   ]
  },
  {
   "cell_type": "code",
   "execution_count": null,
   "metadata": {
    "id": "dE2awzI8erxy"
   },
   "outputs": [],
   "source": [
    "# Showing the column data types\n",
    "fifa_df.dtypes"
   ]
  },
  {
   "cell_type": "code",
   "execution_count": null,
   "metadata": {
    "id": "Hxv3NEHOerxz"
   },
   "outputs": [],
   "source": [
    "# Showing the top 5 rows\n",
    "fifa_df.head()"
   ]
  },
  {
   "cell_type": "markdown",
   "metadata": {
    "id": "LO3GdIneerxz"
   },
   "source": [
    "### Transform some columns"
   ]
  },
  {
   "cell_type": "code",
   "execution_count": null,
   "metadata": {
    "id": "UNkuBwdQerxz",
    "tags": []
   },
   "outputs": [],
   "source": [
    "# Analyzing unique values for columns Value and Wage\n",
    "set(''.join(fifa_df['Value'].values + fifa_df['Wage'].values))"
   ]
  },
  {
   "cell_type": "code",
   "execution_count": null,
   "metadata": {
    "id": "JaEEyBxserx0"
   },
   "outputs": [],
   "source": [
    "# Transforming some columns to float based on thousand and million symbols\n",
    "\n",
    "def money_str_to_float(x):\n",
    "    x = x.replace('€', '')           # Remove the euro symbol\n",
    "    if 'M' in x:                     # If the value has the million symbol \n",
    "        x = x.replace('M', '')       # Remove the symbol\n",
    "        return float(x) * 1000000    # Cast the value to float and multiply it by 1'000.000\n",
    "    elif 'K' in x:                   # If value has the thousand symbol\n",
    "        x = x.replace('K', '')       # # Remove the symbol\n",
    "        return float(x) * 1000       # Cast the value to float and multiply it by 1.000\n",
    "    else:                            # If neither symbol is found\n",
    "        return float(x)              # Only cast the value to float\n",
    "\n",
    "fifa_df['Value'] = fifa_df['Value'].apply(money_str_to_float)\n",
    "fifa_df['Wage'] = fifa_df['Wage'].apply(money_str_to_float)"
   ]
  },
  {
   "cell_type": "code",
   "execution_count": null,
   "metadata": {
    "id": "Kow-ZZGkerx0"
   },
   "outputs": [],
   "source": [
    "fifa_df.head()"
   ]
  },
  {
   "cell_type": "markdown",
   "metadata": {
    "id": "MCcVrHn5erx0",
    "tags": []
   },
   "source": [
    "### Explore the *Value* column"
   ]
  },
  {
   "cell_type": "code",
   "execution_count": null,
   "metadata": {
    "id": "gOV0U87werx1"
   },
   "outputs": [],
   "source": [
    "# Getting the mean Value for all players\n",
    "fifa_df['Value'].mean()"
   ]
  },
  {
   "cell_type": "code",
   "execution_count": null,
   "metadata": {
    "id": "jT6ekDaIerx1"
   },
   "outputs": [],
   "source": [
    "# Getting the median value for all players\n",
    "fifa_df['Value'].median()"
   ]
  },
  {
   "cell_type": "code",
   "execution_count": null,
   "metadata": {
    "id": "tGZWoMWwerx1"
   },
   "outputs": [],
   "source": [
    "# Getting the player with the highest value\n",
    "max_value = fifa_df['Value'].max()\n",
    "fifa_df.loc[fifa_df['Value'] == max_value]"
   ]
  },
  {
   "cell_type": "code",
   "execution_count": null,
   "metadata": {
    "id": "8IRpvjmDerx1"
   },
   "outputs": [],
   "source": [
    "# Getting the main statistics for the Value column\n",
    "fifa_df['Value'].describe()"
   ]
  },
  {
   "cell_type": "markdown",
   "metadata": {},
   "source": [
    "<p style=\"color: red;\">Modify the code above to show percentiles 95 and 99</p>"
   ]
  },
  {
   "cell_type": "code",
   "execution_count": null,
   "metadata": {},
   "outputs": [],
   "source": []
  },
  {
   "cell_type": "code",
   "execution_count": null,
   "metadata": {},
   "outputs": [],
   "source": [
    "# Computing skewness and kurtosis\n",
    "print(\"Skewness:\", fifa_df['Value'].skew())\n",
    "print(\"Kurtosis:\", fifa_df['Value'].kurtosis())"
   ]
  },
  {
   "cell_type": "code",
   "execution_count": null,
   "metadata": {
    "id": "orqx5NO5erx1"
   },
   "outputs": [],
   "source": [
    "# Plotting the histogram for the column\n",
    "fifa_df['Value'].hist()\n",
    "plt.show()"
   ]
  },
  {
   "cell_type": "code",
   "execution_count": null,
   "metadata": {
    "id": "Ypgk92Pjerx2"
   },
   "outputs": [],
   "source": [
    "# Defining the number of bins and for better visualization\n",
    "plt.figure()\n",
    "fifa_df['Value'].hist(bins=50)\n",
    "plt.show()"
   ]
  },
  {
   "cell_type": "code",
   "execution_count": null,
   "metadata": {
    "id": "W6hTvnT2erx2"
   },
   "outputs": [],
   "source": [
    "# Plotting distribution but using a boxplot\n",
    "plt.figure(figsize=(18, 3))\n",
    "plt.boxplot(fifa_df['Value'], showmeans=True, vert=False)\n",
    "plt.show()"
   ]
  },
  {
   "cell_type": "code",
   "execution_count": null,
   "metadata": {
    "id": "hHle4Axyerx2"
   },
   "outputs": [],
   "source": [
    "# Which are the most valuable players?\n",
    "outlier_threshold = fifa_df['Value'].mean() + fifa_df['Value'].std() * 15\n",
    "fifa_df[fifa_df['Value'] > outlier_threshold]"
   ]
  },
  {
   "cell_type": "code",
   "execution_count": null,
   "metadata": {
    "id": "dXP9615Xerx4"
   },
   "outputs": [],
   "source": [
    "# Using the method based on quartiles to select outliers\n",
    "iqr = (fifa_df['Value'].quantile(.75) - fifa_df['Value'].quantile(.25))\n",
    "outlier_threshold = fifa_df['Value'].quantile(.75) + iqr * 45\n",
    "fifa_df[fifa_df['Value'] > outlier_threshold]"
   ]
  },
  {
   "cell_type": "markdown",
   "metadata": {
    "id": "cH7G5X4Aerx4",
    "tags": []
   },
   "source": [
    "### Explore the *Preferred Positions* column"
   ]
  },
  {
   "cell_type": "code",
   "execution_count": null,
   "metadata": {
    "id": "_SgUnsnKerx4"
   },
   "outputs": [],
   "source": [
    "fifa_df['Preferred Positions'].unique()"
   ]
  },
  {
   "cell_type": "code",
   "execution_count": null,
   "metadata": {
    "id": "fMra_Vkcerx4"
   },
   "outputs": [],
   "source": [
    "# How many preferred positions the players have?\n",
    "\n",
    "def count_pref_positions(x):\n",
    "    positions = x.strip().split(' ')    # Split the text by space\n",
    "    return len(positions)               # Count the number of positions and return the value\n",
    "\n",
    "fifa_df['Preferred Positions'].apply(count_pref_positions).value_counts(dropna=False, normalize=True)"
   ]
  },
  {
   "cell_type": "code",
   "execution_count": null,
   "metadata": {
    "id": "JRsF-JY2erx5"
   },
   "outputs": [],
   "source": [
    "# Selecting the preferred position with the highest score\n",
    "\n",
    "def get_pref_position(row):\n",
    "    pref_positions = row['Preferred Positions'].strip().split(' ')    # Split the text by space\n",
    "    if pref_positions[0] == \"GK\":                                     # Handle the special case for GKs\n",
    "        return \"GK\"\n",
    "    scores = np.array([row[p] for p in pref_positions])               # Get the the scores for each preferred position\n",
    "    i_max = np.argmax(scores)                                         # Get the index for the highest score\n",
    "    return pref_positions[i_max]                                      # Locate the position using its index and return it\n",
    "\n",
    "fifa_df['Preferred Position'] = fifa_df.apply(get_pref_position, axis=1)"
   ]
  },
  {
   "cell_type": "code",
   "execution_count": null,
   "metadata": {
    "id": "oqsdASvderx5"
   },
   "outputs": [],
   "source": [
    "# Calculating the absolute frecuency of the preferred position\n",
    "pref_positions_abs_frec = fifa_df['Preferred Position'].value_counts(dropna=False)\n",
    "pref_positions_abs_frec"
   ]
  },
  {
   "cell_type": "code",
   "execution_count": null,
   "metadata": {
    "id": "kezCn1Uterx5"
   },
   "outputs": [],
   "source": [
    "# Plotting preferred position frecuency\n",
    "# WARNING: line chart assumes continuity. It is a better choice when dealing with continuous variables (e.g. time series)\n",
    "pref_positions_abs_frec.plot()\n",
    "plt.show()"
   ]
  },
  {
   "cell_type": "markdown",
   "metadata": {},
   "source": [
    "<p style=\"color: red;\">Use a bar chart to better visualize the preferred position frecuency</p>"
   ]
  },
  {
   "cell_type": "code",
   "execution_count": null,
   "metadata": {},
   "outputs": [],
   "source": []
  },
  {
   "cell_type": "markdown",
   "metadata": {
    "id": "HC1WZV2gerx5",
    "tags": []
   },
   "source": [
    "### Explore the relationship between *Age* and *Value*"
   ]
  },
  {
   "cell_type": "code",
   "execution_count": null,
   "metadata": {
    "id": "c-q_qJP2erx5"
   },
   "outputs": [],
   "source": [
    "# Plotting a scatter plot to visualize two quantitative variables\n",
    "plt.figure(figsize=(13, 7))\n",
    "plt.scatter(fifa_df['Age'], fifa_df['Value'], alpha=0.5)\n",
    "plt.title('Age vs. Value')\n",
    "plt.xlabel('Age')\n",
    "plt.ylabel('Value')\n",
    "plt.show()"
   ]
  },
  {
   "cell_type": "code",
   "execution_count": null,
   "metadata": {
    "id": "IiQ43JD7erx5"
   },
   "outputs": [],
   "source": [
    "# What is the (linear) correlation coefficient?\n",
    "fifa_df[['Age', 'Value']].corr()"
   ]
  },
  {
   "cell_type": "code",
   "execution_count": null,
   "metadata": {
    "id": "KayMCOseerx5"
   },
   "outputs": [],
   "source": [
    "# What is the (monotonic) correlation coefficient?\n",
    "fifa_df[['Age', 'Value']].corr('spearman')"
   ]
  },
  {
   "cell_type": "markdown",
   "metadata": {
    "id": "CiLo_etGerx6"
   },
   "source": [
    "### Explore the relationship between *Overall* and *Value*"
   ]
  },
  {
   "cell_type": "code",
   "execution_count": null,
   "metadata": {
    "id": "QkpcLQx3erx6"
   },
   "outputs": [],
   "source": [
    "plt.figure(figsize=(13, 7))\n",
    "plt.scatter(fifa_df['Overall'], fifa_df['Value'], alpha=0.5, color='orange')\n",
    "plt.title('Overall vs. Value')\n",
    "plt.xlabel('Overall')\n",
    "plt.ylabel('Value')\n",
    "plt.show()"
   ]
  },
  {
   "cell_type": "code",
   "execution_count": null,
   "metadata": {
    "id": "VU_TwV0berx6"
   },
   "outputs": [],
   "source": [
    "# What is the (linear) correlation coefficient?\n",
    "fifa_df[['Overall', 'Value']].corr()"
   ]
  },
  {
   "cell_type": "code",
   "execution_count": null,
   "metadata": {
    "id": "tv8ahrL1erx6"
   },
   "outputs": [],
   "source": [
    "# What is the (monotonic) correlation coefficient?\n",
    "fifa_df[['Overall', 'Value']].corr('spearman')"
   ]
  },
  {
   "cell_type": "markdown",
   "metadata": {
    "id": "FJMM9SSferx6"
   },
   "source": [
    "<p style=\"color: red;\">Why both methods give different correlation coefficients for the same pair of variables?</p>"
   ]
  },
  {
   "cell_type": "markdown",
   "metadata": {
    "id": "9KEcVr3Verx6"
   },
   "source": [
    "### Compare by *Club*"
   ]
  },
  {
   "cell_type": "code",
   "execution_count": null,
   "metadata": {},
   "outputs": [],
   "source": [
    "# Plotting Wage by club\n",
    "plt.figure(figsize=(13, 10))\n",
    "sns.boxplot(\n",
    "    data=fifa_df.loc[fifa_df['Club'].isin(['Real Madrid CF', 'FC Barcelona'])],\n",
    "    x='Club',\n",
    "    y='Wage',\n",
    "    showmeans=True\n",
    ")\n",
    "plt.show()"
   ]
  },
  {
   "cell_type": "code",
   "execution_count": null,
   "metadata": {
    "id": "Y0uzlkILerx6"
   },
   "outputs": [],
   "source": [
    "# Plotting Wage by club\n",
    "plt.figure(figsize=(13, 10))\n",
    "sns.boxplot(\n",
    "    data=fifa_df.loc[fifa_df['Club'].isin(['Independiente Santa Fe', 'CD Los Millionarios Bogota'])],\n",
    "    x='Club',\n",
    "    y='Wage',\n",
    "    showmeans=True\n",
    ")\n",
    "plt.show()"
   ]
  },
  {
   "cell_type": "markdown",
   "metadata": {},
   "source": [
    "<p style=\"color: red;\">What are the main origins (Nationality) of the players in the top 3 teams with the most expensive squads (Value)? Hint: You need to group the data first.</p>"
   ]
  },
  {
   "cell_type": "code",
   "execution_count": null,
   "metadata": {},
   "outputs": [],
   "source": []
  },
  {
   "cell_type": "markdown",
   "metadata": {
    "id": "Btqs1K3Ferx6"
   },
   "source": [
    "### Profiling the data"
   ]
  },
  {
   "cell_type": "code",
   "execution_count": null,
   "metadata": {
    "id": "gFjsKzVierx6"
   },
   "outputs": [],
   "source": [
    "profile = ProfileReport(fifa_df)"
   ]
  },
  {
   "cell_type": "code",
   "execution_count": null,
   "metadata": {
    "id": "XfV0ii6Perx6"
   },
   "outputs": [],
   "source": [
    "# profile.to_notebook_iframe()"
   ]
  },
  {
   "cell_type": "code",
   "execution_count": null,
   "metadata": {
    "id": "3I7tqdJterx6"
   },
   "outputs": [],
   "source": [
    "# profile.to_file('report.html')"
   ]
  },
  {
   "cell_type": "markdown",
   "metadata": {
    "id": "i07Dpbg1tA4W"
   },
   "source": [
    "### Exporting clean date"
   ]
  },
  {
   "cell_type": "code",
   "execution_count": null,
   "metadata": {},
   "outputs": [],
   "source": [
    "fifa_df.to_csv('./data/fifa_clean.csv', index=False)"
   ]
  },
  {
   "cell_type": "code",
   "execution_count": null,
   "metadata": {},
   "outputs": [],
   "source": []
  }
 ],
 "metadata": {
  "colab": {
   "include_colab_link": true,
   "name": "eda-tutorial.ipynb",
   "provenance": []
  },
  "kernelspec": {
   "display_name": "Python 3 (ipykernel)",
   "language": "python",
   "name": "python3"
  },
  "language_info": {
   "codemirror_mode": {
    "name": "ipython",
    "version": 3
   },
   "file_extension": ".py",
   "mimetype": "text/x-python",
   "name": "python",
   "nbconvert_exporter": "python",
   "pygments_lexer": "ipython3",
   "version": "3.11.7"
  }
 },
 "nbformat": 4,
 "nbformat_minor": 4
}
