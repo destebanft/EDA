{
 "cells": [
  {
   "cell_type": "markdown",
   "id": "02f7829d-724e-46a7-b1fb-754925438687",
   "metadata": {},
   "source": [
    "<a href=\"https://colab.research.google.com/github/datascience-uniandes/data-analysis-tutorial/blob/master/fifa/dim-reduction.ipynb\" target=\"_parent\"><img src=\"https://colab.research.google.com/assets/colab-badge.svg\" alt=\"Open In Colab\"/></a>"
   ]
  },
  {
   "cell_type": "markdown",
   "id": "2893d8bf-e552-4ab8-9950-f1dedb6d4faa",
   "metadata": {},
   "source": [
    "# Dimensionality Reduction for high-dimensional data visualization\n",
    "\n",
    "MINE-4101: Applied Data Science  \n",
    "Univerisdad de los Andes  \n",
    "  \n",
    "**Dataset:** FIFA\n",
    "  \n",
    "Last update: August, 2024"
   ]
  },
  {
   "cell_type": "code",
   "execution_count": null,
   "id": "8bd365ac-82ea-4e89-996f-1f7440a4138e",
   "metadata": {},
   "outputs": [],
   "source": [
    "import numpy as np\n",
    "import pandas as pd\n",
    "\n",
    "import matplotlib.pyplot as plt\n",
    "import seaborn as sns\n",
    "\n",
    "from sklearn.decomposition import PCA\n",
    "from sklearn.pipeline import Pipeline\n",
    "from sklearn.preprocessing import StandardScaler"
   ]
  },
  {
   "cell_type": "code",
   "execution_count": null,
   "id": "768596e9-4369-474c-a316-689e774c2449",
   "metadata": {},
   "outputs": [],
   "source": [
    "pd.set_option('display.max_rows', 100)\n",
    "pd.set_option('display.max_columns', 100)"
   ]
  },
  {
   "cell_type": "markdown",
   "id": "c5f0a288-3dd4-463a-9c70-8b031d320538",
   "metadata": {},
   "source": [
    "### Load the data"
   ]
  },
  {
   "cell_type": "code",
   "execution_count": null,
   "id": "3507b6b6-a230-489f-a13b-ba79c1919410",
   "metadata": {
    "id": "5VBZ3Vceerxx"
   },
   "outputs": [],
   "source": [
    "fifa_df = pd.read_csv('./data/fifa_clean.csv')"
   ]
  },
  {
   "cell_type": "code",
   "execution_count": null,
   "id": "4725c9f7-fbf9-447f-a5e9-dfc018ede17a",
   "metadata": {
    "id": "Oa5ltomOerxy"
   },
   "outputs": [],
   "source": [
    "fifa_df.shape"
   ]
  },
  {
   "cell_type": "code",
   "execution_count": null,
   "id": "bf63c4f8-e87b-43dc-9fc5-a8c8933adbdd",
   "metadata": {
    "id": "dE2awzI8erxy"
   },
   "outputs": [],
   "source": [
    "fifa_df.dtypes"
   ]
  },
  {
   "cell_type": "code",
   "execution_count": null,
   "id": "bac544eb-3b44-4d29-9ef0-0c0b203dbea9",
   "metadata": {
    "id": "Hxv3NEHOerxz"
   },
   "outputs": [],
   "source": [
    "fifa_df.head()"
   ]
  },
  {
   "cell_type": "markdown",
   "id": "24ee051e-4628-4c6c-afa0-0bbbb23efe2c",
   "metadata": {},
   "source": [
    "### Filter the data"
   ]
  },
  {
   "cell_type": "code",
   "execution_count": null,
   "id": "ce784e52-882f-481f-9108-54a47f4b54f9",
   "metadata": {},
   "outputs": [],
   "source": [
    "position_frecs = fifa_df['Preferred Position'].value_counts(dropna=False, normalize=True).cumsum()\n",
    "position_frecs"
   ]
  },
  {
   "cell_type": "code",
   "execution_count": null,
   "id": "e9d7df4e-d726-4229-9c35-d0da3dae8bf2",
   "metadata": {},
   "outputs": [],
   "source": [
    "fifa_df = fifa_df.loc[fifa_df['Preferred Position'].isin(position_frecs.index[:10].tolist())]"
   ]
  },
  {
   "cell_type": "code",
   "execution_count": null,
   "id": "43c12f8a-c0e3-4136-be65-bee3ac0eaf31",
   "metadata": {},
   "outputs": [],
   "source": [
    "fifa_df.shape"
   ]
  },
  {
   "cell_type": "markdown",
   "id": "205a5876-40e6-4b92-aaa3-7d0abe3e5c69",
   "metadata": {},
   "source": [
    "### Feature selection and data preparation"
   ]
  },
  {
   "cell_type": "code",
   "execution_count": null,
   "id": "a4a9229f-ecc6-47ee-87ad-5e6840029a42",
   "metadata": {},
   "outputs": [],
   "source": [
    "# Filtering the column list by index\n",
    "player_attributes = fifa_df.columns[12:46]"
   ]
  },
  {
   "cell_type": "code",
   "execution_count": null,
   "id": "37e4c497-e907-4d5d-953c-7757841b9e25",
   "metadata": {},
   "outputs": [],
   "source": [
    "player_attributes"
   ]
  },
  {
   "cell_type": "code",
   "execution_count": null,
   "id": "0eeb173b-5689-408e-86b2-8c81e24146a3",
   "metadata": {
    "tags": []
   },
   "outputs": [],
   "source": [
    "# For features selected, making a transformation from string to int\n",
    "# Why is this required? These features have values like '80+9' or '70-3'\n",
    "\n",
    "attribute2int = lambda x: sum([int(i) for i in x.replace('-', '+').split('+')]) if type(x) == str else x\n",
    "\n",
    "for attribute in player_attributes:\n",
    "    print('Transforming', attribute)\n",
    "    fifa_df[attribute] = fifa_df[attribute].apply(attribute2int)"
   ]
  },
  {
   "cell_type": "markdown",
   "id": "f1300efa-d745-4af4-a5fb-f72da3557162",
   "metadata": {},
   "source": [
    "### Build principal components"
   ]
  },
  {
   "cell_type": "code",
   "execution_count": null,
   "id": "263b50ec-2628-48dc-b6d1-bb71d7b19f6d",
   "metadata": {},
   "outputs": [],
   "source": [
    "# Let's build a pipeline to automate the process of transforming features before applying PCA\n",
    "pipeline = Pipeline([\n",
    "    ('scaler', StandardScaler()),\n",
    "    ('pca', PCA(n_components=5, random_state=42))\n",
    "])"
   ]
  },
  {
   "cell_type": "code",
   "execution_count": null,
   "id": "5f78e2a7",
   "metadata": {},
   "outputs": [],
   "source": [
    "# Generating the principal components\n",
    "fifa_components = pipeline.fit_transform(fifa_df[player_attributes])"
   ]
  },
  {
   "cell_type": "code",
   "execution_count": null,
   "id": "a1032bdd-6e76-4ae0-98dc-b8134dadddfd",
   "metadata": {},
   "outputs": [],
   "source": [
    "fifa_components.shape"
   ]
  },
  {
   "cell_type": "code",
   "execution_count": null,
   "id": "b5b65c30",
   "metadata": {},
   "outputs": [],
   "source": [
    "fifa_components"
   ]
  },
  {
   "cell_type": "code",
   "execution_count": null,
   "id": "ef854932",
   "metadata": {},
   "outputs": [],
   "source": [
    "# What is the percentage of variance explained by each component\n",
    "print(pipeline['pca'].explained_variance_ratio_)\n",
    "print(pipeline['pca'].explained_variance_ratio_.sum())"
   ]
  },
  {
   "cell_type": "code",
   "execution_count": null,
   "id": "3b4de0ac-7e7b-4108-86db-0c7d211272ab",
   "metadata": {},
   "outputs": [],
   "source": [
    "pipeline['pca'].components_.T.shape"
   ]
  },
  {
   "cell_type": "code",
   "execution_count": null,
   "id": "a25e17d4-b4b1-4b1f-85bc-a458204001af",
   "metadata": {},
   "outputs": [],
   "source": [
    "loadings = pipeline['pca'].components_.T\n",
    "loadings_df = pd.DataFrame(loadings, columns=[f'PC{i+1}' for i in range(pipeline['pca'].n_components_)], index=fifa_df[player_attributes].columns)"
   ]
  },
  {
   "cell_type": "code",
   "execution_count": null,
   "id": "dd7d6d8f-33bc-4c09-993e-85fd1aa03bee",
   "metadata": {},
   "outputs": [],
   "source": [
    "loadings_df"
   ]
  },
  {
   "cell_type": "code",
   "execution_count": null,
   "id": "70779fd3",
   "metadata": {},
   "outputs": [],
   "source": [
    "plt.figure(figsize=(10, 7))\n",
    "sns.scatterplot(x=fifa_components[:,0], y=fifa_components[:,1], hue=fifa_df['Preferred Position'], size=1)\n",
    "plt.legend(loc='upper right')\n",
    "plt.show()"
   ]
  },
  {
   "cell_type": "code",
   "execution_count": null,
   "id": "2b974b55-54a5-4b5c-99b0-7f8de0f7ab68",
   "metadata": {},
   "outputs": [],
   "source": []
  }
 ],
 "metadata": {
  "kernelspec": {
   "display_name": "Python 3 (ipykernel)",
   "language": "python",
   "name": "python3"
  },
  "language_info": {
   "codemirror_mode": {
    "name": "ipython",
    "version": 3
   },
   "file_extension": ".py",
   "mimetype": "text/x-python",
   "name": "python",
   "nbconvert_exporter": "python",
   "pygments_lexer": "ipython3",
   "version": "3.11.7"
  }
 },
 "nbformat": 4,
 "nbformat_minor": 5
}
