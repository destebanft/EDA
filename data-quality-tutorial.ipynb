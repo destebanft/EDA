{
 "cells": [
  {
   "cell_type": "markdown",
   "metadata": {},
   "source": [
    "<a href=\"https://colab.research.google.com/github/datascience-uniandes/data-quality-tutorial/blob/master/data-quality-tutorial.ipynb\" target=\"_parent\"><img src=\"https://colab.research.google.com/assets/colab-badge.svg\" alt=\"Open In Colab\"/></a>"
   ]
  },
  {
   "cell_type": "markdown",
   "metadata": {},
   "source": [
    "# Data Quality and Cleanliness\n",
    "\n",
    "MINE-4101: Applied Data Science  \n",
    "Univerisdad de los Andes  \n",
    "  \n",
    "**Dataset:** Homicides Colombia ([datos.gov.co](datos.gov.co))\n",
    "\n",
    "**References:**\n",
    "- String similarity metrics: https://www.baeldung.com/cs/string-similarity-edit-distance\n",
    "- Levenshtein lib's docs: https://rapidfuzz.github.io/Levenshtein/installation.html\n",
    "  \n",
    "Last update: September, 2024"
   ]
  },
  {
   "cell_type": "code",
   "execution_count": null,
   "metadata": {},
   "outputs": [],
   "source": [
    "!pip install levenshtein"
   ]
  },
  {
   "cell_type": "code",
   "metadata": {
    "ExecuteTime": {
     "end_time": "2024-09-06T00:03:27.685998Z",
     "start_time": "2024-09-06T00:03:26.207239Z"
    }
   },
   "source": [
    "import re\n",
    "from datetime import datetime\n",
    "\n",
    "import numpy as np\n",
    "import pandas as pd\n",
    "\n",
    "from Levenshtein import distance, ratio"
   ],
   "outputs": [],
   "execution_count": 1
  },
  {
   "cell_type": "code",
   "metadata": {
    "ExecuteTime": {
     "end_time": "2024-09-06T00:03:29.503426Z",
     "start_time": "2024-09-06T00:03:29.495428Z"
    }
   },
   "source": [
    "pd.set_option(\"display.max_columns\", None)"
   ],
   "outputs": [],
   "execution_count": 2
  },
  {
   "cell_type": "markdown",
   "metadata": {},
   "source": [
    "### Load the data"
   ]
  },
  {
   "cell_type": "code",
   "metadata": {
    "ExecuteTime": {
     "end_time": "2024-09-06T00:03:35.044952Z",
     "start_time": "2024-09-06T00:03:34.978952Z"
    }
   },
   "source": [
    "homicides_df = pd.read_csv(\"./data/homicides.csv\")"
   ],
   "outputs": [],
   "execution_count": 3
  },
  {
   "cell_type": "code",
   "metadata": {
    "ExecuteTime": {
     "end_time": "2024-09-06T00:03:39.943786Z",
     "start_time": "2024-09-06T00:03:39.929788Z"
    }
   },
   "source": [
    "homicides_df.shape"
   ],
   "outputs": [
    {
     "data": {
      "text/plain": [
       "(12400, 22)"
      ]
     },
     "execution_count": 4,
     "metadata": {},
     "output_type": "execute_result"
    }
   ],
   "execution_count": 4
  },
  {
   "cell_type": "code",
   "metadata": {
    "ExecuteTime": {
     "end_time": "2024-09-06T00:03:41.067113Z",
     "start_time": "2024-09-06T00:03:41.062115Z"
    }
   },
   "source": [
    "homicides_df.dtypes"
   ],
   "outputs": [
    {
     "data": {
      "text/plain": [
       "FECHA                 object\n",
       "DEPARTAMENTO          object\n",
       "MUNICIPIO             object\n",
       "DIA                   object\n",
       "HORA                  object\n",
       "BARRIO                object\n",
       "ZONA                  object\n",
       "CLASE DE SITIO        object\n",
       "ARMA O MEDIO          object\n",
       "MOVIL VICTIMA         object\n",
       "MOVIL AGRESOR         object\n",
       "EDAD                 float64\n",
       "GENERO                object\n",
       "ESTADO CIVIL          object\n",
       "CLASE EMPLEADO        object\n",
       "PROFESION             object\n",
       "ESCOLARIDAD           object\n",
       "PAIS NACE             object\n",
       "CODIGO DANE          float64\n",
       "AÑO DE NACIMIENTO    float64\n",
       "CÉDULA                object\n",
       "CORREO                object\n",
       "dtype: object"
      ]
     },
     "execution_count": 5,
     "metadata": {},
     "output_type": "execute_result"
    }
   ],
   "execution_count": 5
  },
  {
   "cell_type": "code",
   "metadata": {
    "ExecuteTime": {
     "end_time": "2024-09-06T00:03:53.257285Z",
     "start_time": "2024-09-06T00:03:53.242286Z"
    }
   },
   "source": [
    "homicides_df.sample(5)"
   ],
   "outputs": [
    {
     "data": {
      "text/plain": [
       "                        FECHA  DEPARTAMENTO             MUNICIPIO      DIA  \\\n",
       "11670  12/13/2021 12:00:00 AM         VALLE             CALI (CT)  Domingo   \n",
       "9603   10/15/2021 12:00:00 AM        NARIÑO  SAN ANDRES DE TUMACO    juves   \n",
       "2065   03/05/2021 12:00:00 AM     ANTIOQUIA         MEDELLÍN (CT)   Jueves   \n",
       "7179   07/31/2021 12:00:00 AM  CUNDINAMARCA      BOGOTÁ D.C. (CT)  Viernes   \n",
       "3332   04/12/2021 12:00:00 AM     ANTIOQUIA              FRONTINO  Domingo   \n",
       "\n",
       "        HORA                             BARRIO    ZONA       CLASE DE SITIO  \\\n",
       "11670   3:14                    CHARCO AZUL E13  URBANA        VIAS PUBLICAS   \n",
       "9603   18:05                        EL VOLADERO  URBANA        VIAS PUBLICAS   \n",
       "2065    9:00  VILLA DEL SOCORRO  CNO REPORTADO2  URBANA  CASAS DE HABITACION   \n",
       "7179   23:40        LUCERO ALTO ENO REPORTADO19  URBANA        VIAS PUBLICAS   \n",
       "3332   14:00                            MURINDO   RURAL        VIAS PUBLICAS   \n",
       "\n",
       "        ARMA O MEDIO   MOVIL VICTIMA MOVIL AGRESOR  EDAD     GENERO  \\\n",
       "11670  ARMA DE FUEGO           A PIE         A PIE  51.0  MASCULINO   \n",
       "9603   ARMA DE FUEGO  CONDUCTOR TAXI         A PIE  34.0  MASCULINO   \n",
       "2065    CONTUNDENTES           A PIE         A PIE  35.0  MASCULINO   \n",
       "7179   ARMA DE FUEGO           A PIE         A PIE  27.0  MASCULINO   \n",
       "3332     ARMA BLANCA           A PIE         A PIE  32.0  MASCULINO   \n",
       "\n",
       "      ESTADO CIVIL       CLASE EMPLEADO     PROFESION ESCOLARIDAD PAIS NACE  \\\n",
       "11670  UNION LIBRE        INDEPENDIENTE  NO REPORTADO  SECUNDARIA  COLOMBIA   \n",
       "9603       SOLTERO        INDEPENDIENTE  NO REPORTADO    PRIMARIA  COLOMBIA   \n",
       "2065   UNION LIBRE  EMPLEADO PARTICULAR  NO REPORTADO    PRIMARIA  COLOMBIA   \n",
       "7179       SOLTERO  EMPLEADO PARTICULAR  NO REPORTADO  SECUNDARIA  COLOMBIA   \n",
       "3332   UNION LIBRE        INDEPENDIENTE  NO REPORTADO    PRIMARIA  COLOMBIA   \n",
       "\n",
       "       CODIGO DANE  AÑO DE NACIMIENTO  CÉDULA                      CORREO  \n",
       "11670   76001000.0             1964.0  77-802  taebpa1058@unidatos.edu.co  \n",
       "9603    52835000.0             1981.0  92-476  egqsnf5353@unidatos.edu.co  \n",
       "2065     5001000.0             1980.0  56-301  qqrhuk1408@unidatos.edu.co  \n",
       "7179    11001000.0             1988.0  89-570        dfjurl9333@gmail.com  \n",
       "3332     5284000.0             1983.0  15-049  kjpkqt2743@unidatos.edu.co  "
      ],
      "text/html": [
       "<div>\n",
       "<style scoped>\n",
       "    .dataframe tbody tr th:only-of-type {\n",
       "        vertical-align: middle;\n",
       "    }\n",
       "\n",
       "    .dataframe tbody tr th {\n",
       "        vertical-align: top;\n",
       "    }\n",
       "\n",
       "    .dataframe thead th {\n",
       "        text-align: right;\n",
       "    }\n",
       "</style>\n",
       "<table border=\"1\" class=\"dataframe\">\n",
       "  <thead>\n",
       "    <tr style=\"text-align: right;\">\n",
       "      <th></th>\n",
       "      <th>FECHA</th>\n",
       "      <th>DEPARTAMENTO</th>\n",
       "      <th>MUNICIPIO</th>\n",
       "      <th>DIA</th>\n",
       "      <th>HORA</th>\n",
       "      <th>BARRIO</th>\n",
       "      <th>ZONA</th>\n",
       "      <th>CLASE DE SITIO</th>\n",
       "      <th>ARMA O MEDIO</th>\n",
       "      <th>MOVIL VICTIMA</th>\n",
       "      <th>MOVIL AGRESOR</th>\n",
       "      <th>EDAD</th>\n",
       "      <th>GENERO</th>\n",
       "      <th>ESTADO CIVIL</th>\n",
       "      <th>CLASE EMPLEADO</th>\n",
       "      <th>PROFESION</th>\n",
       "      <th>ESCOLARIDAD</th>\n",
       "      <th>PAIS NACE</th>\n",
       "      <th>CODIGO DANE</th>\n",
       "      <th>AÑO DE NACIMIENTO</th>\n",
       "      <th>CÉDULA</th>\n",
       "      <th>CORREO</th>\n",
       "    </tr>\n",
       "  </thead>\n",
       "  <tbody>\n",
       "    <tr>\n",
       "      <th>11670</th>\n",
       "      <td>12/13/2021 12:00:00 AM</td>\n",
       "      <td>VALLE</td>\n",
       "      <td>CALI (CT)</td>\n",
       "      <td>Domingo</td>\n",
       "      <td>3:14</td>\n",
       "      <td>CHARCO AZUL E13</td>\n",
       "      <td>URBANA</td>\n",
       "      <td>VIAS PUBLICAS</td>\n",
       "      <td>ARMA DE FUEGO</td>\n",
       "      <td>A PIE</td>\n",
       "      <td>A PIE</td>\n",
       "      <td>51.0</td>\n",
       "      <td>MASCULINO</td>\n",
       "      <td>UNION LIBRE</td>\n",
       "      <td>INDEPENDIENTE</td>\n",
       "      <td>NO REPORTADO</td>\n",
       "      <td>SECUNDARIA</td>\n",
       "      <td>COLOMBIA</td>\n",
       "      <td>76001000.0</td>\n",
       "      <td>1964.0</td>\n",
       "      <td>77-802</td>\n",
       "      <td>taebpa1058@unidatos.edu.co</td>\n",
       "    </tr>\n",
       "    <tr>\n",
       "      <th>9603</th>\n",
       "      <td>10/15/2021 12:00:00 AM</td>\n",
       "      <td>NARIÑO</td>\n",
       "      <td>SAN ANDRES DE TUMACO</td>\n",
       "      <td>juves</td>\n",
       "      <td>18:05</td>\n",
       "      <td>EL VOLADERO</td>\n",
       "      <td>URBANA</td>\n",
       "      <td>VIAS PUBLICAS</td>\n",
       "      <td>ARMA DE FUEGO</td>\n",
       "      <td>CONDUCTOR TAXI</td>\n",
       "      <td>A PIE</td>\n",
       "      <td>34.0</td>\n",
       "      <td>MASCULINO</td>\n",
       "      <td>SOLTERO</td>\n",
       "      <td>INDEPENDIENTE</td>\n",
       "      <td>NO REPORTADO</td>\n",
       "      <td>PRIMARIA</td>\n",
       "      <td>COLOMBIA</td>\n",
       "      <td>52835000.0</td>\n",
       "      <td>1981.0</td>\n",
       "      <td>92-476</td>\n",
       "      <td>egqsnf5353@unidatos.edu.co</td>\n",
       "    </tr>\n",
       "    <tr>\n",
       "      <th>2065</th>\n",
       "      <td>03/05/2021 12:00:00 AM</td>\n",
       "      <td>ANTIOQUIA</td>\n",
       "      <td>MEDELLÍN (CT)</td>\n",
       "      <td>Jueves</td>\n",
       "      <td>9:00</td>\n",
       "      <td>VILLA DEL SOCORRO  CNO REPORTADO2</td>\n",
       "      <td>URBANA</td>\n",
       "      <td>CASAS DE HABITACION</td>\n",
       "      <td>CONTUNDENTES</td>\n",
       "      <td>A PIE</td>\n",
       "      <td>A PIE</td>\n",
       "      <td>35.0</td>\n",
       "      <td>MASCULINO</td>\n",
       "      <td>UNION LIBRE</td>\n",
       "      <td>EMPLEADO PARTICULAR</td>\n",
       "      <td>NO REPORTADO</td>\n",
       "      <td>PRIMARIA</td>\n",
       "      <td>COLOMBIA</td>\n",
       "      <td>5001000.0</td>\n",
       "      <td>1980.0</td>\n",
       "      <td>56-301</td>\n",
       "      <td>qqrhuk1408@unidatos.edu.co</td>\n",
       "    </tr>\n",
       "    <tr>\n",
       "      <th>7179</th>\n",
       "      <td>07/31/2021 12:00:00 AM</td>\n",
       "      <td>CUNDINAMARCA</td>\n",
       "      <td>BOGOTÁ D.C. (CT)</td>\n",
       "      <td>Viernes</td>\n",
       "      <td>23:40</td>\n",
       "      <td>LUCERO ALTO ENO REPORTADO19</td>\n",
       "      <td>URBANA</td>\n",
       "      <td>VIAS PUBLICAS</td>\n",
       "      <td>ARMA DE FUEGO</td>\n",
       "      <td>A PIE</td>\n",
       "      <td>A PIE</td>\n",
       "      <td>27.0</td>\n",
       "      <td>MASCULINO</td>\n",
       "      <td>SOLTERO</td>\n",
       "      <td>EMPLEADO PARTICULAR</td>\n",
       "      <td>NO REPORTADO</td>\n",
       "      <td>SECUNDARIA</td>\n",
       "      <td>COLOMBIA</td>\n",
       "      <td>11001000.0</td>\n",
       "      <td>1988.0</td>\n",
       "      <td>89-570</td>\n",
       "      <td>dfjurl9333@gmail.com</td>\n",
       "    </tr>\n",
       "    <tr>\n",
       "      <th>3332</th>\n",
       "      <td>04/12/2021 12:00:00 AM</td>\n",
       "      <td>ANTIOQUIA</td>\n",
       "      <td>FRONTINO</td>\n",
       "      <td>Domingo</td>\n",
       "      <td>14:00</td>\n",
       "      <td>MURINDO</td>\n",
       "      <td>RURAL</td>\n",
       "      <td>VIAS PUBLICAS</td>\n",
       "      <td>ARMA BLANCA</td>\n",
       "      <td>A PIE</td>\n",
       "      <td>A PIE</td>\n",
       "      <td>32.0</td>\n",
       "      <td>MASCULINO</td>\n",
       "      <td>UNION LIBRE</td>\n",
       "      <td>INDEPENDIENTE</td>\n",
       "      <td>NO REPORTADO</td>\n",
       "      <td>PRIMARIA</td>\n",
       "      <td>COLOMBIA</td>\n",
       "      <td>5284000.0</td>\n",
       "      <td>1983.0</td>\n",
       "      <td>15-049</td>\n",
       "      <td>kjpkqt2743@unidatos.edu.co</td>\n",
       "    </tr>\n",
       "  </tbody>\n",
       "</table>\n",
       "</div>"
      ]
     },
     "execution_count": 6,
     "metadata": {},
     "output_type": "execute_result"
    }
   ],
   "execution_count": 6
  },
  {
   "cell_type": "markdown",
   "metadata": {},
   "source": [
    "### Work with datetimes"
   ]
  },
  {
   "cell_type": "code",
   "metadata": {
    "ExecuteTime": {
     "end_time": "2024-09-06T00:03:57.894618Z",
     "start_time": "2024-09-06T00:03:57.879617Z"
    }
   },
   "source": [
    "# Creating a lambda expression for datetime parsing\n",
    "dateparse = lambda x: datetime.strptime(x, \"%m/%d/%Y %H:%M:%S %p\")"
   ],
   "outputs": [],
   "execution_count": 7
  },
  {
   "cell_type": "code",
   "metadata": {
    "ExecuteTime": {
     "end_time": "2024-09-06T00:04:31.161618Z",
     "start_time": "2024-09-06T00:04:31.133621Z"
    }
   },
   "source": [
    "# Applying the validation to all values in the column\n",
    "homicides_df[\"FECHA\"].apply(dateparse)\n",
    "\n",
    "# IT IS EXPECTED TO HAVE AN ERROR BECAUSE SOME VALUES DOESN'T FIT THE FORMAT"
   ],
   "outputs": [
    {
     "ename": "ValueError",
     "evalue": "time data '13/12/2021 12:00:00 AM' does not match format '%m/%d/%Y %H:%M:%S %p'",
     "output_type": "error",
     "traceback": [
      "\u001B[1;31m---------------------------------------------------------------------------\u001B[0m",
      "\u001B[1;31mValueError\u001B[0m                                Traceback (most recent call last)",
      "\u001B[1;32m~\\AppData\\Local\\Temp/ipykernel_18240/988689399.py\u001B[0m in \u001B[0;36m<module>\u001B[1;34m\u001B[0m\n\u001B[0;32m      1\u001B[0m \u001B[1;31m# Applying the validation to all values in the column\u001B[0m\u001B[1;33m\u001B[0m\u001B[1;33m\u001B[0m\u001B[1;33m\u001B[0m\u001B[0m\n\u001B[1;32m----> 2\u001B[1;33m \u001B[0mhomicides_df\u001B[0m\u001B[1;33m[\u001B[0m\u001B[1;34m\"FECHA\"\u001B[0m\u001B[1;33m]\u001B[0m\u001B[1;33m.\u001B[0m\u001B[0mapply\u001B[0m\u001B[1;33m(\u001B[0m\u001B[0mdateparse\u001B[0m\u001B[1;33m)\u001B[0m\u001B[1;33m\u001B[0m\u001B[1;33m\u001B[0m\u001B[0m\n\u001B[0m\u001B[0;32m      3\u001B[0m \u001B[1;33m\u001B[0m\u001B[0m\n\u001B[0;32m      4\u001B[0m \u001B[1;31m# IT IS EXPECTED TO HAVE AN ERROR BECAUSE SOME VALUES DOESN'T FIT THE FORMAT\u001B[0m\u001B[1;33m\u001B[0m\u001B[1;33m\u001B[0m\u001B[1;33m\u001B[0m\u001B[0m\n",
      "\u001B[1;32mc:\\users\\esteban\\appdata\\local\\programs\\python\\python39\\lib\\site-packages\\pandas\\core\\series.py\u001B[0m in \u001B[0;36mapply\u001B[1;34m(self, func, convert_dtype, args, by_row, **kwargs)\u001B[0m\n\u001B[0;32m   4915\u001B[0m         \u001B[0mdtype\u001B[0m\u001B[1;33m:\u001B[0m \u001B[0mfloat64\u001B[0m\u001B[1;33m\u001B[0m\u001B[1;33m\u001B[0m\u001B[0m\n\u001B[0;32m   4916\u001B[0m         \"\"\"\n\u001B[1;32m-> 4917\u001B[1;33m         return SeriesApply(\n\u001B[0m\u001B[0;32m   4918\u001B[0m             \u001B[0mself\u001B[0m\u001B[1;33m,\u001B[0m\u001B[1;33m\u001B[0m\u001B[1;33m\u001B[0m\u001B[0m\n\u001B[0;32m   4919\u001B[0m             \u001B[0mfunc\u001B[0m\u001B[1;33m,\u001B[0m\u001B[1;33m\u001B[0m\u001B[1;33m\u001B[0m\u001B[0m\n",
      "\u001B[1;32mc:\\users\\esteban\\appdata\\local\\programs\\python\\python39\\lib\\site-packages\\pandas\\core\\apply.py\u001B[0m in \u001B[0;36mapply\u001B[1;34m(self)\u001B[0m\n\u001B[0;32m   1425\u001B[0m \u001B[1;33m\u001B[0m\u001B[0m\n\u001B[0;32m   1426\u001B[0m         \u001B[1;31m# self.func is Callable\u001B[0m\u001B[1;33m\u001B[0m\u001B[1;33m\u001B[0m\u001B[1;33m\u001B[0m\u001B[0m\n\u001B[1;32m-> 1427\u001B[1;33m         \u001B[1;32mreturn\u001B[0m \u001B[0mself\u001B[0m\u001B[1;33m.\u001B[0m\u001B[0mapply_standard\u001B[0m\u001B[1;33m(\u001B[0m\u001B[1;33m)\u001B[0m\u001B[1;33m\u001B[0m\u001B[1;33m\u001B[0m\u001B[0m\n\u001B[0m\u001B[0;32m   1428\u001B[0m \u001B[1;33m\u001B[0m\u001B[0m\n\u001B[0;32m   1429\u001B[0m     \u001B[1;32mdef\u001B[0m \u001B[0magg\u001B[0m\u001B[1;33m(\u001B[0m\u001B[0mself\u001B[0m\u001B[1;33m)\u001B[0m\u001B[1;33m:\u001B[0m\u001B[1;33m\u001B[0m\u001B[1;33m\u001B[0m\u001B[0m\n",
      "\u001B[1;32mc:\\users\\esteban\\appdata\\local\\programs\\python\\python39\\lib\\site-packages\\pandas\\core\\apply.py\u001B[0m in \u001B[0;36mapply_standard\u001B[1;34m(self)\u001B[0m\n\u001B[0;32m   1505\u001B[0m         \u001B[1;31m#  Categorical (GH51645).\u001B[0m\u001B[1;33m\u001B[0m\u001B[1;33m\u001B[0m\u001B[1;33m\u001B[0m\u001B[0m\n\u001B[0;32m   1506\u001B[0m         \u001B[0maction\u001B[0m \u001B[1;33m=\u001B[0m \u001B[1;34m\"ignore\"\u001B[0m \u001B[1;32mif\u001B[0m \u001B[0misinstance\u001B[0m\u001B[1;33m(\u001B[0m\u001B[0mobj\u001B[0m\u001B[1;33m.\u001B[0m\u001B[0mdtype\u001B[0m\u001B[1;33m,\u001B[0m \u001B[0mCategoricalDtype\u001B[0m\u001B[1;33m)\u001B[0m \u001B[1;32melse\u001B[0m \u001B[1;32mNone\u001B[0m\u001B[1;33m\u001B[0m\u001B[1;33m\u001B[0m\u001B[0m\n\u001B[1;32m-> 1507\u001B[1;33m         mapped = obj._map_values(\n\u001B[0m\u001B[0;32m   1508\u001B[0m             \u001B[0mmapper\u001B[0m\u001B[1;33m=\u001B[0m\u001B[0mcurried\u001B[0m\u001B[1;33m,\u001B[0m \u001B[0mna_action\u001B[0m\u001B[1;33m=\u001B[0m\u001B[0maction\u001B[0m\u001B[1;33m,\u001B[0m \u001B[0mconvert\u001B[0m\u001B[1;33m=\u001B[0m\u001B[0mself\u001B[0m\u001B[1;33m.\u001B[0m\u001B[0mconvert_dtype\u001B[0m\u001B[1;33m\u001B[0m\u001B[1;33m\u001B[0m\u001B[0m\n\u001B[0;32m   1509\u001B[0m         )\n",
      "\u001B[1;32mc:\\users\\esteban\\appdata\\local\\programs\\python\\python39\\lib\\site-packages\\pandas\\core\\base.py\u001B[0m in \u001B[0;36m_map_values\u001B[1;34m(self, mapper, na_action, convert)\u001B[0m\n\u001B[0;32m    919\u001B[0m             \u001B[1;32mreturn\u001B[0m \u001B[0marr\u001B[0m\u001B[1;33m.\u001B[0m\u001B[0mmap\u001B[0m\u001B[1;33m(\u001B[0m\u001B[0mmapper\u001B[0m\u001B[1;33m,\u001B[0m \u001B[0mna_action\u001B[0m\u001B[1;33m=\u001B[0m\u001B[0mna_action\u001B[0m\u001B[1;33m)\u001B[0m\u001B[1;33m\u001B[0m\u001B[1;33m\u001B[0m\u001B[0m\n\u001B[0;32m    920\u001B[0m \u001B[1;33m\u001B[0m\u001B[0m\n\u001B[1;32m--> 921\u001B[1;33m         \u001B[1;32mreturn\u001B[0m \u001B[0malgorithms\u001B[0m\u001B[1;33m.\u001B[0m\u001B[0mmap_array\u001B[0m\u001B[1;33m(\u001B[0m\u001B[0marr\u001B[0m\u001B[1;33m,\u001B[0m \u001B[0mmapper\u001B[0m\u001B[1;33m,\u001B[0m \u001B[0mna_action\u001B[0m\u001B[1;33m=\u001B[0m\u001B[0mna_action\u001B[0m\u001B[1;33m,\u001B[0m \u001B[0mconvert\u001B[0m\u001B[1;33m=\u001B[0m\u001B[0mconvert\u001B[0m\u001B[1;33m)\u001B[0m\u001B[1;33m\u001B[0m\u001B[1;33m\u001B[0m\u001B[0m\n\u001B[0m\u001B[0;32m    922\u001B[0m \u001B[1;33m\u001B[0m\u001B[0m\n\u001B[0;32m    923\u001B[0m     \u001B[1;33m@\u001B[0m\u001B[0mfinal\u001B[0m\u001B[1;33m\u001B[0m\u001B[1;33m\u001B[0m\u001B[0m\n",
      "\u001B[1;32mc:\\users\\esteban\\appdata\\local\\programs\\python\\python39\\lib\\site-packages\\pandas\\core\\algorithms.py\u001B[0m in \u001B[0;36mmap_array\u001B[1;34m(arr, mapper, na_action, convert)\u001B[0m\n\u001B[0;32m   1741\u001B[0m     \u001B[0mvalues\u001B[0m \u001B[1;33m=\u001B[0m \u001B[0marr\u001B[0m\u001B[1;33m.\u001B[0m\u001B[0mastype\u001B[0m\u001B[1;33m(\u001B[0m\u001B[0mobject\u001B[0m\u001B[1;33m,\u001B[0m \u001B[0mcopy\u001B[0m\u001B[1;33m=\u001B[0m\u001B[1;32mFalse\u001B[0m\u001B[1;33m)\u001B[0m\u001B[1;33m\u001B[0m\u001B[1;33m\u001B[0m\u001B[0m\n\u001B[0;32m   1742\u001B[0m     \u001B[1;32mif\u001B[0m \u001B[0mna_action\u001B[0m \u001B[1;32mis\u001B[0m \u001B[1;32mNone\u001B[0m\u001B[1;33m:\u001B[0m\u001B[1;33m\u001B[0m\u001B[1;33m\u001B[0m\u001B[0m\n\u001B[1;32m-> 1743\u001B[1;33m         \u001B[1;32mreturn\u001B[0m \u001B[0mlib\u001B[0m\u001B[1;33m.\u001B[0m\u001B[0mmap_infer\u001B[0m\u001B[1;33m(\u001B[0m\u001B[0mvalues\u001B[0m\u001B[1;33m,\u001B[0m \u001B[0mmapper\u001B[0m\u001B[1;33m,\u001B[0m \u001B[0mconvert\u001B[0m\u001B[1;33m=\u001B[0m\u001B[0mconvert\u001B[0m\u001B[1;33m)\u001B[0m\u001B[1;33m\u001B[0m\u001B[1;33m\u001B[0m\u001B[0m\n\u001B[0m\u001B[0;32m   1744\u001B[0m     \u001B[1;32melse\u001B[0m\u001B[1;33m:\u001B[0m\u001B[1;33m\u001B[0m\u001B[1;33m\u001B[0m\u001B[0m\n\u001B[0;32m   1745\u001B[0m         return lib.map_infer_mask(\n",
      "\u001B[1;32mlib.pyx\u001B[0m in \u001B[0;36mpandas._libs.lib.map_infer\u001B[1;34m()\u001B[0m\n",
      "\u001B[1;32m~\\AppData\\Local\\Temp/ipykernel_18240/4142293159.py\u001B[0m in \u001B[0;36m<lambda>\u001B[1;34m(x)\u001B[0m\n\u001B[0;32m      1\u001B[0m \u001B[1;31m# Creating a lambda expression for datetime parsing\u001B[0m\u001B[1;33m\u001B[0m\u001B[1;33m\u001B[0m\u001B[1;33m\u001B[0m\u001B[0m\n\u001B[1;32m----> 2\u001B[1;33m \u001B[0mdateparse\u001B[0m \u001B[1;33m=\u001B[0m \u001B[1;32mlambda\u001B[0m \u001B[0mx\u001B[0m\u001B[1;33m:\u001B[0m \u001B[0mdatetime\u001B[0m\u001B[1;33m.\u001B[0m\u001B[0mstrptime\u001B[0m\u001B[1;33m(\u001B[0m\u001B[0mx\u001B[0m\u001B[1;33m,\u001B[0m \u001B[1;34m\"%m/%d/%Y %H:%M:%S %p\"\u001B[0m\u001B[1;33m)\u001B[0m\u001B[1;33m\u001B[0m\u001B[1;33m\u001B[0m\u001B[0m\n\u001B[0m",
      "\u001B[1;32mc:\\users\\esteban\\appdata\\local\\programs\\python\\python39\\lib\\_strptime.py\u001B[0m in \u001B[0;36m_strptime_datetime\u001B[1;34m(cls, data_string, format)\u001B[0m\n\u001B[0;32m    566\u001B[0m     \"\"\"Return a class cls instance based on the input string and the\n\u001B[0;32m    567\u001B[0m     format string.\"\"\"\n\u001B[1;32m--> 568\u001B[1;33m     \u001B[0mtt\u001B[0m\u001B[1;33m,\u001B[0m \u001B[0mfraction\u001B[0m\u001B[1;33m,\u001B[0m \u001B[0mgmtoff_fraction\u001B[0m \u001B[1;33m=\u001B[0m \u001B[0m_strptime\u001B[0m\u001B[1;33m(\u001B[0m\u001B[0mdata_string\u001B[0m\u001B[1;33m,\u001B[0m \u001B[0mformat\u001B[0m\u001B[1;33m)\u001B[0m\u001B[1;33m\u001B[0m\u001B[1;33m\u001B[0m\u001B[0m\n\u001B[0m\u001B[0;32m    569\u001B[0m     \u001B[0mtzname\u001B[0m\u001B[1;33m,\u001B[0m \u001B[0mgmtoff\u001B[0m \u001B[1;33m=\u001B[0m \u001B[0mtt\u001B[0m\u001B[1;33m[\u001B[0m\u001B[1;33m-\u001B[0m\u001B[1;36m2\u001B[0m\u001B[1;33m:\u001B[0m\u001B[1;33m]\u001B[0m\u001B[1;33m\u001B[0m\u001B[1;33m\u001B[0m\u001B[0m\n\u001B[0;32m    570\u001B[0m     \u001B[0margs\u001B[0m \u001B[1;33m=\u001B[0m \u001B[0mtt\u001B[0m\u001B[1;33m[\u001B[0m\u001B[1;33m:\u001B[0m\u001B[1;36m6\u001B[0m\u001B[1;33m]\u001B[0m \u001B[1;33m+\u001B[0m \u001B[1;33m(\u001B[0m\u001B[0mfraction\u001B[0m\u001B[1;33m,\u001B[0m\u001B[1;33m)\u001B[0m\u001B[1;33m\u001B[0m\u001B[1;33m\u001B[0m\u001B[0m\n",
      "\u001B[1;32mc:\\users\\esteban\\appdata\\local\\programs\\python\\python39\\lib\\_strptime.py\u001B[0m in \u001B[0;36m_strptime\u001B[1;34m(data_string, format)\u001B[0m\n\u001B[0;32m    347\u001B[0m     \u001B[0mfound\u001B[0m \u001B[1;33m=\u001B[0m \u001B[0mformat_regex\u001B[0m\u001B[1;33m.\u001B[0m\u001B[0mmatch\u001B[0m\u001B[1;33m(\u001B[0m\u001B[0mdata_string\u001B[0m\u001B[1;33m)\u001B[0m\u001B[1;33m\u001B[0m\u001B[1;33m\u001B[0m\u001B[0m\n\u001B[0;32m    348\u001B[0m     \u001B[1;32mif\u001B[0m \u001B[1;32mnot\u001B[0m \u001B[0mfound\u001B[0m\u001B[1;33m:\u001B[0m\u001B[1;33m\u001B[0m\u001B[1;33m\u001B[0m\u001B[0m\n\u001B[1;32m--> 349\u001B[1;33m         raise ValueError(\"time data %r does not match format %r\" %\n\u001B[0m\u001B[0;32m    350\u001B[0m                          (data_string, format))\n\u001B[0;32m    351\u001B[0m     \u001B[1;32mif\u001B[0m \u001B[0mlen\u001B[0m\u001B[1;33m(\u001B[0m\u001B[0mdata_string\u001B[0m\u001B[1;33m)\u001B[0m \u001B[1;33m!=\u001B[0m \u001B[0mfound\u001B[0m\u001B[1;33m.\u001B[0m\u001B[0mend\u001B[0m\u001B[1;33m(\u001B[0m\u001B[1;33m)\u001B[0m\u001B[1;33m:\u001B[0m\u001B[1;33m\u001B[0m\u001B[1;33m\u001B[0m\u001B[0m\n",
      "\u001B[1;31mValueError\u001B[0m: time data '13/12/2021 12:00:00 AM' does not match format '%m/%d/%Y %H:%M:%S %p'"
     ]
    }
   ],
   "execution_count": 11
  },
  {
   "cell_type": "code",
   "metadata": {
    "ExecuteTime": {
     "end_time": "2024-09-06T00:04:21.890277Z",
     "start_time": "2024-09-06T00:04:21.872278Z"
    }
   },
   "source": [
    "# Creating a function for validating which value is causing the previous error\n",
    "def error_in_format(x):\n",
    "    try:\n",
    "        datetime.strptime(x, \"%m/%d/%Y %H:%M:%S %p\")\n",
    "        return False\n",
    "    except:\n",
    "        return True"
   ],
   "outputs": [],
   "execution_count": 9
  },
  {
   "cell_type": "code",
   "metadata": {
    "ExecuteTime": {
     "end_time": "2024-09-06T00:04:27.930138Z",
     "start_time": "2024-09-06T00:04:27.834140Z"
    }
   },
   "source": [
    "# Using the function for validation\n",
    "homicides_df.loc[homicides_df[\"FECHA\"].apply(error_in_format)]"
   ],
   "outputs": [
    {
     "data": {
      "text/plain": [
       "                        FECHA DEPARTAMENTO       MUNICIPIO      DIA   HORA  \\\n",
       "486    13/12/2021 12:00:00 AM        VALLE       CALI (CT)    kunes  23:00   \n",
       "695    30/01/2021 12:00:00 AM      BOLÍVAR  CARTAGENA (CT)    Lunes   5:30   \n",
       "1250   18/05/2021 12:00:00 AM        HUILA         TESALIA   Jueves  19:30   \n",
       "12168  12/25/2021 12:00:00 MM        VALLE         PALMIRA  Viernes  15:30   \n",
       "12399                   TOTAL          NaN             NaN      NaN    NaN   \n",
       "\n",
       "                BARRIO    ZONA       CLASE DE SITIO   ARMA O MEDIO  \\\n",
       "486         MOJICA E15  URBANA        VIAS PUBLICAS  ARMA DE FUEGO   \n",
       "695    REP. DEL LIBANO  URBANA        VIAS PUBLICAS    ARMA BLANCA   \n",
       "1250    VEREDA PACARNI   RURAL  CASAS DE HABITACION  ARMA DE FUEGO   \n",
       "12168        LA EMILIA  URBANA        VIAS PUBLICAS  ARMA DE FUEGO   \n",
       "12399              NaN     NaN                  NaN            NaN   \n",
       "\n",
       "      MOVIL VICTIMA          MOVIL AGRESOR  EDAD     GENERO ESTADO CIVIL  \\\n",
       "486           A PIE                  A PIE  26.0  MASCULINO      SOLTERO   \n",
       "695    NO REPORTADO                  A PIE  25.0  MASCULINO      SOLTERO   \n",
       "1250          A PIE                  A PIE  34.0   FEMENINO      SOLTERO   \n",
       "12168         A PIE  CONDUCTOR MOTOCICLETA  17.0  MASCULINO      SOLTERO   \n",
       "12399           NaN                    NaN   NaN        NaN          NaN   \n",
       "\n",
       "            CLASE EMPLEADO     PROFESION ESCOLARIDAD PAIS NACE  CODIGO DANE  \\\n",
       "486          INDEPENDIENTE  NO REPORTADO  SECUNDARIA  COLOMBIA   76001000.0   \n",
       "695    EMPLEADO PARTICULAR  NO REPORTADO  SECUNDARIA  COLOMBIA   13001000.0   \n",
       "1250            AGRICULTOR  NO REPORTADO    PRIMARIA  COLOMBIA   41797000.0   \n",
       "12168  EMPLEADO PARTICULAR  NO REPORTADO  SECUNDARIA  COLOMBIA   76520000.0   \n",
       "12399                  NaN           NaN         NaN       NaN          NaN   \n",
       "\n",
       "       AÑO DE NACIMIENTO  CÉDULA                      CORREO  \n",
       "486                 89.0  80-330        lujhdf9132@gmail.com  \n",
       "695               1990.0  12-915  ghumtg4094@unidatos.edu.co  \n",
       "1250              1981.0  99-095        sdaggf6639@gmail.com  \n",
       "12168             1998.0  16-362        uschca1775@gmail.com  \n",
       "12399                NaN     NaN                         NaN  "
      ],
      "text/html": [
       "<div>\n",
       "<style scoped>\n",
       "    .dataframe tbody tr th:only-of-type {\n",
       "        vertical-align: middle;\n",
       "    }\n",
       "\n",
       "    .dataframe tbody tr th {\n",
       "        vertical-align: top;\n",
       "    }\n",
       "\n",
       "    .dataframe thead th {\n",
       "        text-align: right;\n",
       "    }\n",
       "</style>\n",
       "<table border=\"1\" class=\"dataframe\">\n",
       "  <thead>\n",
       "    <tr style=\"text-align: right;\">\n",
       "      <th></th>\n",
       "      <th>FECHA</th>\n",
       "      <th>DEPARTAMENTO</th>\n",
       "      <th>MUNICIPIO</th>\n",
       "      <th>DIA</th>\n",
       "      <th>HORA</th>\n",
       "      <th>BARRIO</th>\n",
       "      <th>ZONA</th>\n",
       "      <th>CLASE DE SITIO</th>\n",
       "      <th>ARMA O MEDIO</th>\n",
       "      <th>MOVIL VICTIMA</th>\n",
       "      <th>MOVIL AGRESOR</th>\n",
       "      <th>EDAD</th>\n",
       "      <th>GENERO</th>\n",
       "      <th>ESTADO CIVIL</th>\n",
       "      <th>CLASE EMPLEADO</th>\n",
       "      <th>PROFESION</th>\n",
       "      <th>ESCOLARIDAD</th>\n",
       "      <th>PAIS NACE</th>\n",
       "      <th>CODIGO DANE</th>\n",
       "      <th>AÑO DE NACIMIENTO</th>\n",
       "      <th>CÉDULA</th>\n",
       "      <th>CORREO</th>\n",
       "    </tr>\n",
       "  </thead>\n",
       "  <tbody>\n",
       "    <tr>\n",
       "      <th>486</th>\n",
       "      <td>13/12/2021 12:00:00 AM</td>\n",
       "      <td>VALLE</td>\n",
       "      <td>CALI (CT)</td>\n",
       "      <td>kunes</td>\n",
       "      <td>23:00</td>\n",
       "      <td>MOJICA E15</td>\n",
       "      <td>URBANA</td>\n",
       "      <td>VIAS PUBLICAS</td>\n",
       "      <td>ARMA DE FUEGO</td>\n",
       "      <td>A PIE</td>\n",
       "      <td>A PIE</td>\n",
       "      <td>26.0</td>\n",
       "      <td>MASCULINO</td>\n",
       "      <td>SOLTERO</td>\n",
       "      <td>INDEPENDIENTE</td>\n",
       "      <td>NO REPORTADO</td>\n",
       "      <td>SECUNDARIA</td>\n",
       "      <td>COLOMBIA</td>\n",
       "      <td>76001000.0</td>\n",
       "      <td>89.0</td>\n",
       "      <td>80-330</td>\n",
       "      <td>lujhdf9132@gmail.com</td>\n",
       "    </tr>\n",
       "    <tr>\n",
       "      <th>695</th>\n",
       "      <td>30/01/2021 12:00:00 AM</td>\n",
       "      <td>BOLÍVAR</td>\n",
       "      <td>CARTAGENA (CT)</td>\n",
       "      <td>Lunes</td>\n",
       "      <td>5:30</td>\n",
       "      <td>REP. DEL LIBANO</td>\n",
       "      <td>URBANA</td>\n",
       "      <td>VIAS PUBLICAS</td>\n",
       "      <td>ARMA BLANCA</td>\n",
       "      <td>NO REPORTADO</td>\n",
       "      <td>A PIE</td>\n",
       "      <td>25.0</td>\n",
       "      <td>MASCULINO</td>\n",
       "      <td>SOLTERO</td>\n",
       "      <td>EMPLEADO PARTICULAR</td>\n",
       "      <td>NO REPORTADO</td>\n",
       "      <td>SECUNDARIA</td>\n",
       "      <td>COLOMBIA</td>\n",
       "      <td>13001000.0</td>\n",
       "      <td>1990.0</td>\n",
       "      <td>12-915</td>\n",
       "      <td>ghumtg4094@unidatos.edu.co</td>\n",
       "    </tr>\n",
       "    <tr>\n",
       "      <th>1250</th>\n",
       "      <td>18/05/2021 12:00:00 AM</td>\n",
       "      <td>HUILA</td>\n",
       "      <td>TESALIA</td>\n",
       "      <td>Jueves</td>\n",
       "      <td>19:30</td>\n",
       "      <td>VEREDA PACARNI</td>\n",
       "      <td>RURAL</td>\n",
       "      <td>CASAS DE HABITACION</td>\n",
       "      <td>ARMA DE FUEGO</td>\n",
       "      <td>A PIE</td>\n",
       "      <td>A PIE</td>\n",
       "      <td>34.0</td>\n",
       "      <td>FEMENINO</td>\n",
       "      <td>SOLTERO</td>\n",
       "      <td>AGRICULTOR</td>\n",
       "      <td>NO REPORTADO</td>\n",
       "      <td>PRIMARIA</td>\n",
       "      <td>COLOMBIA</td>\n",
       "      <td>41797000.0</td>\n",
       "      <td>1981.0</td>\n",
       "      <td>99-095</td>\n",
       "      <td>sdaggf6639@gmail.com</td>\n",
       "    </tr>\n",
       "    <tr>\n",
       "      <th>12168</th>\n",
       "      <td>12/25/2021 12:00:00 MM</td>\n",
       "      <td>VALLE</td>\n",
       "      <td>PALMIRA</td>\n",
       "      <td>Viernes</td>\n",
       "      <td>15:30</td>\n",
       "      <td>LA EMILIA</td>\n",
       "      <td>URBANA</td>\n",
       "      <td>VIAS PUBLICAS</td>\n",
       "      <td>ARMA DE FUEGO</td>\n",
       "      <td>A PIE</td>\n",
       "      <td>CONDUCTOR MOTOCICLETA</td>\n",
       "      <td>17.0</td>\n",
       "      <td>MASCULINO</td>\n",
       "      <td>SOLTERO</td>\n",
       "      <td>EMPLEADO PARTICULAR</td>\n",
       "      <td>NO REPORTADO</td>\n",
       "      <td>SECUNDARIA</td>\n",
       "      <td>COLOMBIA</td>\n",
       "      <td>76520000.0</td>\n",
       "      <td>1998.0</td>\n",
       "      <td>16-362</td>\n",
       "      <td>uschca1775@gmail.com</td>\n",
       "    </tr>\n",
       "    <tr>\n",
       "      <th>12399</th>\n",
       "      <td>TOTAL</td>\n",
       "      <td>NaN</td>\n",
       "      <td>NaN</td>\n",
       "      <td>NaN</td>\n",
       "      <td>NaN</td>\n",
       "      <td>NaN</td>\n",
       "      <td>NaN</td>\n",
       "      <td>NaN</td>\n",
       "      <td>NaN</td>\n",
       "      <td>NaN</td>\n",
       "      <td>NaN</td>\n",
       "      <td>NaN</td>\n",
       "      <td>NaN</td>\n",
       "      <td>NaN</td>\n",
       "      <td>NaN</td>\n",
       "      <td>NaN</td>\n",
       "      <td>NaN</td>\n",
       "      <td>NaN</td>\n",
       "      <td>NaN</td>\n",
       "      <td>NaN</td>\n",
       "      <td>NaN</td>\n",
       "      <td>NaN</td>\n",
       "    </tr>\n",
       "  </tbody>\n",
       "</table>\n",
       "</div>"
      ]
     },
     "execution_count": 10,
     "metadata": {},
     "output_type": "execute_result"
    }
   ],
   "execution_count": 10
  },
  {
   "cell_type": "code",
   "metadata": {
    "ExecuteTime": {
     "end_time": "2024-09-06T00:06:40.887703Z",
     "start_time": "2024-09-06T00:06:40.870702Z"
    }
   },
   "source": [
    "# Deleting a row by its index\n",
    "homicides_df.drop([486, 695, 1250, 12168, 12399], inplace=True)"
   ],
   "outputs": [],
   "execution_count": 12
  },
  {
   "metadata": {},
   "cell_type": "code",
   "outputs": [],
   "execution_count": null,
   "source": ""
  },
  {
   "cell_type": "code",
   "metadata": {
    "ExecuteTime": {
     "end_time": "2024-09-06T00:06:44.503244Z",
     "start_time": "2024-09-06T00:06:44.409243Z"
    }
   },
   "source": [
    "# Trying to parse the datetime string again\n",
    "homicides_df[\"FECHA\"] = homicides_df[\"FECHA\"].apply(dateparse)"
   ],
   "outputs": [],
   "execution_count": 13
  },
  {
   "cell_type": "code",
   "metadata": {
    "ExecuteTime": {
     "end_time": "2024-09-06T00:06:45.917257Z",
     "start_time": "2024-09-06T00:06:45.904257Z"
    }
   },
   "source": [
    "homicides_df.dtypes"
   ],
   "outputs": [
    {
     "data": {
      "text/plain": [
       "FECHA                datetime64[ns]\n",
       "DEPARTAMENTO                 object\n",
       "MUNICIPIO                    object\n",
       "DIA                          object\n",
       "HORA                         object\n",
       "BARRIO                       object\n",
       "ZONA                         object\n",
       "CLASE DE SITIO               object\n",
       "ARMA O MEDIO                 object\n",
       "MOVIL VICTIMA                object\n",
       "MOVIL AGRESOR                object\n",
       "EDAD                        float64\n",
       "GENERO                       object\n",
       "ESTADO CIVIL                 object\n",
       "CLASE EMPLEADO               object\n",
       "PROFESION                    object\n",
       "ESCOLARIDAD                  object\n",
       "PAIS NACE                    object\n",
       "CODIGO DANE                 float64\n",
       "AÑO DE NACIMIENTO           float64\n",
       "CÉDULA                       object\n",
       "CORREO                       object\n",
       "dtype: object"
      ]
     },
     "execution_count": 14,
     "metadata": {},
     "output_type": "execute_result"
    }
   ],
   "execution_count": 14
  },
  {
   "cell_type": "code",
   "metadata": {
    "ExecuteTime": {
     "end_time": "2024-09-06T00:06:52.770084Z",
     "start_time": "2024-09-06T00:06:52.758083Z"
    }
   },
   "source": [
    "# Counting homicides by hour\n",
    "homicides_df[\"FECHA\"].dt.hour.value_counts()\n",
    "\n",
    "# All datetime hour parts are the same"
   ],
   "outputs": [
    {
     "data": {
      "text/plain": [
       "FECHA\n",
       "12    12395\n",
       "Name: count, dtype: int64"
      ]
     },
     "execution_count": 15,
     "metadata": {},
     "output_type": "execute_result"
    }
   ],
   "execution_count": 15
  },
  {
   "cell_type": "markdown",
   "metadata": {},
   "source": [
    "<span style=\"color:red\">The homicide hour is available in a different column!</span>"
   ]
  },
  {
   "cell_type": "code",
   "metadata": {
    "ExecuteTime": {
     "end_time": "2024-09-06T00:06:59.459662Z",
     "start_time": "2024-09-06T00:06:59.442033Z"
    }
   },
   "source": [
    "# Merging both columns\n",
    "homicides_df[\"FECHA\"] = homicides_df[\"FECHA\"].astype(str).apply(lambda x: x[:11]) + homicides_df[\"HORA\"]"
   ],
   "outputs": [],
   "execution_count": 16
  },
  {
   "cell_type": "code",
   "metadata": {
    "ExecuteTime": {
     "end_time": "2024-09-06T00:07:01.260022Z",
     "start_time": "2024-09-06T00:07:01.248021Z"
    }
   },
   "source": [
    "# Deleting redundant column\n",
    "homicides_df.drop(columns=[\"HORA\"], inplace=True)"
   ],
   "outputs": [],
   "execution_count": 17
  },
  {
   "cell_type": "code",
   "metadata": {
    "ExecuteTime": {
     "end_time": "2024-09-06T00:07:02.460020Z",
     "start_time": "2024-09-06T00:07:02.446021Z"
    }
   },
   "source": [
    "# Making a new expression for datetime parsing\n",
    "dateparse = lambda x: datetime.strptime(x, \"%Y-%m-%d %H:%M\")"
   ],
   "outputs": [],
   "execution_count": 18
  },
  {
   "cell_type": "code",
   "metadata": {
    "ExecuteTime": {
     "end_time": "2024-09-06T00:07:03.645052Z",
     "start_time": "2024-09-06T00:07:03.523021Z"
    }
   },
   "source": [
    "# Applying the expression\n",
    "homicides_df[\"FECHA\"] = homicides_df[\"FECHA\"].apply(dateparse)"
   ],
   "outputs": [],
   "execution_count": 19
  },
  {
   "cell_type": "code",
   "metadata": {
    "ExecuteTime": {
     "end_time": "2024-09-06T00:07:05.277851Z",
     "start_time": "2024-09-06T00:07:05.270851Z"
    }
   },
   "source": [
    "homicides_df.dtypes"
   ],
   "outputs": [
    {
     "data": {
      "text/plain": [
       "FECHA                datetime64[ns]\n",
       "DEPARTAMENTO                 object\n",
       "MUNICIPIO                    object\n",
       "DIA                          object\n",
       "BARRIO                       object\n",
       "ZONA                         object\n",
       "CLASE DE SITIO               object\n",
       "ARMA O MEDIO                 object\n",
       "MOVIL VICTIMA                object\n",
       "MOVIL AGRESOR                object\n",
       "EDAD                        float64\n",
       "GENERO                       object\n",
       "ESTADO CIVIL                 object\n",
       "CLASE EMPLEADO               object\n",
       "PROFESION                    object\n",
       "ESCOLARIDAD                  object\n",
       "PAIS NACE                    object\n",
       "CODIGO DANE                 float64\n",
       "AÑO DE NACIMIENTO           float64\n",
       "CÉDULA                       object\n",
       "CORREO                       object\n",
       "dtype: object"
      ]
     },
     "execution_count": 20,
     "metadata": {},
     "output_type": "execute_result"
    }
   ],
   "execution_count": 20
  },
  {
   "cell_type": "code",
   "metadata": {
    "ExecuteTime": {
     "end_time": "2024-09-06T00:07:06.645866Z",
     "start_time": "2024-09-06T00:07:06.624866Z"
    }
   },
   "source": [
    "homicides_df.sample(5)"
   ],
   "outputs": [
    {
     "data": {
      "text/plain": [
       "                   FECHA  DEPARTAMENTO         MUNICIPIO        DIA  \\\n",
       "6250 2021-07-04 10:45:00  CUNDINAMARCA  BOGOTÁ D.C. (CT)     Sábado   \n",
       "2852 2021-03-28 08:09:00  CUNDINAMARCA  BOGOTÁ D.C. (CT)     Sabadi   \n",
       "7842 2021-08-21 19:50:00          META           GRANADA    Viernes   \n",
       "8353 2021-09-06 02:00:00       CAQUETÁ    FLORENCIA (CT)    Domingo   \n",
       "2051 2021-03-04 22:40:00     SANTANDER   BARRANCABERMEJA  Miércoles   \n",
       "\n",
       "                               BARRIO    ZONA       CLASE DE SITIO  \\\n",
       "6250  NACIONES UNIDAS ENO REPORTADO19  URBANA        VIAS PUBLICAS   \n",
       "2852     SANTA ISABEL ENO REPORTADO14  URBANA  CASAS DE HABITACION   \n",
       "7842                VILLAS DE GRANADA  URBANA  CASAS DE HABITACION   \n",
       "8353                       JUAN XXIII  URBANA           HOSPITALES   \n",
       "2051                       SAN MARTIN  URBANA        VIAS PUBLICAS   \n",
       "\n",
       "       ARMA O MEDIO MOVIL VICTIMA         MOVIL AGRESOR  EDAD     GENERO  \\\n",
       "6250  ARMA DE FUEGO         A PIE                 A PIE  31.0  MASCULINO   \n",
       "2852  ARMA DE FUEGO         A PIE                 A PIE  50.0  MASCULINO   \n",
       "7842  ARMA DE FUEGO         A PIE                 A PIE  35.0  MASCULINO   \n",
       "8353  ARMA DE FUEGO         A PIE                 A PIE  30.0  MASCULINO   \n",
       "2051  ARMA DE FUEGO         A PIE  PASAJERO MOTOCICLETA  18.0  MASCULINO   \n",
       "\n",
       "     ESTADO CIVIL       CLASE EMPLEADO     PROFESION ESCOLARIDAD PAIS NACE  \\\n",
       "6250      SOLTERO        INDEPENDIENTE  NO REPORTADO  SECUNDARIA  COLOMBIA   \n",
       "2852       CASADO  EMPLEADO PARTICULAR  NO REPORTADO    SUPERIOR  COLOMBIA   \n",
       "7842  UNION LIBRE  EMPLEADO PARTICULAR  NO REPORTADO    PRIMARIA  COLOMBIA   \n",
       "8353  UNION LIBRE        INDEPENDIENTE  NO REPORTADO    PRIMARIA  COLOMBIA   \n",
       "2051      SOLTERO  EMPLEADO PARTICULAR  NO REPORTADO    PRIMARIA  COLOMBIA   \n",
       "\n",
       "      CODIGO DANE  AÑO DE NACIMIENTO  CÉDULA                      CORREO  \n",
       "6250   11001000.0             1984.0  68-879  dgppnd5070@unidatos.edu.co  \n",
       "2852   11001000.0             1965.0  52-537        cllnnd2811@gmail.com  \n",
       "7842   50313000.0             1980.0  17-939   correo439@unidatos.edu.co  \n",
       "8353   18001000.0             1985.0  96-957  hahhpk1003@unidatos.edu.co  \n",
       "2051   68081000.0             1997.0  71-054        mcahtg2668@gmail.com  "
      ],
      "text/html": [
       "<div>\n",
       "<style scoped>\n",
       "    .dataframe tbody tr th:only-of-type {\n",
       "        vertical-align: middle;\n",
       "    }\n",
       "\n",
       "    .dataframe tbody tr th {\n",
       "        vertical-align: top;\n",
       "    }\n",
       "\n",
       "    .dataframe thead th {\n",
       "        text-align: right;\n",
       "    }\n",
       "</style>\n",
       "<table border=\"1\" class=\"dataframe\">\n",
       "  <thead>\n",
       "    <tr style=\"text-align: right;\">\n",
       "      <th></th>\n",
       "      <th>FECHA</th>\n",
       "      <th>DEPARTAMENTO</th>\n",
       "      <th>MUNICIPIO</th>\n",
       "      <th>DIA</th>\n",
       "      <th>BARRIO</th>\n",
       "      <th>ZONA</th>\n",
       "      <th>CLASE DE SITIO</th>\n",
       "      <th>ARMA O MEDIO</th>\n",
       "      <th>MOVIL VICTIMA</th>\n",
       "      <th>MOVIL AGRESOR</th>\n",
       "      <th>EDAD</th>\n",
       "      <th>GENERO</th>\n",
       "      <th>ESTADO CIVIL</th>\n",
       "      <th>CLASE EMPLEADO</th>\n",
       "      <th>PROFESION</th>\n",
       "      <th>ESCOLARIDAD</th>\n",
       "      <th>PAIS NACE</th>\n",
       "      <th>CODIGO DANE</th>\n",
       "      <th>AÑO DE NACIMIENTO</th>\n",
       "      <th>CÉDULA</th>\n",
       "      <th>CORREO</th>\n",
       "    </tr>\n",
       "  </thead>\n",
       "  <tbody>\n",
       "    <tr>\n",
       "      <th>6250</th>\n",
       "      <td>2021-07-04 10:45:00</td>\n",
       "      <td>CUNDINAMARCA</td>\n",
       "      <td>BOGOTÁ D.C. (CT)</td>\n",
       "      <td>Sábado</td>\n",
       "      <td>NACIONES UNIDAS ENO REPORTADO19</td>\n",
       "      <td>URBANA</td>\n",
       "      <td>VIAS PUBLICAS</td>\n",
       "      <td>ARMA DE FUEGO</td>\n",
       "      <td>A PIE</td>\n",
       "      <td>A PIE</td>\n",
       "      <td>31.0</td>\n",
       "      <td>MASCULINO</td>\n",
       "      <td>SOLTERO</td>\n",
       "      <td>INDEPENDIENTE</td>\n",
       "      <td>NO REPORTADO</td>\n",
       "      <td>SECUNDARIA</td>\n",
       "      <td>COLOMBIA</td>\n",
       "      <td>11001000.0</td>\n",
       "      <td>1984.0</td>\n",
       "      <td>68-879</td>\n",
       "      <td>dgppnd5070@unidatos.edu.co</td>\n",
       "    </tr>\n",
       "    <tr>\n",
       "      <th>2852</th>\n",
       "      <td>2021-03-28 08:09:00</td>\n",
       "      <td>CUNDINAMARCA</td>\n",
       "      <td>BOGOTÁ D.C. (CT)</td>\n",
       "      <td>Sabadi</td>\n",
       "      <td>SANTA ISABEL ENO REPORTADO14</td>\n",
       "      <td>URBANA</td>\n",
       "      <td>CASAS DE HABITACION</td>\n",
       "      <td>ARMA DE FUEGO</td>\n",
       "      <td>A PIE</td>\n",
       "      <td>A PIE</td>\n",
       "      <td>50.0</td>\n",
       "      <td>MASCULINO</td>\n",
       "      <td>CASADO</td>\n",
       "      <td>EMPLEADO PARTICULAR</td>\n",
       "      <td>NO REPORTADO</td>\n",
       "      <td>SUPERIOR</td>\n",
       "      <td>COLOMBIA</td>\n",
       "      <td>11001000.0</td>\n",
       "      <td>1965.0</td>\n",
       "      <td>52-537</td>\n",
       "      <td>cllnnd2811@gmail.com</td>\n",
       "    </tr>\n",
       "    <tr>\n",
       "      <th>7842</th>\n",
       "      <td>2021-08-21 19:50:00</td>\n",
       "      <td>META</td>\n",
       "      <td>GRANADA</td>\n",
       "      <td>Viernes</td>\n",
       "      <td>VILLAS DE GRANADA</td>\n",
       "      <td>URBANA</td>\n",
       "      <td>CASAS DE HABITACION</td>\n",
       "      <td>ARMA DE FUEGO</td>\n",
       "      <td>A PIE</td>\n",
       "      <td>A PIE</td>\n",
       "      <td>35.0</td>\n",
       "      <td>MASCULINO</td>\n",
       "      <td>UNION LIBRE</td>\n",
       "      <td>EMPLEADO PARTICULAR</td>\n",
       "      <td>NO REPORTADO</td>\n",
       "      <td>PRIMARIA</td>\n",
       "      <td>COLOMBIA</td>\n",
       "      <td>50313000.0</td>\n",
       "      <td>1980.0</td>\n",
       "      <td>17-939</td>\n",
       "      <td>correo439@unidatos.edu.co</td>\n",
       "    </tr>\n",
       "    <tr>\n",
       "      <th>8353</th>\n",
       "      <td>2021-09-06 02:00:00</td>\n",
       "      <td>CAQUETÁ</td>\n",
       "      <td>FLORENCIA (CT)</td>\n",
       "      <td>Domingo</td>\n",
       "      <td>JUAN XXIII</td>\n",
       "      <td>URBANA</td>\n",
       "      <td>HOSPITALES</td>\n",
       "      <td>ARMA DE FUEGO</td>\n",
       "      <td>A PIE</td>\n",
       "      <td>A PIE</td>\n",
       "      <td>30.0</td>\n",
       "      <td>MASCULINO</td>\n",
       "      <td>UNION LIBRE</td>\n",
       "      <td>INDEPENDIENTE</td>\n",
       "      <td>NO REPORTADO</td>\n",
       "      <td>PRIMARIA</td>\n",
       "      <td>COLOMBIA</td>\n",
       "      <td>18001000.0</td>\n",
       "      <td>1985.0</td>\n",
       "      <td>96-957</td>\n",
       "      <td>hahhpk1003@unidatos.edu.co</td>\n",
       "    </tr>\n",
       "    <tr>\n",
       "      <th>2051</th>\n",
       "      <td>2021-03-04 22:40:00</td>\n",
       "      <td>SANTANDER</td>\n",
       "      <td>BARRANCABERMEJA</td>\n",
       "      <td>Miércoles</td>\n",
       "      <td>SAN MARTIN</td>\n",
       "      <td>URBANA</td>\n",
       "      <td>VIAS PUBLICAS</td>\n",
       "      <td>ARMA DE FUEGO</td>\n",
       "      <td>A PIE</td>\n",
       "      <td>PASAJERO MOTOCICLETA</td>\n",
       "      <td>18.0</td>\n",
       "      <td>MASCULINO</td>\n",
       "      <td>SOLTERO</td>\n",
       "      <td>EMPLEADO PARTICULAR</td>\n",
       "      <td>NO REPORTADO</td>\n",
       "      <td>PRIMARIA</td>\n",
       "      <td>COLOMBIA</td>\n",
       "      <td>68081000.0</td>\n",
       "      <td>1997.0</td>\n",
       "      <td>71-054</td>\n",
       "      <td>mcahtg2668@gmail.com</td>\n",
       "    </tr>\n",
       "  </tbody>\n",
       "</table>\n",
       "</div>"
      ]
     },
     "execution_count": 21,
     "metadata": {},
     "output_type": "execute_result"
    }
   ],
   "execution_count": 21
  },
  {
   "cell_type": "code",
   "metadata": {
    "ExecuteTime": {
     "end_time": "2024-09-06T00:07:08.825022Z",
     "start_time": "2024-09-06T00:07:08.819023Z"
    }
   },
   "source": [
    "homicides_df[\"FECHA\"].min(), homicides_df[\"FECHA\"].max()"
   ],
   "outputs": [
    {
     "data": {
      "text/plain": [
       "(Timestamp('2021-01-01 00:00:00'), Timestamp('2021-12-31 23:58:00'))"
      ]
     },
     "execution_count": 22,
     "metadata": {},
     "output_type": "execute_result"
    }
   ],
   "execution_count": 22
  },
  {
   "cell_type": "markdown",
   "metadata": {},
   "source": [
    "### Fix categorical column"
   ]
  },
  {
   "cell_type": "code",
   "metadata": {
    "ExecuteTime": {
     "end_time": "2024-09-06T00:07:31.113723Z",
     "start_time": "2024-09-06T00:07:31.097722Z"
    }
   },
   "source": [
    "# Creating a dictionary representing the valid departments for Colombia\n",
    "departments_list = ['ANTIOQUIA', 'ATLÁNTICO', 'BOLÍVAR', 'BOYACÁ', 'CALDAS', 'CAQUETÁ',\n",
    "       'CASANARE', 'CAUCA', 'CESAR', 'CHOCÓ', 'CÓRDOBA', 'META',\n",
    "       'CUNDINAMARCA', 'HUILA', 'MAGDALENA', 'NARIÑO', 'PUTUMAYO',\n",
    "       'RISARALDA', 'SANTANDER', 'SUCRE', 'TOLIMA', 'VALLE',\n",
    "       'NORTE DE SANTANDER', 'GUAJIRA', 'QUINDÍO', 'SAN ANDRÉS Y PROVIDENCIA', 'ARAUCA',\n",
    "       'GUAINÍA', 'VICHADA', 'VAUPÉS', 'GUAVIARE', 'AMAZONAS']"
   ],
   "outputs": [],
   "execution_count": 23
  },
  {
   "cell_type": "code",
   "metadata": {
    "ExecuteTime": {
     "end_time": "2024-09-06T00:07:32.955762Z",
     "start_time": "2024-09-06T00:07:32.935764Z"
    }
   },
   "source": [
    "# Finding values not matching with the dictionary\n",
    "homicides_df.loc[~homicides_df[\"DEPARTAMENTO\"].isin(departments_list), \"DEPARTAMENTO\"].unique()"
   ],
   "outputs": [
    {
     "data": {
      "text/plain": [
       "array(['SAN ANDRÉS', 'N. DE SANTANDER'], dtype=object)"
      ]
     },
     "execution_count": 24,
     "metadata": {},
     "output_type": "execute_result"
    }
   ],
   "execution_count": 24
  },
  {
   "cell_type": "markdown",
   "metadata": {},
   "source": [
    "<span style=\"color:red\">TODO: Replace the values identified as error to a valid value from the dictionary.</span>\n",
    "\n",
    "<span style=\"color:red\">Hint: You can use the replace() pandas function.</span>"
   ]
  },
  {
   "cell_type": "code",
   "metadata": {
    "ExecuteTime": {
     "end_time": "2024-09-06T00:07:36.620015Z",
     "start_time": "2024-09-06T00:07:36.609016Z"
    }
   },
   "source": [],
   "outputs": [],
   "execution_count": 24
  },
  {
   "cell_type": "markdown",
   "metadata": {},
   "source": [
    "### Analyze potential duplicates"
   ]
  },
  {
   "cell_type": "code",
   "metadata": {
    "ExecuteTime": {
     "end_time": "2024-09-06T00:07:39.695397Z",
     "start_time": "2024-09-06T00:07:39.675398Z"
    }
   },
   "source": [
    "# Detecting duplicates by \"CÉDULA\" column\n",
    "duplicates_by_cedula = homicides_df.loc[homicides_df[\"CÉDULA\"].duplicated(keep=False)]"
   ],
   "outputs": [],
   "execution_count": 25
  },
  {
   "cell_type": "code",
   "metadata": {
    "ExecuteTime": {
     "end_time": "2024-09-06T00:07:42.426833Z",
     "start_time": "2024-09-06T00:07:42.421833Z"
    }
   },
   "source": [
    "duplicates_by_cedula.shape"
   ],
   "outputs": [
    {
     "data": {
      "text/plain": [
       "(1627, 21)"
      ]
     },
     "execution_count": 26,
     "metadata": {},
     "output_type": "execute_result"
    }
   ],
   "execution_count": 26
  },
  {
   "cell_type": "code",
   "metadata": {
    "ExecuteTime": {
     "end_time": "2024-09-06T00:07:43.550807Z",
     "start_time": "2024-09-06T00:07:43.534807Z"
    }
   },
   "source": [
    "duplicates_by_cedula.sort_values(\"CÉDULA\", ascending=True).head(6)"
   ],
   "outputs": [
    {
     "data": {
      "text/plain": [
       "                    FECHA DEPARTAMENTO      MUNICIPIO      DIA  \\\n",
       "4041  2021-05-03 23:30:00        CAUCA       EL TAMBO  Domingo   \n",
       "3810  2021-04-26 03:00:00    ANTIOQUIA   SAN JERÓNIMO  Domingo   \n",
       "693   2021-01-19 05:30:00    ANTIOQUIA         SALGAR    Lunes   \n",
       "10796 2021-11-20 03:00:00        VALLE      CALI (CT)  Viernes   \n",
       "2386  2021-03-14 02:00:00         META  FUENTE DE ORO   Sábado   \n",
       "138   2021-01-02 06:20:00        CAUCA         SOTARA  Viernes   \n",
       "\n",
       "                    BARRIO    ZONA                      CLASE DE SITIO  \\\n",
       "4041           LA VICTORIA   RURAL         BARES, CANTINAS Y SIMILARES   \n",
       "3810              LA PLAYA  URBANA  HOTELES, RESIDENCIAS, Y SIMILARES.   \n",
       "693              LA HABANA  URBANA                       VIAS PUBLICAS   \n",
       "10796   POTRERO GRANDE E21  URBANA                       VIAS PUBLICAS   \n",
       "2386   VEREDA PUERTO NUEVO   RURAL         BARES, CANTINAS Y SIMILARES   \n",
       "138                 CENTRO   RURAL                       VIAS PUBLICAS   \n",
       "\n",
       "             ARMA O MEDIO MOVIL VICTIMA MOVIL AGRESOR  EDAD     GENERO  \\\n",
       "4041        ARMA DE FUEGO         A PIE         A PIE  45.0  MASCULINO   \n",
       "3810   CUERDA/SOGA/CADENA         A PIE         A PIE  25.0  MASCULINO   \n",
       "693         ARMA DE FUEGO         A PIE         A PIE  58.0  MASCULINO   \n",
       "10796       ARMA DE FUEGO         A PIE         A PIE  21.0  MASCULINO   \n",
       "2386          ARMA BLANCA         A PIE         A PIE  42.0  MASCULINO   \n",
       "138           ARMA BLANCA         A PIE         A PIE  22.0  MASCULINO   \n",
       "\n",
       "      ESTADO CIVIL       CLASE EMPLEADO     PROFESION ESCOLARIDAD PAIS NACE  \\\n",
       "4041   UNION LIBRE           AGRICULTOR  NO REPORTADO    PRIMARIA  COLOMBIA   \n",
       "3810       SOLTERO        INDEPENDIENTE  NO REPORTADO  SECUNDARIA  COLOMBIA   \n",
       "693        SOLTERO           AGRICULTOR  NO REPORTADO    PRIMARIA  COLOMBIA   \n",
       "10796      SOLTERO  EMPLEADO PARTICULAR  NO REPORTADO  SECUNDARIA  COLOMBIA   \n",
       "2386       SOLTERO        INDEPENDIENTE  NO REPORTADO    PRIMARIA  COLOMBIA   \n",
       "138        SOLTERO    EMPLEADO EJERCITO  NO REPORTADO  SECUNDARIA  COLOMBIA   \n",
       "\n",
       "       CODIGO DANE  AÑO DE NACIMIENTO  CÉDULA                      CORREO  \n",
       "4041    19256000.0             1970.0  10-048        aitufn1227@gmail.com  \n",
       "3810     5656000.0             1990.0  10-048  ibbcpu2509@unidatos.edu.co  \n",
       "693      5642000.0               57.0  10-079  unhoqj1172@unidatos.edu.co  \n",
       "10796   76001000.0             1994.0  10-079  iknnoj8430@unidatos.edu.co  \n",
       "2386    50287000.0             1973.0  10-255  afompq7113@unidatos.edu.co  \n",
       "138     19760000.0             1993.0  10-255  cobgqs8819@unidatos.edu.co  "
      ],
      "text/html": [
       "<div>\n",
       "<style scoped>\n",
       "    .dataframe tbody tr th:only-of-type {\n",
       "        vertical-align: middle;\n",
       "    }\n",
       "\n",
       "    .dataframe tbody tr th {\n",
       "        vertical-align: top;\n",
       "    }\n",
       "\n",
       "    .dataframe thead th {\n",
       "        text-align: right;\n",
       "    }\n",
       "</style>\n",
       "<table border=\"1\" class=\"dataframe\">\n",
       "  <thead>\n",
       "    <tr style=\"text-align: right;\">\n",
       "      <th></th>\n",
       "      <th>FECHA</th>\n",
       "      <th>DEPARTAMENTO</th>\n",
       "      <th>MUNICIPIO</th>\n",
       "      <th>DIA</th>\n",
       "      <th>BARRIO</th>\n",
       "      <th>ZONA</th>\n",
       "      <th>CLASE DE SITIO</th>\n",
       "      <th>ARMA O MEDIO</th>\n",
       "      <th>MOVIL VICTIMA</th>\n",
       "      <th>MOVIL AGRESOR</th>\n",
       "      <th>EDAD</th>\n",
       "      <th>GENERO</th>\n",
       "      <th>ESTADO CIVIL</th>\n",
       "      <th>CLASE EMPLEADO</th>\n",
       "      <th>PROFESION</th>\n",
       "      <th>ESCOLARIDAD</th>\n",
       "      <th>PAIS NACE</th>\n",
       "      <th>CODIGO DANE</th>\n",
       "      <th>AÑO DE NACIMIENTO</th>\n",
       "      <th>CÉDULA</th>\n",
       "      <th>CORREO</th>\n",
       "    </tr>\n",
       "  </thead>\n",
       "  <tbody>\n",
       "    <tr>\n",
       "      <th>4041</th>\n",
       "      <td>2021-05-03 23:30:00</td>\n",
       "      <td>CAUCA</td>\n",
       "      <td>EL TAMBO</td>\n",
       "      <td>Domingo</td>\n",
       "      <td>LA VICTORIA</td>\n",
       "      <td>RURAL</td>\n",
       "      <td>BARES, CANTINAS Y SIMILARES</td>\n",
       "      <td>ARMA DE FUEGO</td>\n",
       "      <td>A PIE</td>\n",
       "      <td>A PIE</td>\n",
       "      <td>45.0</td>\n",
       "      <td>MASCULINO</td>\n",
       "      <td>UNION LIBRE</td>\n",
       "      <td>AGRICULTOR</td>\n",
       "      <td>NO REPORTADO</td>\n",
       "      <td>PRIMARIA</td>\n",
       "      <td>COLOMBIA</td>\n",
       "      <td>19256000.0</td>\n",
       "      <td>1970.0</td>\n",
       "      <td>10-048</td>\n",
       "      <td>aitufn1227@gmail.com</td>\n",
       "    </tr>\n",
       "    <tr>\n",
       "      <th>3810</th>\n",
       "      <td>2021-04-26 03:00:00</td>\n",
       "      <td>ANTIOQUIA</td>\n",
       "      <td>SAN JERÓNIMO</td>\n",
       "      <td>Domingo</td>\n",
       "      <td>LA PLAYA</td>\n",
       "      <td>URBANA</td>\n",
       "      <td>HOTELES, RESIDENCIAS, Y SIMILARES.</td>\n",
       "      <td>CUERDA/SOGA/CADENA</td>\n",
       "      <td>A PIE</td>\n",
       "      <td>A PIE</td>\n",
       "      <td>25.0</td>\n",
       "      <td>MASCULINO</td>\n",
       "      <td>SOLTERO</td>\n",
       "      <td>INDEPENDIENTE</td>\n",
       "      <td>NO REPORTADO</td>\n",
       "      <td>SECUNDARIA</td>\n",
       "      <td>COLOMBIA</td>\n",
       "      <td>5656000.0</td>\n",
       "      <td>1990.0</td>\n",
       "      <td>10-048</td>\n",
       "      <td>ibbcpu2509@unidatos.edu.co</td>\n",
       "    </tr>\n",
       "    <tr>\n",
       "      <th>693</th>\n",
       "      <td>2021-01-19 05:30:00</td>\n",
       "      <td>ANTIOQUIA</td>\n",
       "      <td>SALGAR</td>\n",
       "      <td>Lunes</td>\n",
       "      <td>LA HABANA</td>\n",
       "      <td>URBANA</td>\n",
       "      <td>VIAS PUBLICAS</td>\n",
       "      <td>ARMA DE FUEGO</td>\n",
       "      <td>A PIE</td>\n",
       "      <td>A PIE</td>\n",
       "      <td>58.0</td>\n",
       "      <td>MASCULINO</td>\n",
       "      <td>SOLTERO</td>\n",
       "      <td>AGRICULTOR</td>\n",
       "      <td>NO REPORTADO</td>\n",
       "      <td>PRIMARIA</td>\n",
       "      <td>COLOMBIA</td>\n",
       "      <td>5642000.0</td>\n",
       "      <td>57.0</td>\n",
       "      <td>10-079</td>\n",
       "      <td>unhoqj1172@unidatos.edu.co</td>\n",
       "    </tr>\n",
       "    <tr>\n",
       "      <th>10796</th>\n",
       "      <td>2021-11-20 03:00:00</td>\n",
       "      <td>VALLE</td>\n",
       "      <td>CALI (CT)</td>\n",
       "      <td>Viernes</td>\n",
       "      <td>POTRERO GRANDE E21</td>\n",
       "      <td>URBANA</td>\n",
       "      <td>VIAS PUBLICAS</td>\n",
       "      <td>ARMA DE FUEGO</td>\n",
       "      <td>A PIE</td>\n",
       "      <td>A PIE</td>\n",
       "      <td>21.0</td>\n",
       "      <td>MASCULINO</td>\n",
       "      <td>SOLTERO</td>\n",
       "      <td>EMPLEADO PARTICULAR</td>\n",
       "      <td>NO REPORTADO</td>\n",
       "      <td>SECUNDARIA</td>\n",
       "      <td>COLOMBIA</td>\n",
       "      <td>76001000.0</td>\n",
       "      <td>1994.0</td>\n",
       "      <td>10-079</td>\n",
       "      <td>iknnoj8430@unidatos.edu.co</td>\n",
       "    </tr>\n",
       "    <tr>\n",
       "      <th>2386</th>\n",
       "      <td>2021-03-14 02:00:00</td>\n",
       "      <td>META</td>\n",
       "      <td>FUENTE DE ORO</td>\n",
       "      <td>Sábado</td>\n",
       "      <td>VEREDA PUERTO NUEVO</td>\n",
       "      <td>RURAL</td>\n",
       "      <td>BARES, CANTINAS Y SIMILARES</td>\n",
       "      <td>ARMA BLANCA</td>\n",
       "      <td>A PIE</td>\n",
       "      <td>A PIE</td>\n",
       "      <td>42.0</td>\n",
       "      <td>MASCULINO</td>\n",
       "      <td>SOLTERO</td>\n",
       "      <td>INDEPENDIENTE</td>\n",
       "      <td>NO REPORTADO</td>\n",
       "      <td>PRIMARIA</td>\n",
       "      <td>COLOMBIA</td>\n",
       "      <td>50287000.0</td>\n",
       "      <td>1973.0</td>\n",
       "      <td>10-255</td>\n",
       "      <td>afompq7113@unidatos.edu.co</td>\n",
       "    </tr>\n",
       "    <tr>\n",
       "      <th>138</th>\n",
       "      <td>2021-01-02 06:20:00</td>\n",
       "      <td>CAUCA</td>\n",
       "      <td>SOTARA</td>\n",
       "      <td>Viernes</td>\n",
       "      <td>CENTRO</td>\n",
       "      <td>RURAL</td>\n",
       "      <td>VIAS PUBLICAS</td>\n",
       "      <td>ARMA BLANCA</td>\n",
       "      <td>A PIE</td>\n",
       "      <td>A PIE</td>\n",
       "      <td>22.0</td>\n",
       "      <td>MASCULINO</td>\n",
       "      <td>SOLTERO</td>\n",
       "      <td>EMPLEADO EJERCITO</td>\n",
       "      <td>NO REPORTADO</td>\n",
       "      <td>SECUNDARIA</td>\n",
       "      <td>COLOMBIA</td>\n",
       "      <td>19760000.0</td>\n",
       "      <td>1993.0</td>\n",
       "      <td>10-255</td>\n",
       "      <td>cobgqs8819@unidatos.edu.co</td>\n",
       "    </tr>\n",
       "  </tbody>\n",
       "</table>\n",
       "</div>"
      ]
     },
     "execution_count": 27,
     "metadata": {},
     "output_type": "execute_result"
    }
   ],
   "execution_count": 27
  },
  {
   "cell_type": "markdown",
   "metadata": {},
   "source": [
    "<span style=\"color:red\">TODO: Delete records with \"CÉDULA\" duplicated.</span>\n",
    "\n",
    "<span style=\"color:red\">Hint: You can use drop_duplicates() pandas function.</span>"
   ]
  },
  {
   "cell_type": "code",
   "metadata": {
    "ExecuteTime": {
     "end_time": "2024-09-06T00:07:48.493438Z",
     "start_time": "2024-09-06T00:07:48.482439Z"
    }
   },
   "source": [],
   "outputs": [],
   "execution_count": 27
  },
  {
   "cell_type": "markdown",
   "metadata": {},
   "source": [
    "### Fix formats"
   ]
  },
  {
   "cell_type": "code",
   "metadata": {
    "ExecuteTime": {
     "end_time": "2024-09-06T00:07:52.584331Z",
     "start_time": "2024-09-06T00:07:52.556332Z"
    }
   },
   "source": [
    "# Using regular expressions for validating if \"CÉDULA\" values match the pattern XX-XXX\n",
    "cedula_malformed = homicides_df.loc[homicides_df[\"CÉDULA\"].apply(lambda x: (re.match(\"\\d{2}-\\d{3}\", x) is None))]"
   ],
   "outputs": [],
   "execution_count": 28
  },
  {
   "cell_type": "code",
   "metadata": {
    "ExecuteTime": {
     "end_time": "2024-09-06T00:07:55.647910Z",
     "start_time": "2024-09-06T00:07:55.632914Z"
    }
   },
   "source": [
    "cedula_malformed.shape"
   ],
   "outputs": [
    {
     "data": {
      "text/plain": [
       "(28, 21)"
      ]
     },
     "execution_count": 29,
     "metadata": {},
     "output_type": "execute_result"
    }
   ],
   "execution_count": 29
  },
  {
   "cell_type": "code",
   "metadata": {
    "ExecuteTime": {
     "end_time": "2024-09-06T00:07:57.126616Z",
     "start_time": "2024-09-06T00:07:57.110619Z"
    }
   },
   "source": [
    "cedula_malformed.head(6)"
   ],
   "outputs": [
    {
     "data": {
      "text/plain": [
       "                   FECHA DEPARTAMENTO          MUNICIPIO      DIA  \\\n",
       "172  2021-01-03 11:00:00         META            MESETAS   Sábado   \n",
       "1114 2021-02-01 12:30:00    ATLÁNTICO  BARRANQUILLA (CT)  Domingo   \n",
       "2119 2021-03-06 15:30:00        VALLE          CALI (CT)  Viernes   \n",
       "3309 2021-04-11 10:30:00      CAQUETÁ     FLORENCIA (CT)   Sávado   \n",
       "3409 2021-04-13 23:20:00      CÓRDOBA            SAHAGÚN    Lunes   \n",
       "3588 2021-04-19 20:00:00      BOLÍVAR     CARTAGENA (CT)  Domingo   \n",
       "\n",
       "                            BARRIO    ZONA         CLASE DE SITIO  \\\n",
       "172                VEREDA EL CAFRE   RURAL         ZONA SELVÁTICA   \n",
       "1114                        LA LUZ  URBANA          VIAS PUBLICAS   \n",
       "2119           QUINTAS DEL SOL E14  URBANA  DENTRO DE LA VIVIENDA   \n",
       "3309                   VIA MORELIA   RURAL               CARCELES   \n",
       "3409  CORREGIMIENTO DE BAJO GRANDE  URBANA               BILLARES   \n",
       "3588                  LA ESPERANZA  URBANA          VIAS PUBLICAS   \n",
       "\n",
       "          ARMA O MEDIO MOVIL VICTIMA MOVIL AGRESOR  EDAD     GENERO  \\\n",
       "172   MINA ANTIPERSONA         A PIE         A PIE  24.0  MASCULINO   \n",
       "1114     ARMA DE FUEGO         A PIE         A PIE  29.0  MASCULINO   \n",
       "2119       ARMA BLANCA         A PIE         A PIE  20.0   FEMENINO   \n",
       "3309         CORTANTES         A PIE         A PIE  23.0  MASCULINO   \n",
       "3409      CONTUNDENTES         A PIE         A PIE  49.0  MASCULINO   \n",
       "3588     ARMA DE FUEGO         A PIE         A PIE  45.0  MASCULINO   \n",
       "\n",
       "     ESTADO CIVIL       CLASE EMPLEADO     PROFESION   ESCOLARIDAD  \\\n",
       "172       SOLTERO    EMPLEADO EJERCITO  NO REPORTADO    SECUNDARIA   \n",
       "1114      SOLTERO        INDEPENDIENTE  NO REPORTADO      PRIMARIA   \n",
       "2119  UNION LIBRE  EMPLEADO PARTICULAR  NO REPORTADO    SECUNDARIA   \n",
       "3309      SOLTERO        INDEPENDIENTE  NO REPORTADO      PRIMARIA   \n",
       "3409      SOLTERO        INDEPENDIENTE  NO REPORTADO    SECUNDARIA   \n",
       "3588      SOLTERO          DESEMPLEADO  NO REPORTADO  NO REPORTADO   \n",
       "\n",
       "         PAIS NACE  CODIGO DANE  AÑO DE NACIMIENTO  CÉDULA  \\\n",
       "172       COLOMBIA   50330000.0             1991.0  680-21   \n",
       "1114      COLOMBIA    8001000.0             1986.0  140-17   \n",
       "2119      COLOMBIA   76001000.0             1995.0  975-31   \n",
       "3309      COLOMBIA   18001000.0             1992.0  348-66   \n",
       "3409      COLOMBIA   23660000.0             1966.0  496-18   \n",
       "3588  NO REPORTADO   13001000.0             1970.0  188-03   \n",
       "\n",
       "                          CORREO  \n",
       "172         oohghd8899@gmail.com  \n",
       "1114  correo5853@colombia.gov.co  \n",
       "2119  ohbqrk3631@unidatos.edu.co  \n",
       "3309  pdkqur8407@unidatos.edu.co  \n",
       "3409  fdbbeo6751@unidatos.edu.co  \n",
       "3588  diebuo5651@unidatos.edu.co  "
      ],
      "text/html": [
       "<div>\n",
       "<style scoped>\n",
       "    .dataframe tbody tr th:only-of-type {\n",
       "        vertical-align: middle;\n",
       "    }\n",
       "\n",
       "    .dataframe tbody tr th {\n",
       "        vertical-align: top;\n",
       "    }\n",
       "\n",
       "    .dataframe thead th {\n",
       "        text-align: right;\n",
       "    }\n",
       "</style>\n",
       "<table border=\"1\" class=\"dataframe\">\n",
       "  <thead>\n",
       "    <tr style=\"text-align: right;\">\n",
       "      <th></th>\n",
       "      <th>FECHA</th>\n",
       "      <th>DEPARTAMENTO</th>\n",
       "      <th>MUNICIPIO</th>\n",
       "      <th>DIA</th>\n",
       "      <th>BARRIO</th>\n",
       "      <th>ZONA</th>\n",
       "      <th>CLASE DE SITIO</th>\n",
       "      <th>ARMA O MEDIO</th>\n",
       "      <th>MOVIL VICTIMA</th>\n",
       "      <th>MOVIL AGRESOR</th>\n",
       "      <th>EDAD</th>\n",
       "      <th>GENERO</th>\n",
       "      <th>ESTADO CIVIL</th>\n",
       "      <th>CLASE EMPLEADO</th>\n",
       "      <th>PROFESION</th>\n",
       "      <th>ESCOLARIDAD</th>\n",
       "      <th>PAIS NACE</th>\n",
       "      <th>CODIGO DANE</th>\n",
       "      <th>AÑO DE NACIMIENTO</th>\n",
       "      <th>CÉDULA</th>\n",
       "      <th>CORREO</th>\n",
       "    </tr>\n",
       "  </thead>\n",
       "  <tbody>\n",
       "    <tr>\n",
       "      <th>172</th>\n",
       "      <td>2021-01-03 11:00:00</td>\n",
       "      <td>META</td>\n",
       "      <td>MESETAS</td>\n",
       "      <td>Sábado</td>\n",
       "      <td>VEREDA EL CAFRE</td>\n",
       "      <td>RURAL</td>\n",
       "      <td>ZONA SELVÁTICA</td>\n",
       "      <td>MINA ANTIPERSONA</td>\n",
       "      <td>A PIE</td>\n",
       "      <td>A PIE</td>\n",
       "      <td>24.0</td>\n",
       "      <td>MASCULINO</td>\n",
       "      <td>SOLTERO</td>\n",
       "      <td>EMPLEADO EJERCITO</td>\n",
       "      <td>NO REPORTADO</td>\n",
       "      <td>SECUNDARIA</td>\n",
       "      <td>COLOMBIA</td>\n",
       "      <td>50330000.0</td>\n",
       "      <td>1991.0</td>\n",
       "      <td>680-21</td>\n",
       "      <td>oohghd8899@gmail.com</td>\n",
       "    </tr>\n",
       "    <tr>\n",
       "      <th>1114</th>\n",
       "      <td>2021-02-01 12:30:00</td>\n",
       "      <td>ATLÁNTICO</td>\n",
       "      <td>BARRANQUILLA (CT)</td>\n",
       "      <td>Domingo</td>\n",
       "      <td>LA LUZ</td>\n",
       "      <td>URBANA</td>\n",
       "      <td>VIAS PUBLICAS</td>\n",
       "      <td>ARMA DE FUEGO</td>\n",
       "      <td>A PIE</td>\n",
       "      <td>A PIE</td>\n",
       "      <td>29.0</td>\n",
       "      <td>MASCULINO</td>\n",
       "      <td>SOLTERO</td>\n",
       "      <td>INDEPENDIENTE</td>\n",
       "      <td>NO REPORTADO</td>\n",
       "      <td>PRIMARIA</td>\n",
       "      <td>COLOMBIA</td>\n",
       "      <td>8001000.0</td>\n",
       "      <td>1986.0</td>\n",
       "      <td>140-17</td>\n",
       "      <td>correo5853@colombia.gov.co</td>\n",
       "    </tr>\n",
       "    <tr>\n",
       "      <th>2119</th>\n",
       "      <td>2021-03-06 15:30:00</td>\n",
       "      <td>VALLE</td>\n",
       "      <td>CALI (CT)</td>\n",
       "      <td>Viernes</td>\n",
       "      <td>QUINTAS DEL SOL E14</td>\n",
       "      <td>URBANA</td>\n",
       "      <td>DENTRO DE LA VIVIENDA</td>\n",
       "      <td>ARMA BLANCA</td>\n",
       "      <td>A PIE</td>\n",
       "      <td>A PIE</td>\n",
       "      <td>20.0</td>\n",
       "      <td>FEMENINO</td>\n",
       "      <td>UNION LIBRE</td>\n",
       "      <td>EMPLEADO PARTICULAR</td>\n",
       "      <td>NO REPORTADO</td>\n",
       "      <td>SECUNDARIA</td>\n",
       "      <td>COLOMBIA</td>\n",
       "      <td>76001000.0</td>\n",
       "      <td>1995.0</td>\n",
       "      <td>975-31</td>\n",
       "      <td>ohbqrk3631@unidatos.edu.co</td>\n",
       "    </tr>\n",
       "    <tr>\n",
       "      <th>3309</th>\n",
       "      <td>2021-04-11 10:30:00</td>\n",
       "      <td>CAQUETÁ</td>\n",
       "      <td>FLORENCIA (CT)</td>\n",
       "      <td>Sávado</td>\n",
       "      <td>VIA MORELIA</td>\n",
       "      <td>RURAL</td>\n",
       "      <td>CARCELES</td>\n",
       "      <td>CORTANTES</td>\n",
       "      <td>A PIE</td>\n",
       "      <td>A PIE</td>\n",
       "      <td>23.0</td>\n",
       "      <td>MASCULINO</td>\n",
       "      <td>SOLTERO</td>\n",
       "      <td>INDEPENDIENTE</td>\n",
       "      <td>NO REPORTADO</td>\n",
       "      <td>PRIMARIA</td>\n",
       "      <td>COLOMBIA</td>\n",
       "      <td>18001000.0</td>\n",
       "      <td>1992.0</td>\n",
       "      <td>348-66</td>\n",
       "      <td>pdkqur8407@unidatos.edu.co</td>\n",
       "    </tr>\n",
       "    <tr>\n",
       "      <th>3409</th>\n",
       "      <td>2021-04-13 23:20:00</td>\n",
       "      <td>CÓRDOBA</td>\n",
       "      <td>SAHAGÚN</td>\n",
       "      <td>Lunes</td>\n",
       "      <td>CORREGIMIENTO DE BAJO GRANDE</td>\n",
       "      <td>URBANA</td>\n",
       "      <td>BILLARES</td>\n",
       "      <td>CONTUNDENTES</td>\n",
       "      <td>A PIE</td>\n",
       "      <td>A PIE</td>\n",
       "      <td>49.0</td>\n",
       "      <td>MASCULINO</td>\n",
       "      <td>SOLTERO</td>\n",
       "      <td>INDEPENDIENTE</td>\n",
       "      <td>NO REPORTADO</td>\n",
       "      <td>SECUNDARIA</td>\n",
       "      <td>COLOMBIA</td>\n",
       "      <td>23660000.0</td>\n",
       "      <td>1966.0</td>\n",
       "      <td>496-18</td>\n",
       "      <td>fdbbeo6751@unidatos.edu.co</td>\n",
       "    </tr>\n",
       "    <tr>\n",
       "      <th>3588</th>\n",
       "      <td>2021-04-19 20:00:00</td>\n",
       "      <td>BOLÍVAR</td>\n",
       "      <td>CARTAGENA (CT)</td>\n",
       "      <td>Domingo</td>\n",
       "      <td>LA ESPERANZA</td>\n",
       "      <td>URBANA</td>\n",
       "      <td>VIAS PUBLICAS</td>\n",
       "      <td>ARMA DE FUEGO</td>\n",
       "      <td>A PIE</td>\n",
       "      <td>A PIE</td>\n",
       "      <td>45.0</td>\n",
       "      <td>MASCULINO</td>\n",
       "      <td>SOLTERO</td>\n",
       "      <td>DESEMPLEADO</td>\n",
       "      <td>NO REPORTADO</td>\n",
       "      <td>NO REPORTADO</td>\n",
       "      <td>NO REPORTADO</td>\n",
       "      <td>13001000.0</td>\n",
       "      <td>1970.0</td>\n",
       "      <td>188-03</td>\n",
       "      <td>diebuo5651@unidatos.edu.co</td>\n",
       "    </tr>\n",
       "  </tbody>\n",
       "</table>\n",
       "</div>"
      ]
     },
     "execution_count": 30,
     "metadata": {},
     "output_type": "execute_result"
    }
   ],
   "execution_count": 30
  },
  {
   "cell_type": "markdown",
   "metadata": {},
   "source": [
    "<span style=\"color:red\">TODO: Fix the malformed \"CÉDULA\" values.</span>\n",
    "\n",
    "<span style=\"color:red\">Assume that the third digit in the first part corresponds to the first one in the second part.</span>"
   ]
  },
  {
   "cell_type": "code",
   "metadata": {
    "ExecuteTime": {
     "end_time": "2024-09-06T00:08:00.147581Z",
     "start_time": "2024-09-06T00:08:00.128647Z"
    }
   },
   "source": [],
   "outputs": [],
   "execution_count": 30
  },
  {
   "cell_type": "markdown",
   "metadata": {},
   "source": [
    "<span style=\"color:red\">TODO:Check the \"CORREO\" column (PATTERN: 4 digits before the @, only .edu.co and .com domains are allowed)</span>"
   ]
  },
  {
   "cell_type": "code",
   "execution_count": null,
   "metadata": {},
   "outputs": [],
   "source": []
  },
  {
   "cell_type": "markdown",
   "metadata": {},
   "source": [
    "### Automate imputation of categorical values"
   ]
  },
  {
   "cell_type": "code",
   "execution_count": null,
   "metadata": {},
   "outputs": [],
   "source": [
    "homicides_df[\"DIA\"].unique()"
   ]
  },
  {
   "cell_type": "code",
   "execution_count": null,
   "metadata": {},
   "outputs": [],
   "source": [
    "# Calculating the distance between two words using the Levenshtein distance\n",
    "print(distance(\"sábado\", \"sabaod\"))\n",
    "print(distance(\"sábado\", \"viernes\"))"
   ]
  },
  {
   "cell_type": "code",
   "execution_count": null,
   "metadata": {},
   "outputs": [],
   "source": [
    "print(ratio(\"sábado\", \"sabaod\"))\n",
    "print(ratio(\"sábado\", \"viernes\"))"
   ]
  },
  {
   "cell_type": "markdown",
   "metadata": {},
   "source": [
    "<span style=\"color:red\">TODO: Create a function to automatically fix the digitation errors for the \"DIA\" column.</span>"
   ]
  },
  {
   "cell_type": "code",
   "execution_count": null,
   "metadata": {},
   "outputs": [],
   "source": []
  },
  {
   "cell_type": "code",
   "execution_count": null,
   "metadata": {},
   "outputs": [],
   "source": [
    "# It's expected to hava a list with only 7 values\n",
    "homicides_df[\"DIA\"].unique()"
   ]
  },
  {
   "cell_type": "markdown",
   "metadata": {},
   "source": [
    "### Recalculate based on a different column"
   ]
  },
  {
   "cell_type": "code",
   "execution_count": null,
   "metadata": {},
   "outputs": [],
   "source": [
    "homicides_df[[\"AÑO DE NACIMIENTO\", \"EDAD\"]].sample(10)"
   ]
  },
  {
   "cell_type": "markdown",
   "metadata": {},
   "source": [
    "<span style=\"color:red\">TODO: Fix \"EDAD\" column using \"AÑO DE NACIMIENTO\".</span>"
   ]
  },
  {
   "cell_type": "code",
   "execution_count": null,
   "metadata": {},
   "outputs": [],
   "source": []
  },
  {
   "cell_type": "markdown",
   "metadata": {},
   "source": [
    "### Conclusion\n",
    "\n",
    "<span style=\"color:red\">Make a summary of the different data quality issues found on the dataset, the data quality dimension that is related to and the implemented strategy for solving or mitigating each issue.</span>"
   ]
  },
  {
   "cell_type": "code",
   "execution_count": null,
   "metadata": {},
   "outputs": [],
   "source": []
  }
 ],
 "metadata": {
  "kernelspec": {
   "display_name": "Python 3 (ipykernel)",
   "language": "python",
   "name": "python3"
  },
  "language_info": {
   "codemirror_mode": {
    "name": "ipython",
    "version": 3
   },
   "file_extension": ".py",
   "mimetype": "text/x-python",
   "name": "python",
   "nbconvert_exporter": "python",
   "pygments_lexer": "ipython3",
   "version": "3.11.7"
  }
 },
 "nbformat": 4,
 "nbformat_minor": 4
}
